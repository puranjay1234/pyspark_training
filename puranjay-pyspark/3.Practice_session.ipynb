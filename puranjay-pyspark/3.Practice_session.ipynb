{
  "cells": [
    {
      "cell_type": "code",
      "execution_count": null,
      "metadata": {
        "colab": {
          "base_uri": "https://localhost:8080/",
          "height": 221
        },
        "id": "tYhDC9OPgFjJ",
        "outputId": "35adeaa1-83b4-4dc5-f802-0fb77dbe355e"
      },
      "outputs": [
        {
          "data": {
            "text/html": [
              "\n",
              "            <div>\n",
              "                <p><b>SparkSession - in-memory</b></p>\n",
              "                \n",
              "        <div>\n",
              "            <p><b>SparkContext</b></p>\n",
              "\n",
              "            <p><a href=\"http://f2eb2d21e738:4040\">Spark UI</a></p>\n",
              "\n",
              "            <dl>\n",
              "              <dt>Version</dt>\n",
              "                <dd><code>v3.1.1</code></dd>\n",
              "              <dt>Master</dt>\n",
              "                <dd><code>local[*]</code></dd>\n",
              "              <dt>AppName</dt>\n",
              "                <dd><code>pyspark-shell</code></dd>\n",
              "            </dl>\n",
              "        </div>\n",
              "        \n",
              "            </div>\n",
              "        "
            ],
            "text/plain": [
              "<pyspark.sql.session.SparkSession at 0x7c264db0f0d0>"
            ]
          },
          "execution_count": 1,
          "metadata": {},
          "output_type": "execute_result"
        }
      ],
      "source": [
        "!apt-get install openjdk-8-jdk-headless -qq > /dev/null\n",
        "!wget -q http://archive.apache.org/dist/spark/spark-3.1.1/spark-3.1.1-bin-hadoop3.2.tgz\n",
        "!tar xf spark-3.1.1-bin-hadoop3.2.tgz\n",
        "!pip install -q findspark\n",
        "import os\n",
        "os.environ[\"JAVA_HOME\"] = \"/usr/lib/jvm/java-8-openjdk-amd64\"\n",
        "os.environ[\"SPARK_HOME\"] = \"/content/spark-3.1.1-bin-hadoop3.2\"\n",
        "import findspark\n",
        "findspark.init()\n",
        "from pyspark.sql import SparkSession\n",
        "spark = SparkSession.builder.master(\"local[*]\").getOrCreate()\n",
        "spark"
      ]
    },
    {
      "cell_type": "code",
      "execution_count": null,
      "metadata": {
        "id": "Gn77pPBEgH7v"
      },
      "outputs": [],
      "source": [
        "from pyspark.sql.types import *\n",
        "schema = StructType(\n",
        "    [\n",
        "      StructField('Name',StringType()),\n",
        "      StructField('Roll',IntegerType()),\n",
        "      StructField('Batch',StringType()),\n",
        "    ]\n",
        ")"
      ]
    },
    {
      "cell_type": "code",
      "execution_count": null,
      "metadata": {
        "colab": {
          "base_uri": "https://localhost:8080/"
        },
        "id": "jbEDPbp4gmgF",
        "outputId": "f4a4d3f8-b18c-446a-bb3b-1152691bb681"
      },
      "outputs": [
        {
          "name": "stdout",
          "output_type": "stream",
          "text": [
            "+-------+----+-----+\n",
            "|   Name|Roll|Batch|\n",
            "+-------+----+-----+\n",
            "|Vinayak|   1|  CSE|\n",
            "|   Neel|   2| CSIT|\n",
            "|     PK|   3|  CSE|\n",
            "|     PK|   3|  CSE|\n",
            "+-------+----+-----+\n",
            "\n",
            "root\n",
            " |-- Name: string (nullable = true)\n",
            " |-- Roll: integer (nullable = true)\n",
            " |-- Batch: string (nullable = true)\n",
            "\n"
          ]
        },
        {
          "data": {
            "text/plain": [
              "(None, None)"
            ]
          },
          "execution_count": 47,
          "metadata": {},
          "output_type": "execute_result"
        }
      ],
      "source": [
        "data = [\n",
        "    (\"Vinayak\",1,\"CSE\"),\n",
        "    (\"Neel\",2,\"CSIT\"),\n",
        "    (\"PK\",3,\"CSE\"),\n",
        "    (\"PK\",3,\"CSE\")\n",
        "]\n",
        "\n",
        "df = spark.createDataFrame(data = data, schema = schema)\n",
        "df.show(),df.printSchema()"
      ]
    },
    {
      "cell_type": "code",
      "execution_count": null,
      "metadata": {
        "colab": {
          "base_uri": "https://localhost:8080/"
        },
        "id": "llmf21MahJSm",
        "outputId": "aa6e2dd1-5a8f-48dc-bf0a-1e15175d6b46"
      },
      "outputs": [
        {
          "data": {
            "text/plain": [
              "(4, 3)"
            ]
          },
          "execution_count": 48,
          "metadata": {},
          "output_type": "execute_result"
        }
      ],
      "source": [
        "df.count(),df.dropDuplicates().count()"
      ]
    },
    {
      "cell_type": "code",
      "execution_count": null,
      "metadata": {
        "colab": {
          "base_uri": "https://localhost:8080/"
        },
        "id": "xjxgZ2RPXqgY",
        "outputId": "e2254b55-6039-4aea-e2cd-1300312823da"
      },
      "outputs": [
        {
          "name": "stdout",
          "output_type": "stream",
          "text": [
            "+-------+----+-----+\n",
            "|   Name|Roll|Batch|\n",
            "+-------+----+-----+\n",
            "|     PK|   3|  CSE|\n",
            "|Vinayak|   1|  CSE|\n",
            "|   Neel|   2| CSIT|\n",
            "+-------+----+-----+\n",
            "\n"
          ]
        }
      ],
      "source": [
        "df.distinct().show()"
      ]
    },
    {
      "cell_type": "code",
      "execution_count": null,
      "metadata": {
        "colab": {
          "base_uri": "https://localhost:8080/"
        },
        "id": "Q9clps72X1VT",
        "outputId": "8b33556c-534d-4dbd-9776-de4b104a0aad"
      },
      "outputs": [
        {
          "name": "stdout",
          "output_type": "stream",
          "text": [
            "+-------+-----+\n",
            "|   Name|batch|\n",
            "+-------+-----+\n",
            "|Vinayak|  CSE|\n",
            "|   Neel| CSIT|\n",
            "|     PK|  CSE|\n",
            "|     PK|  CSE|\n",
            "+-------+-----+\n",
            "\n"
          ]
        }
      ],
      "source": [
        "df.select(\"Name\", \"batch\").show()"
      ]
    },
    {
      "cell_type": "code",
      "execution_count": null,
      "metadata": {
        "id": "XcT_cJ6RYJEX"
      },
      "outputs": [],
      "source": []
    },
    {
      "cell_type": "code",
      "execution_count": null,
      "metadata": {
        "colab": {
          "base_uri": "https://localhost:8080/"
        },
        "id": "Qqmfv00dhR0g",
        "outputId": "b77cf57d-e4b0-4101-80aa-648c590d7186"
      },
      "outputs": [
        {
          "name": "stdout",
          "output_type": "stream",
          "text": [
            "+-------+-------+---+\n",
            "|   Name|Surname| Id|\n",
            "+-------+-------+---+\n",
            "|Vinayak|    Rao|001|\n",
            "|      R|    Rao|002|\n",
            "+-------+-------+---+\n",
            "\n"
          ]
        }
      ],
      "source": [
        "df = spark.read.option('header','True').option(\"delimiter\",\"|\").csv(\"/content/Raw.txt\")\n",
        "df.show()"
      ]
    },
    {
      "cell_type": "code",
      "execution_count": null,
      "metadata": {
        "colab": {
          "base_uri": "https://localhost:8080/"
        },
        "id": "rwBqemfbIFg6",
        "outputId": "74265653-2673-4ceb-dd84-5630e65e782b"
      },
      "outputs": [
        {
          "name": "stdout",
          "output_type": "stream",
          "text": [
            "+-------+-------+---+\n",
            "|   Name|Surname| Id|\n",
            "+-------+-------+---+\n",
            "|Vinayak|    Rao|001|\n",
            "|      R|    Rao|002|\n",
            "+-------+-------+---+\n",
            "\n"
          ]
        }
      ],
      "source": [
        "df = spark.read.option('header','True').option('delimiter','|').text('/content/Raw.txt')\n",
        "df.show()"
      ]
    },
    {
      "cell_type": "code",
      "execution_count": null,
      "metadata": {
        "colab": {
          "base_uri": "https://localhost:8080/"
        },
        "id": "dAFnI_VjIfAR",
        "outputId": "c13121b0-779c-4b41-8eef-6197573c5afd"
      },
      "outputs": [
        {
          "name": "stdout",
          "output_type": "stream",
          "text": [
            "root\n",
            " |-- Name: string (nullable = true)\n",
            " |-- Surname: string (nullable = true)\n",
            " |-- Id: string (nullable = true)\n",
            "\n",
            "root\n",
            " |-- Name: string (nullable = true)\n",
            " |-- Surname: string (nullable = true)\n",
            " |-- Id: integer (nullable = true)\n",
            "\n"
          ]
        }
      ],
      "source": [
        "df.printSchema()\n",
        "df2 = df.withColumn(\"Name\",df[\"Name\"] .cast('Varchar(20)')).withColumn(\"Id\",df[\"Id\"] .cast('integer'))\n",
        "df2.printSchema()"
      ]
    },
    {
      "cell_type": "code",
      "execution_count": null,
      "metadata": {
        "colab": {
          "base_uri": "https://localhost:8080/"
        },
        "id": "uFEchfRGRdIT",
        "outputId": "a233e1eb-da4d-45df-eba0-94e46d5f7931"
      },
      "outputs": [
        {
          "data": {
            "text/plain": [
              "StructType(List(StructField(Name,StringType,true),StructField(Surname,StringType,true),StructField(Id,StringType,true)))"
            ]
          },
          "execution_count": 30,
          "metadata": {},
          "output_type": "execute_result"
        }
      ],
      "source": [
        "df.schema"
      ]
    },
    {
      "cell_type": "code",
      "execution_count": null,
      "metadata": {
        "colab": {
          "base_uri": "https://localhost:8080/"
        },
        "id": "8mHWkIJrVcEZ",
        "outputId": "de8b09ee-2c6f-41be-d983-cb2548059185"
      },
      "outputs": [
        {
          "data": {
            "text/plain": [
              "['Name', 'Surname', 'Id']"
            ]
          },
          "execution_count": 31,
          "metadata": {},
          "output_type": "execute_result"
        }
      ],
      "source": [
        "df.columns"
      ]
    },
    {
      "cell_type": "code",
      "execution_count": null,
      "metadata": {
        "colab": {
          "base_uri": "https://localhost:8080/"
        },
        "id": "y7I25d_uV5FB",
        "outputId": "acf59f1b-82ac-4beb-a658-14e4a8ef4ff5"
      },
      "outputs": [
        {
          "data": {
            "text/plain": [
              "17000"
            ]
          },
          "execution_count": 43,
          "metadata": {},
          "output_type": "execute_result"
        }
      ],
      "source": [
        "df = spark.read.option('header','True').csv(\"/content/sample_data/california_housing_train.csv\")\n",
        "df.count()"
      ]
    },
    {
      "cell_type": "code",
      "execution_count": null,
      "metadata": {
        "colab": {
          "base_uri": "https://localhost:8080/"
        },
        "id": "kXvZQtVkWRC-",
        "outputId": "efe476fb-930a-4353-97d8-7ffe41bcf05c"
      },
      "outputs": [
        {
          "name": "stdout",
          "output_type": "stream",
          "text": [
            "+-----------+---------+------------------+-----------+--------------+-----------+-----------+-------------+------------------+\n",
            "|longitude  |latitude |housing_median_age|total_rooms|total_bedrooms|population |households |median_income|median_house_value|\n",
            "+-----------+---------+------------------+-----------+--------------+-----------+-----------+-------------+------------------+\n",
            "|-114.310000|34.190000|15.000000         |5612.000000|1283.000000   |1015.000000|472.000000 |1.493600     |66900.000000      |\n",
            "|-114.470000|34.400000|19.000000         |7650.000000|1901.000000   |1129.000000|463.000000 |1.820000     |80100.000000      |\n",
            "|-114.560000|33.690000|17.000000         |720.000000 |174.000000    |333.000000 |117.000000 |1.650900     |85700.000000      |\n",
            "|-114.570000|33.640000|14.000000         |1501.000000|337.000000    |515.000000 |226.000000 |3.191700     |73400.000000      |\n",
            "|-114.570000|33.570000|20.000000         |1454.000000|326.000000    |624.000000 |262.000000 |1.925000     |65500.000000      |\n",
            "|-114.580000|33.630000|29.000000         |1387.000000|236.000000    |671.000000 |239.000000 |3.343800     |74000.000000      |\n",
            "|-114.580000|33.610000|25.000000         |2907.000000|680.000000    |1841.000000|633.000000 |2.676800     |82400.000000      |\n",
            "|-114.590000|34.830000|41.000000         |812.000000 |168.000000    |375.000000 |158.000000 |1.708300     |48500.000000      |\n",
            "|-114.590000|33.610000|34.000000         |4789.000000|1175.000000   |3134.000000|1056.000000|2.178200     |58400.000000      |\n",
            "|-114.600000|34.830000|46.000000         |1497.000000|309.000000    |787.000000 |271.000000 |2.190800     |48100.000000      |\n",
            "+-----------+---------+------------------+-----------+--------------+-----------+-----------+-------------+------------------+\n",
            "only showing top 10 rows\n",
            "\n"
          ]
        }
      ],
      "source": [
        "df.show(10,truncate=False)"
      ]
    },
    {
      "cell_type": "code",
      "execution_count": null,
      "metadata": {
        "colab": {
          "base_uri": "https://localhost:8080/"
        },
        "id": "meiBlOszWxVX",
        "outputId": "907d9a1a-7460-4c74-90e9-fa1e7f3f31fe"
      },
      "outputs": [
        {
          "name": "stdout",
          "output_type": "stream",
          "text": [
            "+-----------+---------+------------------+-----------+--------------+-----------+-----------+-------------+------------------+\n",
            "|  longitude| latitude|housing_median_age|total_rooms|total_bedrooms| population| households|median_income|median_house_value|\n",
            "+-----------+---------+------------------+-----------+--------------+-----------+-----------+-------------+------------------+\n",
            "|-114.310000|34.190000|         15.000000|5612.000000|   1283.000000|1015.000000| 472.000000|     1.493600|      66900.000000|\n",
            "|-114.470000|34.400000|         19.000000|7650.000000|   1901.000000|1129.000000| 463.000000|     1.820000|      80100.000000|\n",
            "|-114.560000|33.690000|         17.000000| 720.000000|    174.000000| 333.000000| 117.000000|     1.650900|      85700.000000|\n",
            "|-114.570000|33.640000|         14.000000|1501.000000|    337.000000| 515.000000| 226.000000|     3.191700|      73400.000000|\n",
            "|-114.570000|33.570000|         20.000000|1454.000000|    326.000000| 624.000000| 262.000000|     1.925000|      65500.000000|\n",
            "|-114.580000|33.630000|         29.000000|1387.000000|    236.000000| 671.000000| 239.000000|     3.343800|      74000.000000|\n",
            "|-114.580000|33.610000|         25.000000|2907.000000|    680.000000|1841.000000| 633.000000|     2.676800|      82400.000000|\n",
            "|-114.590000|34.830000|         41.000000| 812.000000|    168.000000| 375.000000| 158.000000|     1.708300|      48500.000000|\n",
            "|-114.590000|33.610000|         34.000000|4789.000000|   1175.000000|3134.000000|1056.000000|     2.178200|      58400.000000|\n",
            "|-114.600000|34.830000|         46.000000|1497.000000|    309.000000| 787.000000| 271.000000|     2.190800|      48100.000000|\n",
            "+-----------+---------+------------------+-----------+--------------+-----------+-----------+-------------+------------------+\n",
            "only showing top 10 rows\n",
            "\n"
          ]
        }
      ],
      "source": [
        "df.show(10,truncate=True)"
      ]
    },
    {
      "cell_type": "code",
      "execution_count": null,
      "metadata": {
        "colab": {
          "base_uri": "https://localhost:8080/"
        },
        "id": "QJO-ZmhHXBxY",
        "outputId": "7b13dde9-3d04-4358-8830-19eb02a64fba"
      },
      "outputs": [
        {
          "data": {
            "text/plain": [
              "17000"
            ]
          },
          "execution_count": 46,
          "metadata": {},
          "output_type": "execute_result"
        }
      ],
      "source": [
        "df.dropDuplicates().count()"
      ]
    },
    {
      "cell_type": "markdown",
      "metadata": {
        "id": "FB3f4ilhyXOQ"
      },
      "source": [
        "### ***19th February***"
      ]
    },
    {
      "cell_type": "code",
      "execution_count": null,
      "metadata": {
        "id": "83hmi1prXQoQ"
      },
      "outputs": [],
      "source": [
        "import json\n",
        "data = {\n",
        "    \"array\": [\n",
        "      1,\n",
        "      2,\n",
        "      3\n",
        "    ],\n",
        "    \"boolean\": True,\n",
        "    \"color\": \"gold\",\n",
        "    \"number\": 123,\n",
        "    \"object\": {\n",
        "      \"a\": \"b\",\n",
        "      \"c\": \"d\"\n",
        "    },\n",
        "    \"string\": \"Hello World\"\n",
        "  }\n",
        "\n",
        "\n",
        "# data {\n",
        "#     \"fruit\": \"Apple\",\n",
        "#     \"size\": \"Large\",\n",
        "#     \"color\": \"Red\"\n",
        "# }\n",
        "\n",
        "json_object = json.dumps(data, indent=4)\n",
        "with open(\"sample.json\", \"w\") as outfile:\n",
        "    outfile.write(json_object)"
      ]
    },
    {
      "cell_type": "code",
      "execution_count": null,
      "metadata": {
        "colab": {
          "base_uri": "https://localhost:8080/",
          "height": 517
        },
        "id": "Jxhl_fJFyv4f",
        "outputId": "7e5ec29a-52e3-4ac6-8f55-e31564d5c666"
      },
      "outputs": [
        {
          "name": "stdout",
          "output_type": "stream",
          "text": [
            "root\n",
            " |-- _corrupt_record: string (nullable = true)\n",
            "\n"
          ]
        },
        {
          "ename": "AnalysisException",
          "evalue": "Since Spark 2.3, the queries from raw JSON/CSV files are disallowed when the\nreferenced columns only include the internal corrupt record column\n(named _corrupt_record by default). For example:\nspark.read.schema(schema).json(file).filter($\"_corrupt_record\".isNotNull).count()\nand spark.read.schema(schema).json(file).select(\"_corrupt_record\").show().\nInstead, you can cache or save the parsed results and then send the same query.\nFor example, val df = spark.read.schema(schema).json(file).cache() and then\ndf.filter($\"_corrupt_record\".isNotNull).count().",
          "output_type": "error",
          "traceback": [
            "\u001b[0;31m---------------------------------------------------------------------------\u001b[0m",
            "\u001b[0;31mAnalysisException\u001b[0m                         Traceback (most recent call last)",
            "\u001b[0;32m<ipython-input-18-0bd79aae0324>\u001b[0m in \u001b[0;36m<cell line: 3>\u001b[0;34m()\u001b[0m\n\u001b[1;32m      1\u001b[0m \u001b[0mdf\u001b[0m \u001b[0;34m=\u001b[0m \u001b[0mspark\u001b[0m\u001b[0;34m.\u001b[0m\u001b[0mread\u001b[0m\u001b[0;34m.\u001b[0m\u001b[0mjson\u001b[0m\u001b[0;34m(\u001b[0m\u001b[0;34m\"sample.json\"\u001b[0m\u001b[0;34m)\u001b[0m\u001b[0;34m\u001b[0m\u001b[0;34m\u001b[0m\u001b[0m\n\u001b[1;32m      2\u001b[0m \u001b[0mdf\u001b[0m\u001b[0;34m.\u001b[0m\u001b[0mprintSchema\u001b[0m\u001b[0;34m(\u001b[0m\u001b[0;34m)\u001b[0m\u001b[0;34m\u001b[0m\u001b[0;34m\u001b[0m\u001b[0m\n\u001b[0;32m----> 3\u001b[0;31m \u001b[0mdf\u001b[0m\u001b[0;34m.\u001b[0m\u001b[0mshow\u001b[0m\u001b[0;34m(\u001b[0m\u001b[0;34m)\u001b[0m\u001b[0;34m\u001b[0m\u001b[0;34m\u001b[0m\u001b[0m\n\u001b[0m",
            "\u001b[0;32m/content/spark-3.1.1-bin-hadoop3.2/python/pyspark/sql/dataframe.py\u001b[0m in \u001b[0;36mshow\u001b[0;34m(self, n, truncate, vertical)\u001b[0m\n\u001b[1;32m    482\u001b[0m         \"\"\"\n\u001b[1;32m    483\u001b[0m         \u001b[0;32mif\u001b[0m \u001b[0misinstance\u001b[0m\u001b[0;34m(\u001b[0m\u001b[0mtruncate\u001b[0m\u001b[0;34m,\u001b[0m \u001b[0mbool\u001b[0m\u001b[0;34m)\u001b[0m \u001b[0;32mand\u001b[0m \u001b[0mtruncate\u001b[0m\u001b[0;34m:\u001b[0m\u001b[0;34m\u001b[0m\u001b[0;34m\u001b[0m\u001b[0m\n\u001b[0;32m--> 484\u001b[0;31m             \u001b[0mprint\u001b[0m\u001b[0;34m(\u001b[0m\u001b[0mself\u001b[0m\u001b[0;34m.\u001b[0m\u001b[0m_jdf\u001b[0m\u001b[0;34m.\u001b[0m\u001b[0mshowString\u001b[0m\u001b[0;34m(\u001b[0m\u001b[0mn\u001b[0m\u001b[0;34m,\u001b[0m \u001b[0;36m20\u001b[0m\u001b[0;34m,\u001b[0m \u001b[0mvertical\u001b[0m\u001b[0;34m)\u001b[0m\u001b[0;34m)\u001b[0m\u001b[0;34m\u001b[0m\u001b[0;34m\u001b[0m\u001b[0m\n\u001b[0m\u001b[1;32m    485\u001b[0m         \u001b[0;32melse\u001b[0m\u001b[0;34m:\u001b[0m\u001b[0;34m\u001b[0m\u001b[0;34m\u001b[0m\u001b[0m\n\u001b[1;32m    486\u001b[0m             \u001b[0mprint\u001b[0m\u001b[0;34m(\u001b[0m\u001b[0mself\u001b[0m\u001b[0;34m.\u001b[0m\u001b[0m_jdf\u001b[0m\u001b[0;34m.\u001b[0m\u001b[0mshowString\u001b[0m\u001b[0;34m(\u001b[0m\u001b[0mn\u001b[0m\u001b[0;34m,\u001b[0m \u001b[0mint\u001b[0m\u001b[0;34m(\u001b[0m\u001b[0mtruncate\u001b[0m\u001b[0;34m)\u001b[0m\u001b[0;34m,\u001b[0m \u001b[0mvertical\u001b[0m\u001b[0;34m)\u001b[0m\u001b[0;34m)\u001b[0m\u001b[0;34m\u001b[0m\u001b[0;34m\u001b[0m\u001b[0m\n",
            "\u001b[0;32m/content/spark-3.1.1-bin-hadoop3.2/python/lib/py4j-0.10.9-src.zip/py4j/java_gateway.py\u001b[0m in \u001b[0;36m__call__\u001b[0;34m(self, *args)\u001b[0m\n\u001b[1;32m   1302\u001b[0m \u001b[0;34m\u001b[0m\u001b[0m\n\u001b[1;32m   1303\u001b[0m         \u001b[0manswer\u001b[0m \u001b[0;34m=\u001b[0m \u001b[0mself\u001b[0m\u001b[0;34m.\u001b[0m\u001b[0mgateway_client\u001b[0m\u001b[0;34m.\u001b[0m\u001b[0msend_command\u001b[0m\u001b[0;34m(\u001b[0m\u001b[0mcommand\u001b[0m\u001b[0;34m)\u001b[0m\u001b[0;34m\u001b[0m\u001b[0;34m\u001b[0m\u001b[0m\n\u001b[0;32m-> 1304\u001b[0;31m         return_value = get_return_value(\n\u001b[0m\u001b[1;32m   1305\u001b[0m             answer, self.gateway_client, self.target_id, self.name)\n\u001b[1;32m   1306\u001b[0m \u001b[0;34m\u001b[0m\u001b[0m\n",
            "\u001b[0;32m/content/spark-3.1.1-bin-hadoop3.2/python/pyspark/sql/utils.py\u001b[0m in \u001b[0;36mdeco\u001b[0;34m(*a, **kw)\u001b[0m\n\u001b[1;32m    115\u001b[0m                 \u001b[0;31m# Hide where the exception came from that shows a non-Pythonic\u001b[0m\u001b[0;34m\u001b[0m\u001b[0;34m\u001b[0m\u001b[0m\n\u001b[1;32m    116\u001b[0m                 \u001b[0;31m# JVM exception message.\u001b[0m\u001b[0;34m\u001b[0m\u001b[0;34m\u001b[0m\u001b[0m\n\u001b[0;32m--> 117\u001b[0;31m                 \u001b[0;32mraise\u001b[0m \u001b[0mconverted\u001b[0m \u001b[0;32mfrom\u001b[0m \u001b[0;32mNone\u001b[0m\u001b[0;34m\u001b[0m\u001b[0;34m\u001b[0m\u001b[0m\n\u001b[0m\u001b[1;32m    118\u001b[0m             \u001b[0;32melse\u001b[0m\u001b[0;34m:\u001b[0m\u001b[0;34m\u001b[0m\u001b[0;34m\u001b[0m\u001b[0m\n\u001b[1;32m    119\u001b[0m                 \u001b[0;32mraise\u001b[0m\u001b[0;34m\u001b[0m\u001b[0;34m\u001b[0m\u001b[0m\n",
            "\u001b[0;31mAnalysisException\u001b[0m: Since Spark 2.3, the queries from raw JSON/CSV files are disallowed when the\nreferenced columns only include the internal corrupt record column\n(named _corrupt_record by default). For example:\nspark.read.schema(schema).json(file).filter($\"_corrupt_record\".isNotNull).count()\nand spark.read.schema(schema).json(file).select(\"_corrupt_record\").show().\nInstead, you can cache or save the parsed results and then send the same query.\nFor example, val df = spark.read.schema(schema).json(file).cache() and then\ndf.filter($\"_corrupt_record\".isNotNull).count()."
          ]
        }
      ],
      "source": [
        "df = spark.read.json(\"sample.json\")\n",
        "df.printSchema()\n",
        "df.show()"
      ]
    },
    {
      "cell_type": "code",
      "execution_count": null,
      "metadata": {
        "id": "oMcwmiyLzbP1"
      },
      "outputs": [],
      "source": [
        "df = spark.read.option('multiline',\"true\").json(\"sample.json\")"
      ]
    },
    {
      "cell_type": "code",
      "execution_count": null,
      "metadata": {
        "colab": {
          "base_uri": "https://localhost:8080/"
        },
        "id": "kh1gYdgmmVR7",
        "outputId": "249756dc-a59e-45da-dc0f-45ce2a389028"
      },
      "outputs": [
        {
          "data": {
            "text/plain": [
              "Row(array=[1, 2, 3], boolean=True, color='gold', number=123, object=Row(a='b', c='d'), string='Hello World')"
            ]
          },
          "execution_count": 22,
          "metadata": {},
          "output_type": "execute_result"
        }
      ],
      "source": [
        "df.head()"
      ]
    },
    {
      "cell_type": "code",
      "execution_count": null,
      "metadata": {
        "id": "dUw6FcH4mWp2"
      },
      "outputs": [],
      "source": []
    },
    {
      "cell_type": "code",
      "execution_count": null,
      "metadata": {
        "id": "koNpzmBspXz_"
      },
      "outputs": [],
      "source": []
    },
    {
      "cell_type": "markdown",
      "metadata": {
        "id": "uOqDmnSapYsM"
      },
      "source": []
    },
    {
      "cell_type": "code",
      "execution_count": null,
      "metadata": {
        "id": "8ab0aDXgpZTz"
      },
      "outputs": [],
      "source": [
        "import csv\n",
        "with open('dummy.csv', 'w', newline='') as file:\n",
        "    writer = csv.writer(file)\n",
        "    field = [\"Country name\", \"Country Code\", \"Year\", \"Value\"]\n",
        "\n",
        "    writer.writerow(field)\n",
        "    writer.writerow([\"India\",\"In01\",2000,90])\n",
        "    writer.writerow([\"USA\", \"US02\", 2001,80])\n",
        "    writer.writerow([\"Chine\",\"CH31\",2002,70])\n",
        "    writer.writerow([\"Germany\", \"Ge06\", 2003,83])\n",
        "    writer.writerow([\"Nepal\",\"Ne05\",2004,40])\n"
      ]
    },
    {
      "cell_type": "code",
      "execution_count": null,
      "metadata": {
        "colab": {
          "base_uri": "https://localhost:8080/"
        },
        "id": "0xcjhRg-qRN-",
        "outputId": "e93178df-479b-4079-f398-cf1736a49151"
      },
      "outputs": [
        {
          "name": "stdout",
          "output_type": "stream",
          "text": [
            "+------------+------------+----+-----+\n",
            "|Country name|Country Code|Year|Value|\n",
            "+------------+------------+----+-----+\n",
            "|       India|        In01|2000|   90|\n",
            "|         USA|        US02|2001|   80|\n",
            "|       Chine|        CH31|2002|   70|\n",
            "|     Germany|        Ge06|2003|   83|\n",
            "|       Nepal|        Ne05|2004|   40|\n",
            "+------------+------------+----+-----+\n",
            "\n"
          ]
        }
      ],
      "source": [
        "df = spark.read.options(delimiter = ',', inferschema = True, header= True ).csv(\"/content/dummy.csv\")\n",
        "df.show()"
      ]
    },
    {
      "cell_type": "code",
      "execution_count": null,
      "metadata": {
        "colab": {
          "base_uri": "https://localhost:8080/"
        },
        "id": "xKA0s6ipqfkV",
        "outputId": "22ee87ce-ca5c-4c79-9178-3c869036987a"
      },
      "outputs": [
        {
          "name": "stdout",
          "output_type": "stream",
          "text": [
            "root\n",
            " |-- Country name: string (nullable = true)\n",
            " |-- Country Code: string (nullable = true)\n",
            " |-- Year: integer (nullable = true)\n",
            " |-- Value: integer (nullable = true)\n",
            "\n"
          ]
        }
      ],
      "source": [
        "df.printSchema()"
      ]
    },
    {
      "cell_type": "code",
      "execution_count": null,
      "metadata": {
        "colab": {
          "base_uri": "https://localhost:8080/"
        },
        "id": "pYQeuFgTqnqi",
        "outputId": "5415d916-7020-45cf-9686-4dced552ad6f"
      },
      "outputs": [
        {
          "data": {
            "text/plain": [
              "['Country name', 'Country Code', 'Year', 'Value']"
            ]
          },
          "execution_count": 42,
          "metadata": {},
          "output_type": "execute_result"
        }
      ],
      "source": [
        "df.columns"
      ]
    },
    {
      "cell_type": "code",
      "execution_count": null,
      "metadata": {
        "colab": {
          "base_uri": "https://localhost:8080/"
        },
        "id": "bCwkOlkyrtme",
        "outputId": "30fa6889-05d6-4aeb-f841-e42a3a5f9ad8"
      },
      "outputs": [
        {
          "data": {
            "text/plain": [
              "5"
            ]
          },
          "execution_count": 43,
          "metadata": {},
          "output_type": "execute_result"
        }
      ],
      "source": [
        "df.count()"
      ]
    },
    {
      "cell_type": "code",
      "execution_count": null,
      "metadata": {
        "colab": {
          "base_uri": "https://localhost:8080/"
        },
        "id": "xK7xSsqDr2lk",
        "outputId": "bfc4f336-2ecd-4fc7-e62b-9a75a2352b39"
      },
      "outputs": [
        {
          "name": "stdout",
          "output_type": "stream",
          "text": [
            "+------------+------------+----+-----+\n",
            "|Country name|Country Code|Year|Value|\n",
            "+------------+------------+----+-----+\n",
            "|       India|        In01|2000|   90|\n",
            "|         USA|        US02|2001|   80|\n",
            "+------------+------------+----+-----+\n",
            "only showing top 2 rows\n",
            "\n"
          ]
        }
      ],
      "source": [
        "df.show(2)"
      ]
    },
    {
      "cell_type": "code",
      "execution_count": null,
      "metadata": {
        "colab": {
          "base_uri": "https://localhost:8080/"
        },
        "id": "-akn1Lwhr6Rs",
        "outputId": "98c71b4a-cdda-4d8d-ecec-cb2a08b09865"
      },
      "outputs": [
        {
          "data": {
            "text/plain": [
              "[Row(Country name='India', Country Code='In01', Year=2000, Value=90),\n",
              " Row(Country name='USA', Country Code='US02', Year=2001, Value=80)]"
            ]
          },
          "execution_count": 46,
          "metadata": {},
          "output_type": "execute_result"
        }
      ],
      "source": [
        "df.take(2)"
      ]
    },
    {
      "cell_type": "code",
      "execution_count": null,
      "metadata": {
        "id": "Uz2Teg5usE8c"
      },
      "outputs": [],
      "source": []
    },
    {
      "cell_type": "code",
      "execution_count": null,
      "metadata": {
        "id": "XsugH6kbsKQY"
      },
      "outputs": [],
      "source": [
        "import csv\n",
        "with open('dummy2.csv', 'w', newline='') as file:\n",
        "    writer = csv.writer(file)\n",
        "    field = [\"Country name\", \"Country Code\", \"Year\", \"Value\"]\n",
        "\n",
        "    writer.writerow(field)\n",
        "    writer.writerow([\"India\",\"In01\",2000,90])\n",
        "    writer.writerow([\"India\",\"In01\",2001,90])\n",
        "    writer.writerow([\"India\",\"In01\",2005,90])\n",
        "    writer.writerow([\"USA\", \"US02\", 2001,80])\n",
        "    writer.writerow([\"Chine\",\"CH31\",2002,70])\n",
        "    writer.writerow([\"Germany\", \"Ge06\", 2003,83])\n",
        "    writer.writerow([\"Nepal\",\"Ne05\",2000,40])\n"
      ]
    },
    {
      "cell_type": "code",
      "execution_count": null,
      "metadata": {
        "colab": {
          "base_uri": "https://localhost:8080/"
        },
        "id": "GgOkle0XsXIt",
        "outputId": "e90aaf4c-18e7-4671-c41f-245478aea5af"
      },
      "outputs": [
        {
          "name": "stdout",
          "output_type": "stream",
          "text": [
            "+------------+------------+----+-----+\n",
            "|Country name|Country Code|Year|Value|\n",
            "+------------+------------+----+-----+\n",
            "|       India|        In01|2000|   90|\n",
            "|       India|        In01|2001|   90|\n",
            "|       India|        In01|2005|   90|\n",
            "|         USA|        US02|2001|   80|\n",
            "|       Chine|        CH31|2002|   70|\n",
            "|     Germany|        Ge06|2003|   83|\n",
            "|       Nepal|        Ne05|2000|   40|\n",
            "+------------+------------+----+-----+\n",
            "\n"
          ]
        }
      ],
      "source": [
        "df = spark.read.options(delimiter = ',', inferschema = True, header= True ).csv(\"/content/dummy2.csv\")\n",
        "df.show()"
      ]
    },
    {
      "cell_type": "code",
      "execution_count": null,
      "metadata": {
        "colab": {
          "base_uri": "https://localhost:8080/"
        },
        "id": "pW6KepaVsao1",
        "outputId": "82633f73-7ec1-4f94-820b-b32d8910af00"
      },
      "outputs": [
        {
          "name": "stdout",
          "output_type": "stream",
          "text": [
            "+------------+------------+----+-----+\n",
            "|Country name|Country Code|Year|Value|\n",
            "+------------+------------+----+-----+\n",
            "|       Nepal|        Ne05|2000|   40|\n",
            "|       India|        In01|2000|   90|\n",
            "|         USA|        US02|2001|   80|\n",
            "|       Chine|        CH31|2002|   70|\n",
            "|     Germany|        Ge06|2003|   83|\n",
            "|       India|        In01|2005|   90|\n",
            "|       India|        In01|2001|   90|\n",
            "+------------+------------+----+-----+\n",
            "\n"
          ]
        }
      ],
      "source": [
        "df.dropDuplicates().show()"
      ]
    },
    {
      "cell_type": "code",
      "execution_count": null,
      "metadata": {
        "id": "Em-j39_Oshyp"
      },
      "outputs": [],
      "source": []
    },
    {
      "cell_type": "code",
      "execution_count": null,
      "metadata": {
        "colab": {
          "base_uri": "https://localhost:8080/"
        },
        "id": "8f4ktt94u9Xz",
        "outputId": "bb5afdac-0495-48ac-a2c2-8fd2ca4735ae"
      },
      "outputs": [
        {
          "name": "stdout",
          "output_type": "stream",
          "text": [
            "+------------+------------+----+-----+\n",
            "|Country name|Country Code|Year|Value|\n",
            "+------------+------------+----+-----+\n",
            "|       India|        In01|2000|   90|\n",
            "|       India|        In01|2001|   90|\n",
            "|       India|        In01|2005|   90|\n",
            "|         USA|        US02|2001|   80|\n",
            "|       Chine|        CH31|2002|   70|\n",
            "|     Germany|        Ge06|2003|   83|\n",
            "|       Nepal|        Ne05|2000|   40|\n",
            "+------------+------------+----+-----+\n",
            "\n"
          ]
        }
      ],
      "source": [
        "df.show()"
      ]
    },
    {
      "cell_type": "code",
      "execution_count": null,
      "metadata": {
        "colab": {
          "base_uri": "https://localhost:8080/"
        },
        "id": "nyYjlCJ0wggO",
        "outputId": "c050a0a0-646d-48a2-8cd1-18da4c57a735"
      },
      "outputs": [
        {
          "name": "stdout",
          "output_type": "stream",
          "text": [
            "+------------+------------+----+-----+\n",
            "|Country name|Country Code|Year|Value|\n",
            "+------------+------------+----+-----+\n",
            "|       India|        In01|2000|   90|\n",
            "|       India|        In01|2001|   90|\n",
            "|       India|        In01|2005|   90|\n",
            "+------------+------------+----+-----+\n",
            "\n"
          ]
        }
      ],
      "source": [
        "df.filter(df[\"Country name\"] == \"India\").show()"
      ]
    },
    {
      "cell_type": "code",
      "execution_count": null,
      "metadata": {
        "colab": {
          "base_uri": "https://localhost:8080/"
        },
        "id": "Zh0FYBmRwsIb",
        "outputId": "7b73440f-97b4-4d54-aa9a-032cb1391731"
      },
      "outputs": [
        {
          "name": "stdout",
          "output_type": "stream",
          "text": [
            "+------------+------------+----+-----+\n",
            "|Country name|Country Code|Year|Value|\n",
            "+------------+------------+----+-----+\n",
            "|       India|        In01|2000|   90|\n",
            "|       India|        In01|2001|   90|\n",
            "|       India|        In01|2005|   90|\n",
            "+------------+------------+----+-----+\n",
            "\n"
          ]
        }
      ],
      "source": [
        "from pyspark.sql.functions import col\n",
        "df.filter(col(\"Country name\") == \"India\").show()"
      ]
    },
    {
      "cell_type": "code",
      "execution_count": null,
      "metadata": {
        "colab": {
          "base_uri": "https://localhost:8080/"
        },
        "id": "j1uP54oow6Sr",
        "outputId": "00017c16-392a-463f-a8d7-531942348806"
      },
      "outputs": [
        {
          "name": "stdout",
          "output_type": "stream",
          "text": [
            "+------------+------------+----+-----+\n",
            "|Country name|Country Code|Year|Value|\n",
            "+------------+------------+----+-----+\n",
            "|       India|        In01|2000|   90|\n",
            "|       India|        In01|2005|   90|\n",
            "+------------+------------+----+-----+\n",
            "\n"
          ]
        }
      ],
      "source": [
        "df.filter((df[\"Country name\"] == \"India\") &  (df[\"Year\"] == 2000) | (df[\"Year\"] == 2005)).show()"
      ]
    },
    {
      "cell_type": "code",
      "execution_count": null,
      "metadata": {
        "colab": {
          "base_uri": "https://localhost:8080/"
        },
        "id": "g4jeYq_yxsLe",
        "outputId": "2e8527c5-76e7-4557-a736-9c5e8de2d328"
      },
      "outputs": [
        {
          "name": "stdout",
          "output_type": "stream",
          "text": [
            "+------------+------------+----+-----+\n",
            "|Country name|Country Code|Year|Value|\n",
            "+------------+------------+----+-----+\n",
            "|       India|        In01|2000|   90|\n",
            "|       India|        In01|2001|   90|\n",
            "|       India|        In01|2005|   90|\n",
            "|         USA|        US02|2001|   80|\n",
            "|       Chine|        CH31|2002|   70|\n",
            "|     Germany|        Ge06|2003|   83|\n",
            "|       Nepal|        Ne05|2000|   40|\n",
            "+------------+------------+----+-----+\n",
            "\n"
          ]
        }
      ],
      "source": [
        "df.show()"
      ]
    },
    {
      "cell_type": "code",
      "execution_count": null,
      "metadata": {
        "colab": {
          "base_uri": "https://localhost:8080/"
        },
        "id": "Ci5Q6moTx7_M",
        "outputId": "b5bde76f-82d0-4f13-e2c1-dc4e09220da8"
      },
      "outputs": [
        {
          "name": "stdout",
          "output_type": "stream",
          "text": [
            "+------------+----+\n",
            "|Country Code|Year|\n",
            "+------------+----+\n",
            "|        In01|2000|\n",
            "|        In01|2001|\n",
            "|        In01|2005|\n",
            "|        US02|2001|\n",
            "|        CH31|2002|\n",
            "|        Ge06|2003|\n",
            "|        Ne05|2000|\n",
            "+------------+----+\n",
            "\n"
          ]
        }
      ],
      "source": [
        "df.select([\"Country Code\" , \"Year\"]).show()"
      ]
    },
    {
      "cell_type": "code",
      "execution_count": null,
      "metadata": {
        "colab": {
          "base_uri": "https://localhost:8080/"
        },
        "id": "tN1ZJ2JxyPLa",
        "outputId": "72c165ea-39d0-4958-918d-2cf1202bf306"
      },
      "outputs": [
        {
          "name": "stdout",
          "output_type": "stream",
          "text": [
            "+------------+----+\n",
            "|Country Code|Year|\n",
            "+------------+----+\n",
            "|        In01|2000|\n",
            "|        In01|2001|\n",
            "|        In01|2005|\n",
            "|        US02|2001|\n",
            "|        CH31|2002|\n",
            "|        Ge06|2003|\n",
            "|        Ne05|2000|\n",
            "+------------+----+\n",
            "\n"
          ]
        }
      ],
      "source": [
        "df.select(\"Country Code\" , \"Year\").show()"
      ]
    },
    {
      "cell_type": "code",
      "execution_count": null,
      "metadata": {
        "colab": {
          "base_uri": "https://localhost:8080/"
        },
        "id": "xx83CR5_ylYm",
        "outputId": "ec03aea7-be78-4f5f-d920-819185d3085c"
      },
      "outputs": [
        {
          "name": "stdout",
          "output_type": "stream",
          "text": [
            "+------------+------------+----+-----+\n",
            "|Country name|Country Code|Year|Value|\n",
            "+------------+------------+----+-----+\n",
            "|       Nepal|        Ne05|2000|   40|\n",
            "|       India|        In01|2000|   90|\n",
            "|       India|        In01|2001|   90|\n",
            "|         USA|        US02|2001|   80|\n",
            "|       Chine|        CH31|2002|   70|\n",
            "|     Germany|        Ge06|2003|   83|\n",
            "|       India|        In01|2005|   90|\n",
            "+------------+------------+----+-----+\n",
            "\n"
          ]
        }
      ],
      "source": [
        "df.select(\"*\").orderBy(\"year\").show()"
      ]
    },
    {
      "cell_type": "code",
      "execution_count": null,
      "metadata": {
        "colab": {
          "base_uri": "https://localhost:8080/"
        },
        "id": "pMunVT3Uy8zQ",
        "outputId": "8c112343-5345-48c5-8637-6107b132c076"
      },
      "outputs": [
        {
          "name": "stdout",
          "output_type": "stream",
          "text": [
            "+-------+----+----+-----+\n",
            "|Country|Code|Year|Value|\n",
            "+-------+----+----+-----+\n",
            "|  India|In01|2000|   90|\n",
            "|  India|In01|2001|   90|\n",
            "|  India|In01|2005|   90|\n",
            "|    USA|US02|2001|   80|\n",
            "|  Chine|CH31|2002|   70|\n",
            "|Germany|Ge06|2003|   83|\n",
            "|  Nepal|Ne05|2000|   40|\n",
            "+-------+----+----+-----+\n",
            "\n"
          ]
        }
      ],
      "source": [
        "df.withColumnRenamed(\"Country name\",\"Country\").withColumnRenamed(\"Country Code\",\"Code\").show()"
      ]
    },
    {
      "cell_type": "code",
      "execution_count": null,
      "metadata": {
        "id": "71wJiwtb0wO9"
      },
      "outputs": [],
      "source": []
    },
    {
      "cell_type": "markdown",
      "metadata": {
        "id": "bUCvvPl7qwBp"
      },
      "source": [
        "### 19th March"
      ]
    },
    {
      "cell_type": "code",
      "execution_count": null,
      "metadata": {
        "colab": {
          "base_uri": "https://localhost:8080/",
          "height": 182
        },
        "id": "KRgw73GmqvjS",
        "outputId": "8edf036b-ffb3-4ca1-9c18-7db58b6d3346"
      },
      "outputs": [
        {
          "ename": "NameError",
          "evalue": "name 'sc' is not defined",
          "output_type": "error",
          "traceback": [
            "\u001b[0;31m---------------------------------------------------------------------------\u001b[0m",
            "\u001b[0;31mNameError\u001b[0m                                 Traceback (most recent call last)",
            "\u001b[0;32m<ipython-input-48-ab8ac579987b>\u001b[0m in \u001b[0;36m<cell line: 2>\u001b[0;34m()\u001b[0m\n\u001b[1;32m      1\u001b[0m \u001b[0;32mimport\u001b[0m \u001b[0mlogging\u001b[0m\u001b[0;34m\u001b[0m\u001b[0;34m\u001b[0m\u001b[0m\n\u001b[0;32m----> 2\u001b[0;31m \u001b[0msc\u001b[0m\u001b[0;34m.\u001b[0m\u001b[0msparkContext\u001b[0m\u001b[0;34m.\u001b[0m\u001b[0msetLogLevel\u001b[0m\u001b[0;34m(\u001b[0m\u001b[0;34m\"Error\"\u001b[0m\u001b[0;34m)\u001b[0m\u001b[0;34m\u001b[0m\u001b[0;34m\u001b[0m\u001b[0m\n\u001b[0m\u001b[1;32m      3\u001b[0m \u001b[0;31m# logging.basicConfig(level = logging.INFO)\u001b[0m\u001b[0;34m\u001b[0m\u001b[0;34m\u001b[0m\u001b[0m\n",
            "\u001b[0;31mNameError\u001b[0m: name 'sc' is not defined"
          ]
        }
      ],
      "source": [
        "import logging\n",
        "SparkSession.sparkContext.setLogLevel(\"Error\")\n",
        "# logging.basicConfig(level = logging.INFO)"
      ]
    },
    {
      "cell_type": "code",
      "execution_count": null,
      "metadata": {
        "id": "IPTSp-4xrrbw"
      },
      "outputs": [],
      "source": [
        "df.show()"
      ]
    },
    {
      "cell_type": "code",
      "execution_count": null,
      "metadata": {
        "id": "YnJYXPw8rxxO"
      },
      "outputs": [],
      "source": [
        "def func():\n",
        "  df = spark.read.csv(\"/content/dummy2.csv\",header = True)\n",
        "  # df.show()\n",
        "  # logging.info(\"Successfully Created\")\n",
        "  # SparkSession.sparkContext.setLogLevel(\"Error\")\n",
        "func()"
      ]
    },
    {
      "cell_type": "code",
      "execution_count": null,
      "metadata": {
        "id": "hGskOmwruxru"
      },
      "outputs": [],
      "source": []
    },
    {
      "cell_type": "code",
      "execution_count": null,
      "metadata": {
        "id": "TNKzBkdBuxik"
      },
      "outputs": [],
      "source": []
    },
    {
      "cell_type": "code",
      "execution_count": null,
      "metadata": {
        "colab": {
          "base_uri": "https://localhost:8080/"
        },
        "id": "eIwXFsp3sblz",
        "outputId": "dccd0a8b-1251-4bd2-ce7d-1e958af664e6"
      },
      "outputs": [
        {
          "name": "stderr",
          "output_type": "stream",
          "text": [
            "INFO:root:Successfully created\n"
          ]
        },
        {
          "name": "stdout",
          "output_type": "stream",
          "text": [
            "+------------+------------+----+-----+\n",
            "|Country name|Country Code|Year|Value|\n",
            "+------------+------------+----+-----+\n",
            "|       India|        In01|2000|   90|\n",
            "|       India|        In01|2001|   90|\n",
            "|       India|        In01|2005|   90|\n",
            "|         USA|        US02|2001|   80|\n",
            "|       Chine|        CH31|2002|   70|\n",
            "|     Germany|        Ge06|2003|   83|\n",
            "|       Nepal|        Ne05|2000|   40|\n",
            "+------------+------------+----+-----+\n",
            "\n"
          ]
        }
      ],
      "source": [
        "logging.getLogger().setLevel(logging.INFO)\n",
        "\n",
        "def func():\n",
        "    try:\n",
        "        df = spark.read.csv(\"/content/dummy2.csv\", header=True)\n",
        "        df.show()\n",
        "        logging.info(\"Successfully created\")\n",
        "    except Exception as e:\n",
        "        logging.error(f\"An error occurred: {str(e)}\")\n",
        "    finally :\n",
        "        spark.stop()\n",
        "\n",
        "func()"
      ]
    },
    {
      "cell_type": "code",
      "execution_count": null,
      "metadata": {
        "id": "_nisd1n6uRiW"
      },
      "outputs": [],
      "source": []
    },
    {
      "cell_type": "code",
      "execution_count": null,
      "metadata": {
        "id": "VlQiOGlgvPxp"
      },
      "outputs": [],
      "source": []
    }
  ],
  "metadata": {
    "colab": {
      "provenance": []
    },
    "kernelspec": {
      "display_name": "Python 3",
      "name": "python3"
    },
    "language_info": {
      "name": "python"
    }
  },
  "nbformat": 4,
  "nbformat_minor": 0
}
