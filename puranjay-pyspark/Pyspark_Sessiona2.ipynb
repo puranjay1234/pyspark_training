{
  "cells": [
    {
      "cell_type": "code",
      "execution_count": null,
      "metadata": {
        "id": "a_cXuQ4x7AsZ"
      },
      "outputs": [],
      "source": [
        "# !apt-get install openjdk-8-jdk-headless -qq > /dev/null\n",
        "# !wget -q http://archive.apache.org/dist/spark/spark-3.1.1/spark-3.1.1-bin-hadoop3.2.tgz\n",
        "# !tar xf spark-3.1.1-bin-hadoop3.2.tgz\n",
        "# !pip install -q findspark\n"
      ]
    },
    {
      "cell_type": "code",
      "execution_count": null,
      "metadata": {
        "id": "m8GrdZVo7ZpS"
      },
      "outputs": [],
      "source": [
        "import os\n",
        "os.environ[\"JAVA_HOME\"] = \"/usr/lib/jvm/java-8-openjdk-amd64\"\n",
        "os.environ[\"SPARK_HOME\"] = \"/content/spark-3.1.1-bin-hadoop3.2\"\n",
        "\n"
      ]
    },
    {
      "cell_type": "code",
      "execution_count": null,
      "metadata": {
        "id": "pm1mvMDE78DC"
      },
      "outputs": [],
      "source": [
        "import findspark\n",
        "findspark.init()\n"
      ]
    },
    {
      "cell_type": "code",
      "execution_count": null,
      "metadata": {
        "colab": {
          "base_uri": "https://localhost:8080/",
          "height": 219
        },
        "id": "nU31OWxq8ANN",
        "outputId": "baf5802f-d381-4d4f-ade1-9bea8a593941"
      },
      "outputs": [
        {
          "output_type": "execute_result",
          "data": {
            "text/plain": [
              "<pyspark.sql.session.SparkSession at 0x7c58cc07e2f0>"
            ],
            "text/html": [
              "\n",
              "            <div>\n",
              "                <p><b>SparkSession - in-memory</b></p>\n",
              "                \n",
              "        <div>\n",
              "            <p><b>SparkContext</b></p>\n",
              "\n",
              "            <p><a href=\"http://8a4e63b4ba2c:4040\">Spark UI</a></p>\n",
              "\n",
              "            <dl>\n",
              "              <dt>Version</dt>\n",
              "                <dd><code>v3.1.1</code></dd>\n",
              "              <dt>Master</dt>\n",
              "                <dd><code>local[*]</code></dd>\n",
              "              <dt>AppName</dt>\n",
              "                <dd><code>pyspark-shell</code></dd>\n",
              "            </dl>\n",
              "        </div>\n",
              "        \n",
              "            </div>\n",
              "        "
            ]
          },
          "metadata": {},
          "execution_count": 51
        }
      ],
      "source": [
        "from pyspark.sql import SparkSession\n",
        "spark = SparkSession.builder.master(\"local[*]\").getOrCreate()\n",
        "spark"
      ]
    },
    {
      "cell_type": "markdown",
      "source": [
        "initail thing in the spark application is creating a sparkContext object which tells the applocation hwo to access a cluster."
      ],
      "metadata": {
        "id": "wIaFNWXevLmg"
      }
    },
    {
      "cell_type": "code",
      "source": [
        "from pyspark.conf import SparkConf\n",
        "from pyspark.context import SparkContext\n",
        "conf =SparkConf().setAppName('Pyspark Demo app').setMaster('local[2]')\n",
        "conf.get('spark.master')\n",
        "conf.get('spark.app.name')"
      ],
      "metadata": {
        "colab": {
          "base_uri": "https://localhost:8080/",
          "height": 36
        },
        "id": "i3DMFR7PtVqj",
        "outputId": "eadd143f-2d0f-49e9-f29b-df3759cf3dfb"
      },
      "execution_count": null,
      "outputs": [
        {
          "output_type": "execute_result",
          "data": {
            "text/plain": [
              "'Pyspark Demo app'"
            ],
            "application/vnd.google.colaboratory.intrinsic+json": {
              "type": "string"
            }
          },
          "metadata": {},
          "execution_count": 52
        }
      ]
    },
    {
      "cell_type": "markdown",
      "source": [
        "what is **spark context** ?\n",
        "it is an entry gate for any spark derived application or functionality. It is avaialble as sc by desfault in pyspark"
      ],
      "metadata": {
        "id": "Lcew_o1WvaMP"
      }
    },
    {
      "cell_type": "code",
      "source": [
        "import findspark\n",
        "findspark.init()\n",
        "import pyspark\n",
        "from pyspark.sql import SparkSession\n",
        "spark = SparkSession.builder.getOrCreate()\n",
        "\n",
        "df = spark.sql('''select 'spark' as hello''')\n",
        "df.show()"
      ],
      "metadata": {
        "colab": {
          "base_uri": "https://localhost:8080/"
        },
        "id": "EK38R1JQ3O2a",
        "outputId": "9ac77052-07a0-464e-9cee-5dd568754dbc"
      },
      "execution_count": null,
      "outputs": [
        {
          "output_type": "stream",
          "name": "stdout",
          "text": [
            "+-----+\n",
            "|hello|\n",
            "+-----+\n",
            "|spark|\n",
            "+-----+\n",
            "\n"
          ]
        }
      ]
    },
    {
      "cell_type": "code",
      "execution_count": null,
      "metadata": {
        "colab": {
          "base_uri": "https://localhost:8080/"
        },
        "id": "gcOTaonp8BTu",
        "outputId": "b81f116e-01a7-4509-976e-1f9e8ac43c4c"
      },
      "outputs": [
        {
          "output_type": "stream",
          "name": "stdout",
          "text": [
            "+---+--------+---+\n",
            "| id|    name|age|\n",
            "+---+--------+---+\n",
            "|  1|Puranjay| 30|\n",
            "|  2|    abhi| 25|\n",
            "|  3|    Riya| 35|\n",
            "+---+--------+---+\n",
            "\n"
          ]
        }
      ],
      "source": [
        "# Import necessary libraries\n",
        "from pyspark.sql import SparkSession\n",
        "from pyspark.sql import Row\n",
        "\n",
        "# Create a SparkSession\n",
        "spark = SparkSession.builder \\\n",
        "    .appName(\"Simple PySpark DataFrame\") \\\n",
        "    .getOrCreate()\n",
        "\n",
        "# Create some data\n",
        "data = [\n",
        "    Row(id=1, name='Puranjay', age=30),\n",
        "    Row(id=2, name='abhi', age=25),\n",
        "    Row(id=3, name='Riya', age=35)\n",
        "]\n",
        "\n",
        "# Create a DataFrame from the data\n",
        "df = spark.createDataFrame(data)\n",
        "\n",
        "# Show the DataFrame\n",
        "df.show()\n"
      ]
    },
    {
      "cell_type": "code",
      "source": [
        "from pyspark.sql.functions import col\n",
        "df = df.withColumn(\"age\", col(\"age\").cast(\"string\"))\n"
      ],
      "metadata": {
        "id": "Rno68qWSRl25"
      },
      "execution_count": null,
      "outputs": []
    },
    {
      "cell_type": "markdown",
      "source": [
        "# Read the CSV with inferschema\n",
        "### InferSchema will guess the dataType of the source file and show us the datatype"
      ],
      "metadata": {
        "id": "D_7vPHV3Uz01"
      }
    },
    {
      "cell_type": "code",
      "execution_count": null,
      "metadata": {
        "id": "YkBJskXG56b-"
      },
      "outputs": [],
      "source": [
        "from pyspark.sql import SparkSession\n",
        "spark = SparkSession.builder \\\n",
        "    .appName(\"Read CSV\") \\\n",
        "    .getOrCreate()\n",
        "df = spark.read.csv(\"/content/people-100.csv\", header=True, inferSchema=False)"
      ]
    },
    {
      "cell_type": "code",
      "execution_count": null,
      "metadata": {
        "id": "0qPfeDKq6IGM",
        "colab": {
          "base_uri": "https://localhost:8080/"
        },
        "outputId": "45bbe80b-1cb7-4789-b12d-406a2ea2365d"
      },
      "outputs": [
        {
          "output_type": "stream",
          "name": "stdout",
          "text": [
            "+-----+---------------+----------+---------+------+--------------------+--------------------+-------------+--------------------+\n",
            "|Index|        User Id|First Name|Last Name|   Sex|               Email|               Phone|Date of birth|           Job Title|\n",
            "+-----+---------------+----------+---------+------+--------------------+--------------------+-------------+--------------------+\n",
            "|    1|88F7B33d2bcf9f5|    Shelby|  Terrell|  Male|elijah57@example.net|001-084-906-7849x...|   1945-10-26|     Games developer|\n",
            "|    2|f90cD3E76f1A9b9|   Phillip|  Summers|Female|bethany14@example...|   214.112.6044x4913|   1910-03-24|      Phytotherapist|\n",
            "|    3|DbeAb8CcdfeFC2c|  Kristine|   Travis|  Male|bthompson@example...|        277.609.7938|   1992-07-02|           Homeopath|\n",
            "|    4|A31Bee3c201ef58|   Yesenia| Martinez|  Male|kaitlinkaiser@exa...|        584.094.6111|   2017-08-03|   Market researcher|\n",
            "|    5|1bA7A3dc874da3c|      Lori|     Todd|  Male|buchananmanuel@ex...|   689-207-3558x7233|   1938-12-01|  Veterinary surgeon|\n",
            "|    6|bfDD7CDEF5D865B|      Erin|      Day|  Male| tconner@example.org|001-171-649-9856x...|   2015-10-28|Waste management ...|\n",
            "|    7|bE9EEf34cB72AF7| Katherine|     Buck|Female|conniecowan@examp...|+1-773-151-6685x4...|   1989-01-22|Intelligence analyst|\n",
            "|    8|2EFC6A4e77FaEaC|   Ricardo|   Hinton|  Male|wyattbishop@examp...|001-447-699-7998x...|   1924-03-26|      Hydrogeologist|\n",
            "|    9|baDcC4DeefD8dEB|      Dave|  Farrell|  Male| nmccann@example.net|  603-428-2429x27392|   2018-10-06|              Lawyer|\n",
            "|   10|8e4FB470FE19bF0|    Isaiah|    Downs|  Male|virginiaterrell@e...|+1-511-372-1544x8206|   1964-09-20|      Engineer, site|\n",
            "|   11|BF0BbA03C29Bb3b|    Sheila|     Ross|Female|huangcathy@exampl...|        895.881.4746|   2008-03-20|Advertising accou...|\n",
            "|   12|F738c69fB34E62E|     Stacy|   Newton|  Male|rayleroy@example.org|  710.673.3213x80335|   1980-10-20|       Warden/ranger|\n",
            "|   13|C03fDADdAadAdCe|     Mandy|    Blake|  Male|jefferynoble@exam...|  (992)466-1305x4947|   2007-12-08|Scientist, clinic...|\n",
            "|   14|b759b74BD1dE80d|   Bridget|     Nash|Female|mercedes44@exampl...|       (216)627-8359|   2004-06-28|       Social worker|\n",
            "|   15|1F0B7D65A00DAF9|   Crystal|   Farmer|  Male|pmiranda@example.org|     +1-024-377-5391|   1992-03-09|Agricultural cons...|\n",
            "|   16|50Bb061cB30B461|    Thomas|   Knight|Female|braunpriscilla@ex...|     +1-360-880-0766|   2006-02-18|Sport and exercis...|\n",
            "|   17|D6dbA5308fEC4BC|   Maurice|   Rangel|  Male|sheenabanks@examp...|       (246)187-4969|   2004-08-20|Secretary/adminis...|\n",
            "|   18|311D775990f066d|     Frank|  Meadows|  Male| gbrewer@example.org|   429.965.3902x4447|   2008-09-16|Audiological scie...|\n",
            "|   19|7F7E1BAcb0C9AFf|     Alvin|     Paul|  Male|gilbertdonaldson@...|  219.436.0887x07551|   1949-05-12|Teacher, adult ed...|\n",
            "|   20|88473e15D5c3cD0|     Jared| Mitchell|Female| jcortez@example.com|     +1-958-849-6781|   1921-01-18|    Paediatric nurse|\n",
            "+-----+---------------+----------+---------+------+--------------------+--------------------+-------------+--------------------+\n",
            "only showing top 20 rows\n",
            "\n"
          ]
        }
      ],
      "source": [
        "df.show(20)"
      ]
    },
    {
      "cell_type": "code",
      "source": [
        "df.printSchema()"
      ],
      "metadata": {
        "colab": {
          "base_uri": "https://localhost:8080/"
        },
        "id": "3I-Ob_0PMWtz",
        "outputId": "f55466da-a8e0-4076-f6e3-e994e68f4e38"
      },
      "execution_count": null,
      "outputs": [
        {
          "output_type": "stream",
          "name": "stdout",
          "text": [
            "root\n",
            " |-- Index: string (nullable = true)\n",
            " |-- User Id: string (nullable = true)\n",
            " |-- First Name: string (nullable = true)\n",
            " |-- Last Name: string (nullable = true)\n",
            " |-- Sex: string (nullable = true)\n",
            " |-- Email: string (nullable = true)\n",
            " |-- Phone: string (nullable = true)\n",
            " |-- Date of birth: string (nullable = true)\n",
            " |-- Job Title: string (nullable = true)\n",
            "\n"
          ]
        }
      ]
    },
    {
      "cell_type": "code",
      "source": [
        "# from pyspark.sql import SparkSession\n",
        "# from pyspark.sql.types import StructType, StructField, StringType, IntegerType\n",
        "\n",
        "# # Create a SparkSession\n",
        "# spark = SparkSession.builder \\\n",
        "#     .appName(\"CreateDataFrameExample\") \\\n",
        "#     .getOrCreate()\n",
        "\n",
        "# # Define schema for the DataFrame\n",
        "# schema = StructType([\n",
        "#     StructField(\"id\", IntegerType(), True),\n",
        "#     StructField(\"name\", StringType(), True),\n",
        "#     StructField(\"age\", IntegerType(), True)\n",
        "# ])\n",
        "\n",
        "# # Sample data\n",
        "# data = [(1, \"Harsh\", 30),\n",
        "#         (2, \"Yash\", 25),\n",
        "#         (3, \"Janit\", 35)]\n",
        "\n",
        "# # Create a DataFrame\n",
        "# df = spark.createDataFrame(data, schema)\n",
        "\n",
        "# # Show the DataFrame\n",
        "# df.show()\n"
      ],
      "metadata": {
        "colab": {
          "base_uri": "https://localhost:8080/"
        },
        "id": "CNY9tuEFNUVZ",
        "outputId": "f3dbf76f-546f-45ea-ad71-f338d0ff5841"
      },
      "execution_count": null,
      "outputs": [
        {
          "output_type": "stream",
          "name": "stdout",
          "text": [
            "+---+-----+---+\n",
            "| id| name|age|\n",
            "+---+-----+---+\n",
            "|  1|Harsh| 30|\n",
            "|  2| Yash| 25|\n",
            "|  3|Janit| 35|\n",
            "+---+-----+---+\n",
            "\n"
          ]
        }
      ]
    },
    {
      "cell_type": "code",
      "source": [
        "df.printSchema()"
      ],
      "metadata": {
        "colab": {
          "base_uri": "https://localhost:8080/"
        },
        "id": "MlQlgyPvdSQW",
        "outputId": "2ddf72aa-7be8-4ba3-e77e-4368edae7265"
      },
      "execution_count": null,
      "outputs": [
        {
          "output_type": "stream",
          "name": "stdout",
          "text": [
            "root\n",
            " |-- id: integer (nullable = true)\n",
            " |-- name: string (nullable = true)\n",
            " |-- age: integer (nullable = true)\n",
            "\n"
          ]
        }
      ]
    },
    {
      "cell_type": "code",
      "source": [
        "from pyspark.sql.functions import col\n",
        "df = df.withColumn(\"age\", col(\"age\").cast(\"string\"))\n"
      ],
      "metadata": {
        "id": "ZVlZ6F3gdVQs"
      },
      "execution_count": null,
      "outputs": []
    },
    {
      "cell_type": "code",
      "source": [
        "df.printSchema()"
      ],
      "metadata": {
        "colab": {
          "base_uri": "https://localhost:8080/"
        },
        "id": "eLchYhnVeP3y",
        "outputId": "ba3ff73e-b426-4fc1-fa1a-d3f9fa32d00f"
      },
      "execution_count": null,
      "outputs": [
        {
          "output_type": "stream",
          "name": "stdout",
          "text": [
            "root\n",
            " |-- id: integer (nullable = true)\n",
            " |-- name: string (nullable = true)\n",
            " |-- age: string (nullable = true)\n",
            "\n"
          ]
        }
      ]
    },
    {
      "cell_type": "code",
      "source": [
        "sc=spark.sparkContext\n",
        "data = [1, 2, 3, 4, 5]\n",
        "rdd = sc.parallelize(data)\n",
        "\n",
        "print(rdd.collect())"
      ],
      "metadata": {
        "colab": {
          "base_uri": "https://localhost:8080/"
        },
        "id": "LIaBp5EOemyn",
        "outputId": "2ba3638a-c719-4f65-eff7-53047235b169"
      },
      "execution_count": null,
      "outputs": [
        {
          "output_type": "stream",
          "name": "stdout",
          "text": [
            "[1, 2, 3, 4, 5]\n"
          ]
        }
      ]
    },
    {
      "cell_type": "code",
      "source": [
        "df2 = spark.read.parquet(\"/content/userdata1.parquet\")"
      ],
      "metadata": {
        "id": "fyVUXMNZhApP"
      },
      "execution_count": null,
      "outputs": []
    },
    {
      "cell_type": "code",
      "source": [
        "df2.show(5)"
      ],
      "metadata": {
        "colab": {
          "base_uri": "https://localhost:8080/"
        },
        "id": "flnTggSZURx2",
        "outputId": "6afea562-5fb1-4b53-fa49-67bdabd66a1b"
      },
      "execution_count": null,
      "outputs": [
        {
          "output_type": "stream",
          "name": "stdout",
          "text": [
            "+-------------------+---+----------+---------+--------------------+------+--------------+----------------+------------+---------+---------+--------------------+--------+\n",
            "|  registration_dttm| id|first_name|last_name|               email|gender|    ip_address|              cc|     country|birthdate|   salary|               title|comments|\n",
            "+-------------------+---+----------+---------+--------------------+------+--------------+----------------+------------+---------+---------+--------------------+--------+\n",
            "|2016-02-03 07:55:29|  1|    Amanda|   Jordan|    ajordan0@com.com|Female|   1.197.201.2|6759521864920116|   Indonesia| 3/8/1971| 49756.53|    Internal Auditor|   1E+02|\n",
            "|2016-02-03 17:04:03|  2|    Albert|  Freeman|     afreeman1@is.gd|  Male|218.111.175.34|                |      Canada|1/16/1968|150280.17|       Accountant IV|        |\n",
            "|2016-02-03 01:09:31|  3|    Evelyn|   Morgan|emorgan2@altervis...|Female|  7.161.136.94|6767119071901597|      Russia| 2/1/1960|144972.51| Structural Engineer|        |\n",
            "|2016-02-03 00:36:21|  4|    Denise|    Riley|    driley3@gmpg.org|Female| 140.35.109.83|3576031598965625|       China| 4/8/1997| 90263.05|Senior Cost Accou...|        |\n",
            "|2016-02-03 05:05:31|  5|    Carlos|    Burns|cburns4@miitbeian...|      |169.113.235.40|5602256255204850|South Africa|         |     null|                    |        |\n",
            "+-------------------+---+----------+---------+--------------------+------+--------------+----------------+------------+---------+---------+--------------------+--------+\n",
            "only showing top 5 rows\n",
            "\n"
          ]
        }
      ]
    },
    {
      "cell_type": "code",
      "source": [
        "df2.printSchema()"
      ],
      "metadata": {
        "colab": {
          "base_uri": "https://localhost:8080/"
        },
        "id": "8B2dABFfUU74",
        "outputId": "322850e9-eb3e-4767-ae31-d74f6e4b5e92"
      },
      "execution_count": null,
      "outputs": [
        {
          "output_type": "stream",
          "name": "stdout",
          "text": [
            "root\n",
            " |-- registration_dttm: timestamp (nullable = true)\n",
            " |-- id: integer (nullable = true)\n",
            " |-- first_name: string (nullable = true)\n",
            " |-- last_name: string (nullable = true)\n",
            " |-- email: string (nullable = true)\n",
            " |-- gender: string (nullable = true)\n",
            " |-- ip_address: string (nullable = true)\n",
            " |-- cc: string (nullable = true)\n",
            " |-- country: string (nullable = true)\n",
            " |-- birthdate: string (nullable = true)\n",
            " |-- salary: double (nullable = true)\n",
            " |-- title: string (nullable = true)\n",
            " |-- comments: string (nullable = true)\n",
            "\n"
          ]
        }
      ]
    },
    {
      "cell_type": "code",
      "source": [
        "#read the json file by taking the multiline=true\n",
        "df3=spark.read.json(\"/content/example_1.json\")\n"
      ],
      "metadata": {
        "id": "CMHsIVNIUYLa"
      },
      "execution_count": null,
      "outputs": []
    },
    {
      "cell_type": "code",
      "source": [
        "!cat /content/example_1.json"
      ],
      "metadata": {
        "colab": {
          "base_uri": "https://localhost:8080/"
        },
        "id": "ekNDisXo3zmb",
        "outputId": "853e76aa-9617-441f-9cb6-3120bfa7a01e"
      },
      "execution_count": null,
      "outputs": [
        {
          "output_type": "stream",
          "name": "stdout",
          "text": [
            "{\n",
            "    \"fruit\": \"Apple\",\n",
            "    \"size\": \"Large\",\n",
            "    \"color\": \"Red\"\n",
            "}"
          ]
        }
      ]
    },
    {
      "cell_type": "code",
      "source": [
        "df3.printSchema()"
      ],
      "metadata": {
        "colab": {
          "base_uri": "https://localhost:8080/"
        },
        "id": "rXV89nGp30Gt",
        "outputId": "323b2972-d2f2-4fc6-9136-87d65b10277d"
      },
      "execution_count": null,
      "outputs": [
        {
          "output_type": "stream",
          "name": "stdout",
          "text": [
            "root\n",
            " |-- _corrupt_record: string (nullable = true)\n",
            "\n"
          ]
        }
      ]
    },
    {
      "cell_type": "code",
      "source": [
        "df3 = df3.filter(df3[\"_corrupt_record\"].isNull())"
      ],
      "metadata": {
        "id": "-LSqcggE4fkT"
      },
      "execution_count": null,
      "outputs": []
    },
    {
      "cell_type": "code",
      "source": [
        "#read the json file by taking the multiline=true\n",
        "\n",
        "df4=spark.read.json(\"/content/example_1.json\")\n",
        "\n",
        "!cat /content/example_1.json"
      ],
      "metadata": {
        "colab": {
          "base_uri": "https://localhost:8080/"
        },
        "id": "DLw5l4a94fmk",
        "outputId": "9e9b7ac7-9e90-4ba8-ea0c-fe9fd8829d15"
      },
      "execution_count": null,
      "outputs": [
        {
          "output_type": "stream",
          "name": "stdout",
          "text": [
            "{\n",
            "    \"fruit\": \"Apple\",\n",
            "    \"size\": \"Large\",\n",
            "    \"color\": \"Red\"\n",
            "}"
          ]
        }
      ]
    },
    {
      "cell_type": "markdown",
      "source": [
        "As you can see, when multiline=false, PySpark reads the entire file as a single JSON object and stores it in a column named _corrupt_record, because the data is not formatted correctly for this setting. This is why it's important to choose the appropriate value for the multiline option based on the structure of your JSON data."
      ],
      "metadata": {
        "id": "QYXZgOkuBN65"
      }
    },
    {
      "cell_type": "code",
      "source": [
        "df5 = spark.read.option(\"multiline\", \"false\").json(\"/content/sample_data/anscombe.json\")\n",
        "df5.show()"
      ],
      "metadata": {
        "colab": {
          "base_uri": "https://localhost:8080/"
        },
        "id": "JerZ2qA-7VmH",
        "outputId": "6cc377aa-b5e7-4b51-86e7-0f24981d2e86"
      },
      "execution_count": null,
      "outputs": [
        {
          "output_type": "stream",
          "name": "stdout",
          "text": [
            "+------+----+-----+---------------+\n",
            "|Series|   X|    Y|_corrupt_record|\n",
            "+------+----+-----+---------------+\n",
            "|  null|null| null|              [|\n",
            "|     I|10.0| 8.04|           null|\n",
            "|     I| 8.0| 6.95|           null|\n",
            "|     I|13.0| 7.58|           null|\n",
            "|     I| 9.0| 8.81|           null|\n",
            "|     I|11.0| 8.33|           null|\n",
            "|     I|14.0| 9.96|           null|\n",
            "|     I| 6.0| 7.24|           null|\n",
            "|     I| 4.0| 4.26|           null|\n",
            "|     I|12.0|10.84|           null|\n",
            "|     I| 7.0| 4.81|           null|\n",
            "|     I| 5.0| 5.68|           null|\n",
            "|    II|10.0| 9.14|           null|\n",
            "|    II| 8.0| 8.14|           null|\n",
            "|    II|13.0| 8.74|           null|\n",
            "|    II| 9.0| 8.77|           null|\n",
            "|    II|11.0| 9.26|           null|\n",
            "|    II|14.0|  8.1|           null|\n",
            "|    II| 6.0| 6.13|           null|\n",
            "|    II| 4.0|  3.1|           null|\n",
            "+------+----+-----+---------------+\n",
            "only showing top 20 rows\n",
            "\n"
          ]
        }
      ]
    },
    {
      "cell_type": "markdown",
      "source": [
        "#\n",
        "Reading the JSON file\n"
      ],
      "metadata": {
        "id": "k_1QIcnLdF4S"
      }
    },
    {
      "cell_type": "code",
      "source": [
        "df6 = spark.read.option(\"multiline\", \"true\").json(\"/content/example_2.json\")\n",
        "df6.show()"
      ],
      "metadata": {
        "colab": {
          "base_uri": "https://localhost:8080/"
        },
        "id": "6RjfwiRN4fqC",
        "outputId": "0e530f09-3098-4aa0-c8d2-3776cf6d562a"
      },
      "execution_count": null,
      "outputs": [
        {
          "output_type": "stream",
          "name": "stdout",
          "text": [
            "+--------------------+\n",
            "|                quiz|\n",
            "+--------------------+\n",
            "|{{{12, [10, 11, 1...|\n",
            "+--------------------+\n",
            "\n"
          ]
        }
      ]
    },
    {
      "cell_type": "code",
      "source": [
        "df5.printSchema()"
      ],
      "metadata": {
        "colab": {
          "base_uri": "https://localhost:8080/"
        },
        "id": "Fy-ODUCPVdQY",
        "outputId": "d1195ac8-ac55-4a23-80e2-2301c09f5723"
      },
      "execution_count": null,
      "outputs": [
        {
          "output_type": "stream",
          "name": "stdout",
          "text": [
            "root\n",
            " |-- Series: string (nullable = true)\n",
            " |-- X: double (nullable = true)\n",
            " |-- Y: double (nullable = true)\n",
            " |-- _corrupt_record: string (nullable = true)\n",
            "\n"
          ]
        }
      ]
    },
    {
      "cell_type": "code",
      "source": [
        "df5.columns"
      ],
      "metadata": {
        "colab": {
          "base_uri": "https://localhost:8080/"
        },
        "id": "IjdTrq8FVrUL",
        "outputId": "7a85df20-231d-4777-df25-073a6ec6a7a8"
      },
      "execution_count": null,
      "outputs": [
        {
          "output_type": "execute_result",
          "data": {
            "text/plain": [
              "['Series', 'X', 'Y', '_corrupt_record']"
            ]
          },
          "metadata": {},
          "execution_count": 75
        }
      ]
    },
    {
      "cell_type": "markdown",
      "source": [
        "Truncate=When truncate is set to True (which is the default behavior if not specified), the displayed strings in the columns are truncated if they exceed a certain length, and ... is appended at the end of the truncated strings."
      ],
      "metadata": {
        "id": "xz3NRc-W-pFd"
      }
    },
    {
      "cell_type": "code",
      "source": [
        "df5.show(10,truncate=True)"
      ],
      "metadata": {
        "colab": {
          "base_uri": "https://localhost:8080/"
        },
        "id": "608J2C5s93xE",
        "outputId": "d3c61472-2f90-411e-c2c6-50af0c5ff24d"
      },
      "execution_count": null,
      "outputs": [
        {
          "output_type": "stream",
          "name": "stdout",
          "text": [
            "+------+----+-----+---------------+\n",
            "|Series|   X|    Y|_corrupt_record|\n",
            "+------+----+-----+---------------+\n",
            "|  null|null| null|              [|\n",
            "|     I|10.0| 8.04|           null|\n",
            "|     I| 8.0| 6.95|           null|\n",
            "|     I|13.0| 7.58|           null|\n",
            "|     I| 9.0| 8.81|           null|\n",
            "|     I|11.0| 8.33|           null|\n",
            "|     I|14.0| 9.96|           null|\n",
            "|     I| 6.0| 7.24|           null|\n",
            "|     I| 4.0| 4.26|           null|\n",
            "|     I|12.0|10.84|           null|\n",
            "+------+----+-----+---------------+\n",
            "only showing top 10 rows\n",
            "\n"
          ]
        }
      ]
    },
    {
      "cell_type": "markdown",
      "source": [
        "Truncate means if there are large number of records in the database and we want to show the data if the data is false it will show .... if it is true it will show all of the data."
      ],
      "metadata": {
        "id": "aEHP5wC_agL7"
      }
    },
    {
      "cell_type": "code",
      "source": [
        "df5.show(10,truncate=False)"
      ],
      "metadata": {
        "colab": {
          "base_uri": "https://localhost:8080/"
        },
        "id": "Dkz5D9DKV7D0",
        "outputId": "9787e32d-240a-424b-e991-66ed54114ed7"
      },
      "execution_count": null,
      "outputs": [
        {
          "output_type": "stream",
          "name": "stdout",
          "text": [
            "+------+----+-----+---------------+\n",
            "|Series|X   |Y    |_corrupt_record|\n",
            "+------+----+-----+---------------+\n",
            "|null  |null|null |[              |\n",
            "|I     |10.0|8.04 |null           |\n",
            "|I     |8.0 |6.95 |null           |\n",
            "|I     |13.0|7.58 |null           |\n",
            "|I     |9.0 |8.81 |null           |\n",
            "|I     |11.0|8.33 |null           |\n",
            "|I     |14.0|9.96 |null           |\n",
            "|I     |6.0 |7.24 |null           |\n",
            "|I     |4.0 |4.26 |null           |\n",
            "|I     |12.0|10.84|null           |\n",
            "+------+----+-----+---------------+\n",
            "only showing top 10 rows\n",
            "\n"
          ]
        }
      ]
    },
    {
      "cell_type": "code",
      "source": [
        "df6.show(20)"
      ],
      "metadata": {
        "colab": {
          "base_uri": "https://localhost:8080/"
        },
        "id": "dsMtPXRGB1LT",
        "outputId": "c59cc3be-3e4a-47d5-da21-fb0371f3a5ae"
      },
      "execution_count": null,
      "outputs": [
        {
          "output_type": "stream",
          "name": "stdout",
          "text": [
            "+--------------------+\n",
            "|                quiz|\n",
            "+--------------------+\n",
            "|{{{12, [10, 11, 1...|\n",
            "+--------------------+\n",
            "\n"
          ]
        }
      ]
    },
    {
      "cell_type": "code",
      "source": [
        "df_no_duplicates=df6.dropDuplicates()"
      ],
      "metadata": {
        "id": "YdXZId4NXPm-"
      },
      "execution_count": null,
      "outputs": []
    },
    {
      "cell_type": "code",
      "source": [
        "df_no_duplicates.show()"
      ],
      "metadata": {
        "colab": {
          "base_uri": "https://localhost:8080/"
        },
        "id": "9Ib2voC8C5zs",
        "outputId": "fcc8abfc-48f7-4a1b-fb8f-042b00c97089"
      },
      "execution_count": null,
      "outputs": [
        {
          "output_type": "stream",
          "name": "stdout",
          "text": [
            "+--------------------+\n",
            "|                quiz|\n",
            "+--------------------+\n",
            "|{{{12, [10, 11, 1...|\n",
            "+--------------------+\n",
            "\n"
          ]
        }
      ]
    },
    {
      "cell_type": "code",
      "source": [
        "sorted_df = df_no_duplicates.orderBy(\"quiz\")\n",
        "\n",
        "# Show the sorted DataFrame\n",
        "sorted_df.show()"
      ],
      "metadata": {
        "colab": {
          "base_uri": "https://localhost:8080/"
        },
        "id": "nRUrfb1NDxDu",
        "outputId": "4e1dd5e9-8621-4feb-d85b-49a8335f8415"
      },
      "execution_count": null,
      "outputs": [
        {
          "output_type": "stream",
          "name": "stdout",
          "text": [
            "+--------------------+\n",
            "|                quiz|\n",
            "+--------------------+\n",
            "|{{{12, [10, 11, 1...|\n",
            "+--------------------+\n",
            "\n"
          ]
        }
      ]
    },
    {
      "cell_type": "code",
      "source": [
        "df6.show()"
      ],
      "metadata": {
        "colab": {
          "base_uri": "https://localhost:8080/"
        },
        "id": "LNlnFdPuEvT2",
        "outputId": "32baeff9-f092-4cfd-deaf-9be5b3177728"
      },
      "execution_count": null,
      "outputs": [
        {
          "output_type": "stream",
          "name": "stdout",
          "text": [
            "+--------------------+\n",
            "|                quiz|\n",
            "+--------------------+\n",
            "|{{{12, [10, 11, 1...|\n",
            "+--------------------+\n",
            "\n"
          ]
        }
      ]
    },
    {
      "cell_type": "code",
      "source": [
        "#In PySpark, the distinct() function is used to remove duplicate rows from a DataFrame.\n",
        "#It returns a new DataFrame with distinct rows.\n",
        "df6.distinct().show(20)"
      ],
      "metadata": {
        "colab": {
          "base_uri": "https://localhost:8080/"
        },
        "id": "CackbaARXucs",
        "outputId": "032e1e5e-0581-4a5e-af86-ef2d299cd53d"
      },
      "execution_count": null,
      "outputs": [
        {
          "output_type": "stream",
          "name": "stdout",
          "text": [
            "+--------------------+\n",
            "|                quiz|\n",
            "+--------------------+\n",
            "|{{{12, [10, 11, 1...|\n",
            "+--------------------+\n",
            "\n"
          ]
        }
      ]
    },
    {
      "cell_type": "code",
      "source": [
        "df.show(5)"
      ],
      "metadata": {
        "colab": {
          "base_uri": "https://localhost:8080/"
        },
        "id": "WuU9n9jya6Sp",
        "outputId": "8c843cb5-e7d2-4b37-a59e-6054d29c0b07"
      },
      "execution_count": null,
      "outputs": [
        {
          "output_type": "stream",
          "name": "stdout",
          "text": [
            "+---+-----+---+\n",
            "| id| name|age|\n",
            "+---+-----+---+\n",
            "|  1|Harsh| 30|\n",
            "|  2| Yash| 25|\n",
            "|  3|Janit| 35|\n",
            "+---+-----+---+\n",
            "\n"
          ]
        }
      ]
    },
    {
      "cell_type": "code",
      "source": [
        "df.select(\"age\").show(5)"
      ],
      "metadata": {
        "id": "p5yDta4dX7M5",
        "colab": {
          "base_uri": "https://localhost:8080/"
        },
        "outputId": "28631f52-8f4c-4828-f8df-ca595c4e86aa"
      },
      "execution_count": null,
      "outputs": [
        {
          "output_type": "stream",
          "name": "stdout",
          "text": [
            "+---+\n",
            "|age|\n",
            "+---+\n",
            "| 30|\n",
            "| 25|\n",
            "| 35|\n",
            "+---+\n",
            "\n"
          ]
        }
      ]
    },
    {
      "cell_type": "code",
      "source": [
        "#Filter operations\n",
        "#Column rename"
      ],
      "metadata": {
        "id": "hfpjh1-TYYrI"
      },
      "execution_count": null,
      "outputs": []
    },
    {
      "cell_type": "code",
      "source": [
        "df = spark.read.option(\"delimiter\",' ').csv(\"/content/500.txt\",header=True,inferSchema=True)\n",
        "df.show()\n",
        "df.printSchema()"
      ],
      "metadata": {
        "colab": {
          "base_uri": "https://localhost:8080/"
        },
        "id": "bCFBf3G1a1dS",
        "outputId": "117c37e0-e328-4941-9862-faabd7ca9213"
      },
      "execution_count": null,
      "outputs": [
        {
          "output_type": "stream",
          "name": "stdout",
          "text": [
            "+----------+--------+------------+--------+------------+-----------+------+------------+-----------+---------+----------+----------+--------+---------+----------+-----------------+-------------+----------+----------+----------+----------+---------+-----------+----------+-------------+--------------+-----------+--------+------------+----------+-----------+-----------+-------------+----------+----------+-----------+-----------+\n",
            "|        In|    the1|       realm|     of3| cyberspace,|      where| bytes|       dance|       and8|electrons|    twirl,|       a11|symphony|     of13|characters|         unfolds.|        The16|   digital|landscape,|   adorned|      with|    the21|      likes|      of23|           @,|            #,|      and26|      $,|      weaves|       a29|   tapestry|       of31|communication|      that|transcends|traditional|boundaries.|\n",
            "+----------+--------+------------+--------+------------+-----------+------+------------+-----------+---------+----------+----------+--------+---------+----------+-----------------+-------------+----------+----------+----------+----------+---------+-----------+----------+-------------+--------------+-----------+--------+------------+----------+-----------+-----------+-------------+----------+----------+-----------+-----------+\n",
            "|        As|     the|       clock| strikes|   midnight,|          a|  lone|     hacker,|   wielding|        a|  keyboard|      like|       a| virtuoso|      with|                a|       piano,|   embarks|        on|         a| nocturnal|  journey|    through|       the|      matrix.|           The|click-clack|      of|        keys|    echoes|         in|        the|      virtual|corridors,|        as|        the|     hacker|\n",
            "|Meanwhile,|       a|        chat|    room|     springs|         to|  life|        with|     emojis|     that|     wink,|    smirk,|     and|  express|         a|           myriad|           of| emotions.|    😎🚀🌟|       The|  language|       of|        the|  internet|           is|           not|   confined|      to|     letters|       and|     words;|         it|           is|         a|   collage|         of|   symbols,|\n",
            "|        In|     the|   encrypted|  depths|          of|        the|  web,|           a|clandestine|  meeting|        is|     about|      to|     take|    place.|              The|participants,|identified|        by|pseudonyms|      such|       as|DarkPhoenix|       and|CipherShadow,|      exchange|    cryptic|messages|   encrypted|      with|     arcane|   symbols.|        %$!&^|      null|      null|       null|       null|\n",
            "|        As|     the|conversation|unfolds,|           a| mysterious|figure|     emerges|       from|      the|   digital|  shadows.|   Their|username,|         a|      combination|           of|     Greek|   letters|       and| numerals,|     adds|         an|       air|           of|        enigma|         to|     the|proceedings.|    ΨΣΩ007|       null|       null|         null|      null|      null|       null|       null|\n",
            "|       The| virtual|       realm|      is|           a| playground|   for| creativity,|      where|    ASCII|       art|flourishes|    like|  digital| graffiti.|                A|    pixelated|    dragon|  breathes|      fire|        in|      one|    corner,|     while|            a|     whimsical|        cat|composed|          of|characters|    frolics|         in|     another.|     ≧^◡^≦|      null|       null|       null|\n",
            "|    Amidst|     the|         sea|      of|alphanumeric|characters,|     a|      string|         of|     code|   emerges|      that|   holds|      the|       key|               to|            a|   virtual|  treasure|    trove.|       The|sequence,|          a|   complex|       fusion|            of|    symbols|     and|    numbers,| resembles|         an|  intricate|       puzzle|   waiting|        to|         be|    solved.|\n",
            "|        In|     the|       heart|      of|           a|   bustling|online|marketplace,|        the| currency|        of|       the|  future|       is|exchanged.|Cryptocurrencies,|  represented|        by|   symbols|      like| Bitcoin's|        ₿|        and|Ethereum's|           Ξ,|      redefine|        the| concept|          of|     value|         in|        the|      digital|      age.|      💰🌐|       null|       null|\n",
            "|       The|symphony|          of| special|  characters|  continues|    to|       play,|   creating|        a|harmonious| cacophony|    that|  defines|       the|          digital|  experience.|      From|       the|    subtle|underscore|      (_)|         to|       the|   flamboyant|   exclamation|       mark|    (!),|        each| character|contributes|         to|          the|      vast|   lexicon|         of|        the|\n",
            "|        In|     the|       grand|tapestry|          of|        the| World|        Wide|       Web,|    every|   special| character|     has|        a|      role|               to|        play.|   Whether|      it's|       the|     tilde|      (~)| gracefully|   tilting|           on|             a|        URL|      or|         the|  asterisk|        (*)|emphasizing|            a|   crucial|    point,|      these| characters|\n",
            "|        As|     the|     virtual|     sun|       rises|         on|     a|         new|       day,|      the|   special|characters|persist,|  shaping|       the|        narrative|           of|       the|   digital| frontier.|       The| language|         of|cyberspace|           is|ever-evolving,|        and|      in|        this|     dance|         of|characters,|            a|     story|   unfolds|       that| transcends|\n",
            "+----------+--------+------------+--------+------------+-----------+------+------------+-----------+---------+----------+----------+--------+---------+----------+-----------------+-------------+----------+----------+----------+----------+---------+-----------+----------+-------------+--------------+-----------+--------+------------+----------+-----------+-----------+-------------+----------+----------+-----------+-----------+\n",
            "\n",
            "root\n",
            " |-- In: string (nullable = true)\n",
            " |-- the1: string (nullable = true)\n",
            " |-- realm: string (nullable = true)\n",
            " |-- of3: string (nullable = true)\n",
            " |-- cyberspace,: string (nullable = true)\n",
            " |-- where: string (nullable = true)\n",
            " |-- bytes: string (nullable = true)\n",
            " |-- dance: string (nullable = true)\n",
            " |-- and8: string (nullable = true)\n",
            " |-- electrons: string (nullable = true)\n",
            " |-- twirl,: string (nullable = true)\n",
            " |-- a11: string (nullable = true)\n",
            " |-- symphony: string (nullable = true)\n",
            " |-- of13: string (nullable = true)\n",
            " |-- characters: string (nullable = true)\n",
            " |-- unfolds.: string (nullable = true)\n",
            " |-- The16: string (nullable = true)\n",
            " |-- digital: string (nullable = true)\n",
            " |-- landscape,: string (nullable = true)\n",
            " |-- adorned: string (nullable = true)\n",
            " |-- with: string (nullable = true)\n",
            " |-- the21: string (nullable = true)\n",
            " |-- likes: string (nullable = true)\n",
            " |-- of23: string (nullable = true)\n",
            " |-- @,: string (nullable = true)\n",
            " |-- #,: string (nullable = true)\n",
            " |-- and26: string (nullable = true)\n",
            " |-- $,: string (nullable = true)\n",
            " |-- weaves: string (nullable = true)\n",
            " |-- a29: string (nullable = true)\n",
            " |-- tapestry: string (nullable = true)\n",
            " |-- of31: string (nullable = true)\n",
            " |-- communication: string (nullable = true)\n",
            " |-- that: string (nullable = true)\n",
            " |-- transcends: string (nullable = true)\n",
            " |-- traditional: string (nullable = true)\n",
            " |-- boundaries.: string (nullable = true)\n",
            "\n"
          ]
        }
      ]
    },
    {
      "cell_type": "code",
      "source": [
        "from pyspark.sql import SparkSession\n",
        "from pyspark.sql.types import StructType, StructField, StringType, IntegerType\n",
        "\n",
        "# Create a SparkSession\n",
        "spark = SparkSession.builder \\\n",
        "    .appName(\"CreateDataFrameExample\") \\\n",
        "    .getOrCreate()\n",
        "\n",
        "# Define schema for the DataFrame\n",
        "schema = StructType([\n",
        "    StructField(\"CountryName\", StringType(), True),\n",
        "    StructField(\"CountryCode\", StringType(), True),\n",
        "    StructField(\"Year\", IntegerType(), True),\n",
        "    StructField(\"value\", IntegerType(), True)\n",
        "])\n",
        "\n",
        "# Sample data\n",
        "data = [(\"India\", \"IND\", 2011,1),\n",
        "        (\"Japan\", \"JPN\", 2012,2),\n",
        "        (\"china\", \"CHA\", 2013,3)]\n",
        "\n",
        "# Create a DataFrame\n",
        "df = spark.createDataFrame(data, schema)\n",
        "\n",
        "# Show the DataFrame\n",
        "df.show()"
      ],
      "metadata": {
        "colab": {
          "base_uri": "https://localhost:8080/"
        },
        "id": "yLuQemKspZFz",
        "outputId": "f0e85eaf-b7f6-4800-a0d0-3736429fec4e"
      },
      "execution_count": null,
      "outputs": [
        {
          "output_type": "stream",
          "name": "stdout",
          "text": [
            "+-----------+-----------+----+-----+\n",
            "|CountryName|CountryCode|Year|value|\n",
            "+-----------+-----------+----+-----+\n",
            "|      India|        IND|2011|    1|\n",
            "|      Japan|        JPN|2012|    2|\n",
            "|      china|        CHA|2013|    3|\n",
            "+-----------+-----------+----+-----+\n",
            "\n"
          ]
        }
      ]
    },
    {
      "cell_type": "code",
      "source": [
        "df = spark.read.options(delimiter='|',infeschema=True,header=True).csv(\"/content/file.csv.txt\")\n",
        "df.show()\n",
        "df.printSchema()"
      ],
      "metadata": {
        "colab": {
          "base_uri": "https://localhost:8080/"
        },
        "id": "28I_Fi8qpkPm",
        "outputId": "8367f23f-bf47-425a-a86a-fc483447c2e8"
      },
      "execution_count": null,
      "outputs": [
        {
          "output_type": "stream",
          "name": "stdout",
          "text": [
            "+------------+------------+----+-------+\n",
            "|Country Name|Country Code|Year|Value  |\n",
            "+------------+------------+----+-------+\n",
            "|       India|        In01|2000|     90|\n",
            "|         USA|        US03|2001|     18|\n",
            "|       China|        ch07|1999|     78|\n",
            "|       Japan|       jap82|2005|     45|\n",
            "|       Saudi|       sau81|2003|     56|\n",
            "+------------+------------+----+-------+\n",
            "\n",
            "root\n",
            " |-- Country Name: string (nullable = true)\n",
            " |-- Country Code: string (nullable = true)\n",
            " |-- Year: string (nullable = true)\n",
            " |-- Value  : string (nullable = true)\n",
            "\n"
          ]
        }
      ]
    },
    {
      "cell_type": "markdown",
      "source": [
        "Filter is used to filter the things\n",
        "#Condition and year is 2000 or 2005"
      ],
      "metadata": {
        "id": "IxIbXkoxwftf"
      }
    },
    {
      "cell_type": "code",
      "source": [
        "from pyspark.sql.functions import col\n",
        "filtered_dataframe =df.filter(col('Year').isin(2000,2005) )\n",
        "filtered_dataframe.show()\n"
      ],
      "metadata": {
        "colab": {
          "base_uri": "https://localhost:8080/"
        },
        "id": "kDDmGrGfdWop",
        "outputId": "bd8ee1a7-cc73-42c1-b908-33c7bb41eee1"
      },
      "execution_count": null,
      "outputs": [
        {
          "output_type": "stream",
          "name": "stdout",
          "text": [
            "+-------+------------+----+-------+\n",
            "|Country|Country Code|Year|Value  |\n",
            "+-------+------------+----+-------+\n",
            "|  India|        In01|2000|     90|\n",
            "|  Japan|       jap82|2005|     45|\n",
            "+-------+------------+----+-------+\n",
            "\n"
          ]
        }
      ]
    },
    {
      "cell_type": "markdown",
      "source": [
        "# Condition for year in 2000 and 2005"
      ],
      "metadata": {
        "id": "akZ2d67Edv6J"
      }
    },
    {
      "cell_type": "code",
      "source": [
        "from pyspark.sql.functions import col\n",
        "filtered_dataframe = df.filter((col('Year') == 2000) & (col('Year') == 2005))\n",
        "filtered_dataframe.show()\n",
        "# Empty result because there is no matching column\n"
      ],
      "metadata": {
        "colab": {
          "base_uri": "https://localhost:8080/"
        },
        "id": "zVlLs3vzdvY5",
        "outputId": "2ed0d840-2f14-47fd-ec41-f5db9ce67dee"
      },
      "execution_count": null,
      "outputs": [
        {
          "output_type": "stream",
          "name": "stdout",
          "text": [
            "+-------+------------+----+-------+\n",
            "|Country|Country Code|Year|Value  |\n",
            "+-------+------------+----+-------+\n",
            "+-------+------------+----+-------+\n",
            "\n"
          ]
        }
      ]
    },
    {
      "cell_type": "markdown",
      "source": [
        "#Filter in Pyspark\n"
      ],
      "metadata": {
        "id": "Q65wSx06xsza"
      }
    },
    {
      "cell_type": "code",
      "source": [
        "from pyspark.sql.functions import col\n",
        "filtered_dataframe =df.filter(col('Country Name')=='India' )\n",
        "filtered_dataframe.show()\n"
      ],
      "metadata": {
        "colab": {
          "base_uri": "https://localhost:8080/"
        },
        "id": "vOvBIL7VrdH4",
        "outputId": "58b90122-aaa3-4b91-bea7-7e192a06e88e"
      },
      "execution_count": null,
      "outputs": [
        {
          "output_type": "stream",
          "name": "stdout",
          "text": [
            "+------------+------------+----+-------+\n",
            "|Country Name|Country Code|Year|Value  |\n",
            "+------------+------------+----+-------+\n",
            "|       India|        In01|2000|     90|\n",
            "+------------+------------+----+-------+\n",
            "\n"
          ]
        }
      ]
    },
    {
      "cell_type": "markdown",
      "source": [],
      "metadata": {
        "id": "3rL8UlSfzLlx"
      }
    },
    {
      "cell_type": "markdown",
      "source": [
        "# Do filter,groupBy and aggregation all in one function."
      ],
      "metadata": {
        "id": "1ZfzQOefzWdx"
      }
    },
    {
      "cell_type": "code",
      "source": [
        "new_data_frame = df.filter(col('Year') == 2000).groupby(\"Value  \").agg({'Value  ':'count'})\n",
        "new_data_frame.show()"
      ],
      "metadata": {
        "colab": {
          "base_uri": "https://localhost:8080/"
        },
        "id": "4vEh6wMVYBDd",
        "outputId": "87e043cb-edc7-49e0-850c-fd50e2355728"
      },
      "execution_count": null,
      "outputs": [
        {
          "output_type": "stream",
          "name": "stdout",
          "text": [
            "+-------+--------------+\n",
            "|Value  |count(Value  )|\n",
            "+-------+--------------+\n",
            "|     90|             1|\n",
            "+-------+--------------+\n",
            "\n"
          ]
        }
      ]
    },
    {
      "cell_type": "markdown",
      "source": [
        "# Column Renamed  Function"
      ],
      "metadata": {
        "id": "P4UcSizIdGOp"
      }
    },
    {
      "cell_type": "code",
      "source": [
        "# new_data={'country':'countryname'}\n",
        "df =df.withColumnRenamed(\"Country Name\",\"Country\")\n",
        "# df_renamed.show()\n",
        "df.show()\n"
      ],
      "metadata": {
        "colab": {
          "base_uri": "https://localhost:8080/"
        },
        "id": "77CnxV3ux_7H",
        "outputId": "4ce20d18-4d62-4867-aa87-b41ff00b676d"
      },
      "execution_count": null,
      "outputs": [
        {
          "output_type": "stream",
          "name": "stdout",
          "text": [
            "+-------+------------+----+-------+\n",
            "|Country|Country Code|Year|Value  |\n",
            "+-------+------------+----+-------+\n",
            "|  India|        In01|2000|     90|\n",
            "|    USA|        US03|2001|     18|\n",
            "|  China|        ch07|1999|     78|\n",
            "|  Japan|       jap82|2005|     45|\n",
            "|  Saudi|       sau81|2003|     56|\n",
            "+-------+------------+----+-------+\n",
            "\n"
          ]
        }
      ]
    },
    {
      "cell_type": "markdown",
      "source": [
        "change multiple column names"
      ],
      "metadata": {
        "id": "EOr5p8mE0YYd"
      }
    },
    {
      "cell_type": "code",
      "source": [],
      "metadata": {
        "id": "qIUEF_BBzwaT"
      },
      "execution_count": null,
      "outputs": []
    },
    {
      "cell_type": "markdown",
      "source": [
        "## Partitioning and shuffling\n",
        "where we can use RDD and data frame\n"
      ],
      "metadata": {
        "id": "xDI-dISy3WbB"
      }
    },
    {
      "cell_type": "code",
      "source": [],
      "metadata": {
        "id": "JWuju7A1XzHj"
      },
      "execution_count": null,
      "outputs": []
    }
  ],
  "metadata": {
    "colab": {
      "provenance": []
    },
    "kernelspec": {
      "display_name": "Python 3",
      "name": "python3"
    },
    "language_info": {
      "name": "python"
    }
  },
  "nbformat": 4,
  "nbformat_minor": 0
}