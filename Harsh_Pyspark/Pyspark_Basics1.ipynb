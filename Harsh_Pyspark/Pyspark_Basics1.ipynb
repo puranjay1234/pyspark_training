{
  "cells": [
    {
      "cell_type": "code",
      "execution_count": null,
      "metadata": {
        "id": "a_cXuQ4x7AsZ"
      },
      "outputs": [],
      "source": [
        "!apt-get install openjdk-8-jdk-headless -qq > /dev/null\n",
        "!wget -q http://archive.apache.org/dist/spark/spark-3.1.1/spark-3.1.1-bin-hadoop3.2.tgz\n",
        "!tar xf spark-3.1.1-bin-hadoop3.2.tgz\n",
        "!pip install -q findspark\n"
      ]
    },
    {
      "cell_type": "code",
      "execution_count": null,
      "metadata": {
        "id": "m8GrdZVo7ZpS"
      },
      "outputs": [],
      "source": [
        "import os\n",
        "os.environ[\"JAVA_HOME\"] = \"/usr/lib/jvm/java-8-openjdk-amd64\"\n",
        "os.environ[\"SPARK_HOME\"] = \"/content/spark-3.1.1-bin-hadoop3.2\"\n",
        "\n"
      ]
    },
    {
      "cell_type": "code",
      "execution_count": null,
      "metadata": {
        "id": "pm1mvMDE78DC"
      },
      "outputs": [],
      "source": [
        "import findspark\n",
        "findspark.init()\n"
      ]
    },
    {
      "cell_type": "code",
      "execution_count": null,
      "metadata": {
        "colab": {
          "base_uri": "https://localhost:8080/",
          "height": 221
        },
        "id": "nU31OWxq8ANN",
        "outputId": "255ec4d9-fac8-4bf7-c2a9-aa60d843ce63"
      },
      "outputs": [
        {
          "output_type": "execute_result",
          "data": {
            "text/plain": [
              "<pyspark.sql.session.SparkSession at 0x7c6e85645ae0>"
            ],
            "text/html": [
              "\n",
              "            <div>\n",
              "                <p><b>SparkSession - in-memory</b></p>\n",
              "                \n",
              "        <div>\n",
              "            <p><b>SparkContext</b></p>\n",
              "\n",
              "            <p><a href=\"http://36ce0044decf:4040\">Spark UI</a></p>\n",
              "\n",
              "            <dl>\n",
              "              <dt>Version</dt>\n",
              "                <dd><code>v3.1.1</code></dd>\n",
              "              <dt>Master</dt>\n",
              "                <dd><code>local[*]</code></dd>\n",
              "              <dt>AppName</dt>\n",
              "                <dd><code>pyspark-shell</code></dd>\n",
              "            </dl>\n",
              "        </div>\n",
              "        \n",
              "            </div>\n",
              "        "
            ]
          },
          "metadata": {},
          "execution_count": 17
        }
      ],
      "source": [
        "from pyspark.sql import SparkSession\n",
        "spark = SparkSession.builder.master(\"local[*]\").getOrCreate()\n",
        "spark"
      ]
    },
    {
      "cell_type": "code",
      "execution_count": null,
      "metadata": {
        "colab": {
          "base_uri": "https://localhost:8080/"
        },
        "id": "gcOTaonp8BTu",
        "outputId": "aedc6b2a-96ca-49ca-898e-cbeafa5dee17"
      },
      "outputs": [
        {
          "output_type": "stream",
          "name": "stdout",
          "text": [
            "+---+-----+---+\n",
            "| id| name|age|\n",
            "+---+-----+---+\n",
            "|  1|Harsh| 30|\n",
            "|  2| Yash| 25|\n",
            "|  3|Janit| 35|\n",
            "+---+-----+---+\n",
            "\n"
          ]
        }
      ],
      "source": [
        "# Import necessary libraries\n",
        "from pyspark.sql import SparkSession\n",
        "from pyspark.sql import Row\n",
        "\n",
        "# Create a SparkSession\n",
        "spark = SparkSession.builder \\\n",
        "    .appName(\"Simple PySpark DataFrame\") \\\n",
        "    .getOrCreate()\n",
        "\n",
        "# Create some data\n",
        "data = [\n",
        "    Row(id=1, name='Harsh', age=30),\n",
        "    Row(id=2, name='Yash', age=25),\n",
        "    Row(id=3, name='Janit', age=35)\n",
        "]\n",
        "\n",
        "# Create a DataFrame from the data\n",
        "df = spark.createDataFrame(data)\n",
        "\n",
        "# Show the DataFrame\n",
        "df.show()\n"
      ]
    },
    {
      "cell_type": "code",
      "source": [
        "from pyspark.sql.functions import col\n",
        "df = df.withColumn(\"age\", col(\"age\").cast(\"string\"))\n"
      ],
      "metadata": {
        "id": "Rno68qWSRl25"
      },
      "execution_count": null,
      "outputs": []
    },
    {
      "cell_type": "code",
      "execution_count": null,
      "metadata": {
        "id": "YkBJskXG56b-"
      },
      "outputs": [],
      "source": [
        "from pyspark.sql import SparkSession\n",
        "spark = SparkSession.builder \\\n",
        "    .appName(\"Read CSV\") \\\n",
        "    .getOrCreate()\n",
        "df = spark.read.csv(\"/content/sample_data/california_housing_test.csv\", header=True, inferSchema=False)"
      ]
    },
    {
      "cell_type": "code",
      "execution_count": null,
      "metadata": {
        "id": "0qPfeDKq6IGM",
        "colab": {
          "base_uri": "https://localhost:8080/"
        },
        "outputId": "4a5dd80c-a48b-4436-a842-1eddb570f86a"
      },
      "outputs": [
        {
          "output_type": "stream",
          "name": "stdout",
          "text": [
            "+-----------+---------+------------------+-----------+--------------+-----------+-----------+-------------+------------------+\n",
            "|  longitude| latitude|housing_median_age|total_rooms|total_bedrooms| population| households|median_income|median_house_value|\n",
            "+-----------+---------+------------------+-----------+--------------+-----------+-----------+-------------+------------------+\n",
            "|-122.050000|37.370000|         27.000000|3885.000000|    661.000000|1537.000000| 606.000000|     6.608500|     344700.000000|\n",
            "|-118.300000|34.260000|         43.000000|1510.000000|    310.000000| 809.000000| 277.000000|     3.599000|     176500.000000|\n",
            "|-117.810000|33.780000|         27.000000|3589.000000|    507.000000|1484.000000| 495.000000|     5.793400|     270500.000000|\n",
            "|-118.360000|33.820000|         28.000000|  67.000000|     15.000000|  49.000000|  11.000000|     6.135900|     330000.000000|\n",
            "|-119.670000|36.330000|         19.000000|1241.000000|    244.000000| 850.000000| 237.000000|     2.937500|      81700.000000|\n",
            "|-119.560000|36.510000|         37.000000|1018.000000|    213.000000| 663.000000| 204.000000|     1.663500|      67000.000000|\n",
            "|-121.430000|38.630000|         43.000000|1009.000000|    225.000000| 604.000000| 218.000000|     1.664100|      67000.000000|\n",
            "|-120.650000|35.480000|         19.000000|2310.000000|    471.000000|1341.000000| 441.000000|     3.225000|     166900.000000|\n",
            "|-122.840000|38.400000|         15.000000|3080.000000|    617.000000|1446.000000| 599.000000|     3.669600|     194400.000000|\n",
            "|-118.020000|34.080000|         31.000000|2402.000000|    632.000000|2830.000000| 603.000000|     2.333300|     164200.000000|\n",
            "|-118.240000|33.980000|         45.000000| 972.000000|    249.000000|1288.000000| 261.000000|     2.205400|     125000.000000|\n",
            "|-119.120000|35.850000|         37.000000| 736.000000|    166.000000| 564.000000| 138.000000|     2.416700|      58300.000000|\n",
            "|-121.930000|37.250000|         36.000000|1089.000000|    182.000000| 535.000000| 170.000000|     4.690000|     252600.000000|\n",
            "|-117.030000|32.970000|         16.000000|3936.000000|    694.000000|1935.000000| 659.000000|     4.562500|     231200.000000|\n",
            "|-117.970000|33.730000|         27.000000|2097.000000|    325.000000|1217.000000| 331.000000|     5.712100|     222500.000000|\n",
            "|-117.990000|33.810000|         42.000000| 161.000000|     40.000000| 157.000000|  50.000000|     2.200000|     153100.000000|\n",
            "|-120.810000|37.530000|         15.000000| 570.000000|    123.000000| 189.000000| 107.000000|     1.875000|     181300.000000|\n",
            "|-121.200000|38.690000|         26.000000|3077.000000|    607.000000|1603.000000| 595.000000|     2.717400|     137500.000000|\n",
            "|-118.880000|34.210000|         26.000000|1590.000000|    196.000000| 654.000000| 199.000000|     6.585100|     300000.000000|\n",
            "|-122.590000|38.010000|         35.000000|8814.000000|   1307.000000|3450.000000|1258.000000|     6.172400|     414300.000000|\n",
            "+-----------+---------+------------------+-----------+--------------+-----------+-----------+-------------+------------------+\n",
            "only showing top 20 rows\n",
            "\n"
          ]
        }
      ],
      "source": [
        "df.show(20)"
      ]
    },
    {
      "cell_type": "code",
      "source": [
        "df.printSchema()"
      ],
      "metadata": {
        "id": "3I-Ob_0PMWtz",
        "colab": {
          "base_uri": "https://localhost:8080/"
        },
        "outputId": "bb4c152c-bd69-4bd8-d055-0db83582363a"
      },
      "execution_count": null,
      "outputs": [
        {
          "output_type": "stream",
          "name": "stdout",
          "text": [
            "root\n",
            " |-- longitude: string (nullable = true)\n",
            " |-- latitude: string (nullable = true)\n",
            " |-- housing_median_age: string (nullable = true)\n",
            " |-- total_rooms: string (nullable = true)\n",
            " |-- total_bedrooms: string (nullable = true)\n",
            " |-- population: string (nullable = true)\n",
            " |-- households: string (nullable = true)\n",
            " |-- median_income: string (nullable = true)\n",
            " |-- median_house_value: string (nullable = true)\n",
            "\n"
          ]
        }
      ]
    },
    {
      "cell_type": "code",
      "source": [
        "from pyspark.sql import SparkSession\n",
        "from pyspark.sql.types import StructType, StructField, StringType, IntegerType\n",
        "\n",
        "# Create a SparkSession\n",
        "spark = SparkSession.builder \\\n",
        "    .appName(\"CreateDataFrameExample\") \\\n",
        "    .getOrCreate()\n",
        "\n",
        "# Define schema for the DataFrame\n",
        "schema = StructType([\n",
        "    StructField(\"id\", IntegerType(), True),\n",
        "    StructField(\"name\", StringType(), True),\n",
        "    StructField(\"age\", IntegerType(), True)\n",
        "])\n",
        "\n",
        "# Sample data\n",
        "data = [(1, \"Harsh\", 30),\n",
        "        (2, \"Yash\", 25),\n",
        "        (3, \"Janit\", 35)]\n",
        "\n",
        "# Create a DataFrame\n",
        "df = spark.createDataFrame(data, schema)\n",
        "\n",
        "# Show the DataFrame\n",
        "df.show()\n"
      ],
      "metadata": {
        "id": "CNY9tuEFNUVZ",
        "colab": {
          "base_uri": "https://localhost:8080/"
        },
        "outputId": "cb6e135e-ed0b-4751-af30-ee5d81baece7"
      },
      "execution_count": null,
      "outputs": [
        {
          "output_type": "stream",
          "name": "stdout",
          "text": [
            "+---+-----+---+\n",
            "| id| name|age|\n",
            "+---+-----+---+\n",
            "|  1|Harsh| 30|\n",
            "|  2| Yash| 25|\n",
            "|  3|Janit| 35|\n",
            "+---+-----+---+\n",
            "\n"
          ]
        }
      ]
    },
    {
      "cell_type": "code",
      "source": [
        "df.printSchema()"
      ],
      "metadata": {
        "id": "MlQlgyPvdSQW",
        "colab": {
          "base_uri": "https://localhost:8080/"
        },
        "outputId": "04205326-272e-4c80-c580-aa8374b4b4fc"
      },
      "execution_count": null,
      "outputs": [
        {
          "output_type": "stream",
          "name": "stdout",
          "text": [
            "root\n",
            " |-- id: integer (nullable = true)\n",
            " |-- name: string (nullable = true)\n",
            " |-- age: integer (nullable = true)\n",
            "\n"
          ]
        }
      ]
    },
    {
      "cell_type": "code",
      "source": [
        "from pyspark.sql.functions import col\n",
        "df = df.withColumn(\"age\", col(\"age\").cast(\"string\"))\n"
      ],
      "metadata": {
        "id": "ZVlZ6F3gdVQs"
      },
      "execution_count": null,
      "outputs": []
    },
    {
      "cell_type": "code",
      "source": [
        "df.printSchema()"
      ],
      "metadata": {
        "id": "eLchYhnVeP3y",
        "colab": {
          "base_uri": "https://localhost:8080/"
        },
        "outputId": "64754257-b30f-4337-aca1-bad60732a935"
      },
      "execution_count": null,
      "outputs": [
        {
          "output_type": "stream",
          "name": "stdout",
          "text": [
            "root\n",
            " |-- id: integer (nullable = true)\n",
            " |-- name: string (nullable = true)\n",
            " |-- age: string (nullable = true)\n",
            "\n"
          ]
        }
      ]
    },
    {
      "cell_type": "code",
      "source": [
        "sc=spark.sparkContext\n",
        "data = [1, 2, 3, 4, 5]\n",
        "rdd = sc.parallelize(data)\n",
        "\n",
        "print(rdd.collect())"
      ],
      "metadata": {
        "id": "LIaBp5EOemyn",
        "colab": {
          "base_uri": "https://localhost:8080/"
        },
        "outputId": "b418da56-cf6b-405b-fa7d-b3b2a3c7132b"
      },
      "execution_count": null,
      "outputs": [
        {
          "output_type": "stream",
          "name": "stdout",
          "text": [
            "[1, 2, 3, 4, 5]\n"
          ]
        }
      ]
    },
    {
      "cell_type": "code",
      "source": [
        "df2 = spark.read.parquet(\"/content/userdata1.parquet\")"
      ],
      "metadata": {
        "id": "fyVUXMNZhApP"
      },
      "execution_count": null,
      "outputs": []
    },
    {
      "cell_type": "code",
      "source": [
        "df2.show(5)"
      ],
      "metadata": {
        "id": "flnTggSZURx2",
        "colab": {
          "base_uri": "https://localhost:8080/"
        },
        "outputId": "310624f4-2d08-4301-f3a8-5cdd9f04e2e2"
      },
      "execution_count": null,
      "outputs": [
        {
          "output_type": "stream",
          "name": "stdout",
          "text": [
            "+-------------------+---+----------+---------+--------------------+------+--------------+----------------+------------+---------+---------+--------------------+--------+\n",
            "|  registration_dttm| id|first_name|last_name|               email|gender|    ip_address|              cc|     country|birthdate|   salary|               title|comments|\n",
            "+-------------------+---+----------+---------+--------------------+------+--------------+----------------+------------+---------+---------+--------------------+--------+\n",
            "|2016-02-03 07:55:29|  1|    Amanda|   Jordan|    ajordan0@com.com|Female|   1.197.201.2|6759521864920116|   Indonesia| 3/8/1971| 49756.53|    Internal Auditor|   1E+02|\n",
            "|2016-02-03 17:04:03|  2|    Albert|  Freeman|     afreeman1@is.gd|  Male|218.111.175.34|                |      Canada|1/16/1968|150280.17|       Accountant IV|        |\n",
            "|2016-02-03 01:09:31|  3|    Evelyn|   Morgan|emorgan2@altervis...|Female|  7.161.136.94|6767119071901597|      Russia| 2/1/1960|144972.51| Structural Engineer|        |\n",
            "|2016-02-03 00:36:21|  4|    Denise|    Riley|    driley3@gmpg.org|Female| 140.35.109.83|3576031598965625|       China| 4/8/1997| 90263.05|Senior Cost Accou...|        |\n",
            "|2016-02-03 05:05:31|  5|    Carlos|    Burns|cburns4@miitbeian...|      |169.113.235.40|5602256255204850|South Africa|         |     null|                    |        |\n",
            "+-------------------+---+----------+---------+--------------------+------+--------------+----------------+------------+---------+---------+--------------------+--------+\n",
            "only showing top 5 rows\n",
            "\n"
          ]
        }
      ]
    },
    {
      "cell_type": "code",
      "source": [
        "df2.printSchema()"
      ],
      "metadata": {
        "id": "8B2dABFfUU74",
        "colab": {
          "base_uri": "https://localhost:8080/"
        },
        "outputId": "1d47699e-dc56-4c5d-8dfb-313715f500da"
      },
      "execution_count": null,
      "outputs": [
        {
          "output_type": "stream",
          "name": "stdout",
          "text": [
            "root\n",
            " |-- registration_dttm: timestamp (nullable = true)\n",
            " |-- id: integer (nullable = true)\n",
            " |-- first_name: string (nullable = true)\n",
            " |-- last_name: string (nullable = true)\n",
            " |-- email: string (nullable = true)\n",
            " |-- gender: string (nullable = true)\n",
            " |-- ip_address: string (nullable = true)\n",
            " |-- cc: string (nullable = true)\n",
            " |-- country: string (nullable = true)\n",
            " |-- birthdate: string (nullable = true)\n",
            " |-- salary: double (nullable = true)\n",
            " |-- title: string (nullable = true)\n",
            " |-- comments: string (nullable = true)\n",
            "\n"
          ]
        }
      ]
    },
    {
      "cell_type": "code",
      "source": [
        "#read the json file by taking the multiline=true\n",
        "df3=spark.read.json(\"/content/sample_data/anscombe.json\")\n"
      ],
      "metadata": {
        "id": "CMHsIVNIUYLa"
      },
      "execution_count": null,
      "outputs": []
    },
    {
      "cell_type": "code",
      "source": [
        "!cat /content/example_1.json"
      ],
      "metadata": {
        "id": "ekNDisXo3zmb",
        "colab": {
          "base_uri": "https://localhost:8080/"
        },
        "outputId": "0a611d90-928c-4576-d4c3-3676fa6eb4cb"
      },
      "execution_count": null,
      "outputs": [
        {
          "output_type": "stream",
          "name": "stdout",
          "text": [
            "cat: /content/example_1.json: No such file or directory\n"
          ]
        }
      ]
    },
    {
      "cell_type": "code",
      "source": [
        "df3.printSchema()"
      ],
      "metadata": {
        "id": "rXV89nGp30Gt",
        "colab": {
          "base_uri": "https://localhost:8080/"
        },
        "outputId": "dfeefcf6-b85a-42fa-c6bb-7426befaff6e"
      },
      "execution_count": null,
      "outputs": [
        {
          "output_type": "stream",
          "name": "stdout",
          "text": [
            "root\n",
            " |-- Series: string (nullable = true)\n",
            " |-- X: double (nullable = true)\n",
            " |-- Y: double (nullable = true)\n",
            " |-- _corrupt_record: string (nullable = true)\n",
            "\n"
          ]
        }
      ]
    },
    {
      "cell_type": "code",
      "source": [
        "df3 = df3.filter(df3[\"_corrupt_record\"].isNull())"
      ],
      "metadata": {
        "id": "-LSqcggE4fkT"
      },
      "execution_count": null,
      "outputs": []
    },
    {
      "cell_type": "code",
      "source": [
        "#read the json file by taking the multiline=true\n",
        "\n",
        "df4=spark.read.json(\"/content/sample_data/anscombe.json\")\n",
        "\n",
        "!cat /content/sample_data/anscombe.json"
      ],
      "metadata": {
        "id": "DLw5l4a94fmk",
        "colab": {
          "base_uri": "https://localhost:8080/"
        },
        "outputId": "4580b28f-1a0c-409f-d551-33ba30be8149"
      },
      "execution_count": null,
      "outputs": [
        {
          "output_type": "stream",
          "name": "stdout",
          "text": [
            "[\n",
            "  {\"Series\":\"I\", \"X\":10.0, \"Y\":8.04},\n",
            "  {\"Series\":\"I\", \"X\":8.0, \"Y\":6.95},\n",
            "  {\"Series\":\"I\", \"X\":13.0, \"Y\":7.58},\n",
            "  {\"Series\":\"I\", \"X\":9.0, \"Y\":8.81},\n",
            "  {\"Series\":\"I\", \"X\":11.0, \"Y\":8.33},\n",
            "  {\"Series\":\"I\", \"X\":14.0, \"Y\":9.96},\n",
            "  {\"Series\":\"I\", \"X\":6.0, \"Y\":7.24},\n",
            "  {\"Series\":\"I\", \"X\":4.0, \"Y\":4.26},\n",
            "  {\"Series\":\"I\", \"X\":12.0, \"Y\":10.84},\n",
            "  {\"Series\":\"I\", \"X\":7.0, \"Y\":4.81},\n",
            "  {\"Series\":\"I\", \"X\":5.0, \"Y\":5.68},\n",
            "\n",
            "  {\"Series\":\"II\", \"X\":10.0, \"Y\":9.14},\n",
            "  {\"Series\":\"II\", \"X\":8.0, \"Y\":8.14},\n",
            "  {\"Series\":\"II\", \"X\":13.0, \"Y\":8.74},\n",
            "  {\"Series\":\"II\", \"X\":9.0, \"Y\":8.77},\n",
            "  {\"Series\":\"II\", \"X\":11.0, \"Y\":9.26},\n",
            "  {\"Series\":\"II\", \"X\":14.0, \"Y\":8.10},\n",
            "  {\"Series\":\"II\", \"X\":6.0, \"Y\":6.13},\n",
            "  {\"Series\":\"II\", \"X\":4.0, \"Y\":3.10},\n",
            "  {\"Series\":\"II\", \"X\":12.0, \"Y\":9.13},\n",
            "  {\"Series\":\"II\", \"X\":7.0, \"Y\":7.26},\n",
            "  {\"Series\":\"II\", \"X\":5.0, \"Y\":4.74},\n",
            "\n",
            "  {\"Series\":\"III\", \"X\":10.0, \"Y\":7.46},\n",
            "  {\"Series\":\"III\", \"X\":8.0, \"Y\":6.77},\n",
            "  {\"Series\":\"III\", \"X\":13.0, \"Y\":12.74},\n",
            "  {\"Series\":\"III\", \"X\":9.0, \"Y\":7.11},\n",
            "  {\"Series\":\"III\", \"X\":11.0, \"Y\":7.81},\n",
            "  {\"Series\":\"III\", \"X\":14.0, \"Y\":8.84},\n",
            "  {\"Series\":\"III\", \"X\":6.0, \"Y\":6.08},\n",
            "  {\"Series\":\"III\", \"X\":4.0, \"Y\":5.39},\n",
            "  {\"Series\":\"III\", \"X\":12.0, \"Y\":8.15},\n",
            "  {\"Series\":\"III\", \"X\":7.0, \"Y\":6.42},\n",
            "  {\"Series\":\"III\", \"X\":5.0, \"Y\":5.73},\n",
            "\n",
            "  {\"Series\":\"IV\", \"X\":8.0, \"Y\":6.58},\n",
            "  {\"Series\":\"IV\", \"X\":8.0, \"Y\":5.76},\n",
            "  {\"Series\":\"IV\", \"X\":8.0, \"Y\":7.71},\n",
            "  {\"Series\":\"IV\", \"X\":8.0, \"Y\":8.84},\n",
            "  {\"Series\":\"IV\", \"X\":8.0, \"Y\":8.47},\n",
            "  {\"Series\":\"IV\", \"X\":8.0, \"Y\":7.04},\n",
            "  {\"Series\":\"IV\", \"X\":8.0, \"Y\":5.25},\n",
            "  {\"Series\":\"IV\", \"X\":19.0, \"Y\":12.50},\n",
            "  {\"Series\":\"IV\", \"X\":8.0, \"Y\":5.56},\n",
            "  {\"Series\":\"IV\", \"X\":8.0, \"Y\":7.91},\n",
            "  {\"Series\":\"IV\", \"X\":8.0, \"Y\":6.89}\n",
            "]\n"
          ]
        }
      ]
    },
    {
      "cell_type": "markdown",
      "source": [
        "As you can see, when multiline=false, PySpark reads the entire file as a single JSON object and stores it in a column named _corrupt_record, because the data is not formatted correctly for this setting. This is why it's important to choose the appropriate value for the multiline option based on the structure of your JSON data."
      ],
      "metadata": {
        "id": "QYXZgOkuBN65"
      }
    },
    {
      "cell_type": "code",
      "source": [
        "df5 = spark.read.option(\"multiline\", \"false\").json(\"/content/sample_data/anscombe.json\")\n",
        "df5.show()"
      ],
      "metadata": {
        "id": "JerZ2qA-7VmH",
        "colab": {
          "base_uri": "https://localhost:8080/"
        },
        "outputId": "5f327a7b-e5de-4bca-d0ac-15dab935d406"
      },
      "execution_count": null,
      "outputs": [
        {
          "output_type": "stream",
          "name": "stdout",
          "text": [
            "+------+----+-----+---------------+\n",
            "|Series|   X|    Y|_corrupt_record|\n",
            "+------+----+-----+---------------+\n",
            "|  null|null| null|              [|\n",
            "|     I|10.0| 8.04|           null|\n",
            "|     I| 8.0| 6.95|           null|\n",
            "|     I|13.0| 7.58|           null|\n",
            "|     I| 9.0| 8.81|           null|\n",
            "|     I|11.0| 8.33|           null|\n",
            "|     I|14.0| 9.96|           null|\n",
            "|     I| 6.0| 7.24|           null|\n",
            "|     I| 4.0| 4.26|           null|\n",
            "|     I|12.0|10.84|           null|\n",
            "|     I| 7.0| 4.81|           null|\n",
            "|     I| 5.0| 5.68|           null|\n",
            "|    II|10.0| 9.14|           null|\n",
            "|    II| 8.0| 8.14|           null|\n",
            "|    II|13.0| 8.74|           null|\n",
            "|    II| 9.0| 8.77|           null|\n",
            "|    II|11.0| 9.26|           null|\n",
            "|    II|14.0|  8.1|           null|\n",
            "|    II| 6.0| 6.13|           null|\n",
            "|    II| 4.0|  3.1|           null|\n",
            "+------+----+-----+---------------+\n",
            "only showing top 20 rows\n",
            "\n"
          ]
        }
      ]
    },
    {
      "cell_type": "code",
      "source": [
        "df6 = spark.read.option(\"multiline\", \"true\").json(\"/content/sample_data/anscombe.json\")\n",
        "df6.show()"
      ],
      "metadata": {
        "id": "6RjfwiRN4fqC",
        "colab": {
          "base_uri": "https://localhost:8080/"
        },
        "outputId": "1f171270-6ea7-4897-82c5-8c10ae60141f"
      },
      "execution_count": null,
      "outputs": [
        {
          "output_type": "stream",
          "name": "stdout",
          "text": [
            "+------+----+-----+\n",
            "|Series|   X|    Y|\n",
            "+------+----+-----+\n",
            "|     I|10.0| 8.04|\n",
            "|     I| 8.0| 6.95|\n",
            "|     I|13.0| 7.58|\n",
            "|     I| 9.0| 8.81|\n",
            "|     I|11.0| 8.33|\n",
            "|     I|14.0| 9.96|\n",
            "|     I| 6.0| 7.24|\n",
            "|     I| 4.0| 4.26|\n",
            "|     I|12.0|10.84|\n",
            "|     I| 7.0| 4.81|\n",
            "|     I| 5.0| 5.68|\n",
            "|    II|10.0| 9.14|\n",
            "|    II| 8.0| 8.14|\n",
            "|    II|13.0| 8.74|\n",
            "|    II| 9.0| 8.77|\n",
            "|    II|11.0| 9.26|\n",
            "|    II|14.0|  8.1|\n",
            "|    II| 6.0| 6.13|\n",
            "|    II| 4.0|  3.1|\n",
            "|    II|12.0| 9.13|\n",
            "+------+----+-----+\n",
            "only showing top 20 rows\n",
            "\n"
          ]
        }
      ]
    },
    {
      "cell_type": "code",
      "source": [
        "df5.printSchema()"
      ],
      "metadata": {
        "id": "Fy-ODUCPVdQY",
        "colab": {
          "base_uri": "https://localhost:8080/"
        },
        "outputId": "d2ef8d38-8bec-4b95-83ce-a70719558afc"
      },
      "execution_count": null,
      "outputs": [
        {
          "output_type": "stream",
          "name": "stdout",
          "text": [
            "root\n",
            " |-- Series: string (nullable = true)\n",
            " |-- X: double (nullable = true)\n",
            " |-- Y: double (nullable = true)\n",
            " |-- _corrupt_record: string (nullable = true)\n",
            "\n"
          ]
        }
      ]
    },
    {
      "cell_type": "code",
      "source": [
        "df5.columns"
      ],
      "metadata": {
        "id": "IjdTrq8FVrUL",
        "colab": {
          "base_uri": "https://localhost:8080/"
        },
        "outputId": "8cb30289-0db3-4e65-ce59-d2872150e977"
      },
      "execution_count": null,
      "outputs": [
        {
          "output_type": "execute_result",
          "data": {
            "text/plain": [
              "['Series', 'X', 'Y', '_corrupt_record']"
            ]
          },
          "metadata": {},
          "execution_count": 39
        }
      ]
    },
    {
      "cell_type": "markdown",
      "source": [
        "Truncate=When truncate is set to True (which is the default behavior if not specified), the displayed strings in the columns are truncated if they exceed a certain length, and ... is appended at the end of the truncated strings."
      ],
      "metadata": {
        "id": "xz3NRc-W-pFd"
      }
    },
    {
      "cell_type": "code",
      "source": [
        "df5.show(10,truncate=True)"
      ],
      "metadata": {
        "id": "608J2C5s93xE",
        "colab": {
          "base_uri": "https://localhost:8080/"
        },
        "outputId": "89ded9bc-ae8e-4567-8b18-d72d1e0586f6"
      },
      "execution_count": null,
      "outputs": [
        {
          "output_type": "stream",
          "name": "stdout",
          "text": [
            "+------+----+-----+---------------+\n",
            "|Series|   X|    Y|_corrupt_record|\n",
            "+------+----+-----+---------------+\n",
            "|  null|null| null|              [|\n",
            "|     I|10.0| 8.04|           null|\n",
            "|     I| 8.0| 6.95|           null|\n",
            "|     I|13.0| 7.58|           null|\n",
            "|     I| 9.0| 8.81|           null|\n",
            "|     I|11.0| 8.33|           null|\n",
            "|     I|14.0| 9.96|           null|\n",
            "|     I| 6.0| 7.24|           null|\n",
            "|     I| 4.0| 4.26|           null|\n",
            "|     I|12.0|10.84|           null|\n",
            "+------+----+-----+---------------+\n",
            "only showing top 10 rows\n",
            "\n"
          ]
        }
      ]
    },
    {
      "cell_type": "code",
      "source": [
        "df5.show(10,truncate=False)"
      ],
      "metadata": {
        "id": "Dkz5D9DKV7D0",
        "colab": {
          "base_uri": "https://localhost:8080/"
        },
        "outputId": "2a4e11ef-64c1-424a-df86-b67c3115d3b7"
      },
      "execution_count": null,
      "outputs": [
        {
          "output_type": "stream",
          "name": "stdout",
          "text": [
            "+------+----+-----+---------------+\n",
            "|Series|X   |Y    |_corrupt_record|\n",
            "+------+----+-----+---------------+\n",
            "|null  |null|null |[              |\n",
            "|I     |10.0|8.04 |null           |\n",
            "|I     |8.0 |6.95 |null           |\n",
            "|I     |13.0|7.58 |null           |\n",
            "|I     |9.0 |8.81 |null           |\n",
            "|I     |11.0|8.33 |null           |\n",
            "|I     |14.0|9.96 |null           |\n",
            "|I     |6.0 |7.24 |null           |\n",
            "|I     |4.0 |4.26 |null           |\n",
            "|I     |12.0|10.84|null           |\n",
            "+------+----+-----+---------------+\n",
            "only showing top 10 rows\n",
            "\n"
          ]
        }
      ]
    },
    {
      "cell_type": "code",
      "source": [
        "df6.show(20)"
      ],
      "metadata": {
        "id": "dsMtPXRGB1LT",
        "colab": {
          "base_uri": "https://localhost:8080/"
        },
        "outputId": "3a1674a5-b264-4fc2-dd2e-c33a17a61045"
      },
      "execution_count": null,
      "outputs": [
        {
          "output_type": "stream",
          "name": "stdout",
          "text": [
            "+------+----+-----+\n",
            "|Series|   X|    Y|\n",
            "+------+----+-----+\n",
            "|     I|10.0| 8.04|\n",
            "|     I| 8.0| 6.95|\n",
            "|     I|13.0| 7.58|\n",
            "|     I| 9.0| 8.81|\n",
            "|     I|11.0| 8.33|\n",
            "|     I|14.0| 9.96|\n",
            "|     I| 6.0| 7.24|\n",
            "|     I| 4.0| 4.26|\n",
            "|     I|12.0|10.84|\n",
            "|     I| 7.0| 4.81|\n",
            "|     I| 5.0| 5.68|\n",
            "|    II|10.0| 9.14|\n",
            "|    II| 8.0| 8.14|\n",
            "|    II|13.0| 8.74|\n",
            "|    II| 9.0| 8.77|\n",
            "|    II|11.0| 9.26|\n",
            "|    II|14.0|  8.1|\n",
            "|    II| 6.0| 6.13|\n",
            "|    II| 4.0|  3.1|\n",
            "|    II|12.0| 9.13|\n",
            "+------+----+-----+\n",
            "only showing top 20 rows\n",
            "\n"
          ]
        }
      ]
    },
    {
      "cell_type": "code",
      "source": [
        "df_no_duplicates=df6.dropDuplicates()"
      ],
      "metadata": {
        "id": "YdXZId4NXPm-"
      },
      "execution_count": null,
      "outputs": []
    },
    {
      "cell_type": "code",
      "source": [
        "df_no_duplicates.show()"
      ],
      "metadata": {
        "id": "9Ib2voC8C5zs",
        "colab": {
          "base_uri": "https://localhost:8080/"
        },
        "outputId": "5713b178-a089-4ca7-ad4b-c765c0ec4d28"
      },
      "execution_count": null,
      "outputs": [
        {
          "output_type": "stream",
          "name": "stdout",
          "text": [
            "+------+----+-----+\n",
            "|Series|   X|    Y|\n",
            "+------+----+-----+\n",
            "|     I| 6.0| 7.24|\n",
            "|    II|14.0|  8.1|\n",
            "|     I| 8.0| 6.95|\n",
            "|    IV| 8.0| 5.76|\n",
            "|    IV| 8.0| 7.71|\n",
            "|    IV| 8.0| 6.89|\n",
            "|   III| 8.0| 6.77|\n",
            "|   III|13.0|12.74|\n",
            "|    II| 5.0| 4.74|\n",
            "|    II| 8.0| 8.14|\n",
            "|     I|12.0|10.84|\n",
            "|   III|10.0| 7.46|\n",
            "|    II|10.0| 9.14|\n",
            "|   III|14.0| 8.84|\n",
            "|    II| 7.0| 7.26|\n",
            "|     I|13.0| 7.58|\n",
            "|    IV| 8.0| 7.04|\n",
            "|   III| 6.0| 6.08|\n",
            "|     I| 5.0| 5.68|\n",
            "|    II| 9.0| 8.77|\n",
            "+------+----+-----+\n",
            "only showing top 20 rows\n",
            "\n"
          ]
        }
      ]
    },
    {
      "cell_type": "code",
      "source": [
        "sorted_df = df_no_duplicates.orderBy(\"Series\")\n",
        "\n",
        "# Show the sorted DataFrame\n",
        "sorted_df.show()"
      ],
      "metadata": {
        "id": "nRUrfb1NDxDu",
        "colab": {
          "base_uri": "https://localhost:8080/"
        },
        "outputId": "60903da9-2a95-4fa6-8782-4da49e41b697"
      },
      "execution_count": null,
      "outputs": [
        {
          "output_type": "stream",
          "name": "stdout",
          "text": [
            "+------+----+-----+\n",
            "|Series|   X|    Y|\n",
            "+------+----+-----+\n",
            "|     I| 8.0| 6.95|\n",
            "|     I|10.0| 8.04|\n",
            "|     I|12.0|10.84|\n",
            "|     I|11.0| 8.33|\n",
            "|     I| 9.0| 8.81|\n",
            "|     I| 4.0| 4.26|\n",
            "|     I| 6.0| 7.24|\n",
            "|     I|13.0| 7.58|\n",
            "|     I| 5.0| 5.68|\n",
            "|     I| 7.0| 4.81|\n",
            "|     I|14.0| 9.96|\n",
            "|    II|13.0| 8.74|\n",
            "|    II| 9.0| 8.77|\n",
            "|    II|14.0|  8.1|\n",
            "|    II| 5.0| 4.74|\n",
            "|    II|12.0| 9.13|\n",
            "|    II|10.0| 9.14|\n",
            "|    II| 7.0| 7.26|\n",
            "|    II| 4.0|  3.1|\n",
            "|    II| 8.0| 8.14|\n",
            "+------+----+-----+\n",
            "only showing top 20 rows\n",
            "\n"
          ]
        }
      ]
    },
    {
      "cell_type": "code",
      "source": [
        "df6.show()"
      ],
      "metadata": {
        "id": "LNlnFdPuEvT2",
        "colab": {
          "base_uri": "https://localhost:8080/"
        },
        "outputId": "abdd51f8-3bb0-4426-e60a-e44a2bad37b9"
      },
      "execution_count": null,
      "outputs": [
        {
          "output_type": "stream",
          "name": "stdout",
          "text": [
            "+------+----+-----+\n",
            "|Series|   X|    Y|\n",
            "+------+----+-----+\n",
            "|     I|10.0| 8.04|\n",
            "|     I| 8.0| 6.95|\n",
            "|     I|13.0| 7.58|\n",
            "|     I| 9.0| 8.81|\n",
            "|     I|11.0| 8.33|\n",
            "|     I|14.0| 9.96|\n",
            "|     I| 6.0| 7.24|\n",
            "|     I| 4.0| 4.26|\n",
            "|     I|12.0|10.84|\n",
            "|     I| 7.0| 4.81|\n",
            "|     I| 5.0| 5.68|\n",
            "|    II|10.0| 9.14|\n",
            "|    II| 8.0| 8.14|\n",
            "|    II|13.0| 8.74|\n",
            "|    II| 9.0| 8.77|\n",
            "|    II|11.0| 9.26|\n",
            "|    II|14.0|  8.1|\n",
            "|    II| 6.0| 6.13|\n",
            "|    II| 4.0|  3.1|\n",
            "|    II|12.0| 9.13|\n",
            "+------+----+-----+\n",
            "only showing top 20 rows\n",
            "\n"
          ]
        }
      ]
    },
    {
      "cell_type": "code",
      "source": [
        "#In PySpark, the distinct() function is used to remove duplicate rows from a DataFrame.\n",
        "#It returns a new DataFrame with distinct rows.\n",
        "df6.distinct().show(20)"
      ],
      "metadata": {
        "id": "CackbaARXucs",
        "colab": {
          "base_uri": "https://localhost:8080/"
        },
        "outputId": "2f6f340f-e6d5-414b-842d-42c060ea2241"
      },
      "execution_count": null,
      "outputs": [
        {
          "output_type": "stream",
          "name": "stdout",
          "text": [
            "+------+----+-----+\n",
            "|Series|   X|    Y|\n",
            "+------+----+-----+\n",
            "|     I| 6.0| 7.24|\n",
            "|    II|14.0|  8.1|\n",
            "|     I| 8.0| 6.95|\n",
            "|    IV| 8.0| 5.76|\n",
            "|    IV| 8.0| 7.71|\n",
            "|    IV| 8.0| 6.89|\n",
            "|   III| 8.0| 6.77|\n",
            "|   III|13.0|12.74|\n",
            "|    II| 5.0| 4.74|\n",
            "|    II| 8.0| 8.14|\n",
            "|     I|12.0|10.84|\n",
            "|   III|10.0| 7.46|\n",
            "|    II|10.0| 9.14|\n",
            "|   III|14.0| 8.84|\n",
            "|    II| 7.0| 7.26|\n",
            "|     I|13.0| 7.58|\n",
            "|    IV| 8.0| 7.04|\n",
            "|   III| 6.0| 6.08|\n",
            "|     I| 5.0| 5.68|\n",
            "|    II| 9.0| 8.77|\n",
            "+------+----+-----+\n",
            "only showing top 20 rows\n",
            "\n"
          ]
        }
      ]
    },
    {
      "cell_type": "code",
      "source": [
        "df6.select(\"First Name\").show(5)"
      ],
      "metadata": {
        "id": "p5yDta4dX7M5",
        "colab": {
          "base_uri": "https://localhost:8080/",
          "height": 351
        },
        "outputId": "767038a9-617f-4cfa-e6d9-d119853f1142"
      },
      "execution_count": null,
      "outputs": [
        {
          "output_type": "error",
          "ename": "AnalysisException",
          "evalue": "cannot resolve '`First Name`' given input columns: [age, id, name];\n'Project ['First Name]\n+- Project [id#148, name#149, cast(age#150 as string) AS age#167]\n   +- LogicalRDD [id#148, name#149, age#150], false\n",
          "traceback": [
            "\u001b[0;31m---------------------------------------------------------------------------\u001b[0m",
            "\u001b[0;31mAnalysisException\u001b[0m                         Traceback (most recent call last)",
            "\u001b[0;32m<ipython-input-48-b3bd319def80>\u001b[0m in \u001b[0;36m<cell line: 1>\u001b[0;34m()\u001b[0m\n\u001b[0;32m----> 1\u001b[0;31m \u001b[0mdf\u001b[0m\u001b[0;34m.\u001b[0m\u001b[0mselect\u001b[0m\u001b[0;34m(\u001b[0m\u001b[0;34m\"First Name\"\u001b[0m\u001b[0;34m)\u001b[0m\u001b[0;34m.\u001b[0m\u001b[0mshow\u001b[0m\u001b[0;34m(\u001b[0m\u001b[0;36m5\u001b[0m\u001b[0;34m)\u001b[0m\u001b[0;34m\u001b[0m\u001b[0;34m\u001b[0m\u001b[0m\n\u001b[0m",
            "\u001b[0;32m/content/spark-3.1.1-bin-hadoop3.2/python/pyspark/sql/dataframe.py\u001b[0m in \u001b[0;36mselect\u001b[0;34m(self, *cols)\u001b[0m\n\u001b[1;32m   1667\u001b[0m         \u001b[0;34m[\u001b[0m\u001b[0mRow\u001b[0m\u001b[0;34m(\u001b[0m\u001b[0mname\u001b[0m\u001b[0;34m=\u001b[0m\u001b[0;34m'Alice'\u001b[0m\u001b[0;34m,\u001b[0m \u001b[0mage\u001b[0m\u001b[0;34m=\u001b[0m\u001b[0;36m12\u001b[0m\u001b[0;34m)\u001b[0m\u001b[0;34m,\u001b[0m \u001b[0mRow\u001b[0m\u001b[0;34m(\u001b[0m\u001b[0mname\u001b[0m\u001b[0;34m=\u001b[0m\u001b[0;34m'Bob'\u001b[0m\u001b[0;34m,\u001b[0m \u001b[0mage\u001b[0m\u001b[0;34m=\u001b[0m\u001b[0;36m15\u001b[0m\u001b[0;34m)\u001b[0m\u001b[0;34m]\u001b[0m\u001b[0;34m\u001b[0m\u001b[0;34m\u001b[0m\u001b[0m\n\u001b[1;32m   1668\u001b[0m         \"\"\"\n\u001b[0;32m-> 1669\u001b[0;31m         \u001b[0mjdf\u001b[0m \u001b[0;34m=\u001b[0m \u001b[0mself\u001b[0m\u001b[0;34m.\u001b[0m\u001b[0m_jdf\u001b[0m\u001b[0;34m.\u001b[0m\u001b[0mselect\u001b[0m\u001b[0;34m(\u001b[0m\u001b[0mself\u001b[0m\u001b[0;34m.\u001b[0m\u001b[0m_jcols\u001b[0m\u001b[0;34m(\u001b[0m\u001b[0;34m*\u001b[0m\u001b[0mcols\u001b[0m\u001b[0;34m)\u001b[0m\u001b[0;34m)\u001b[0m\u001b[0;34m\u001b[0m\u001b[0;34m\u001b[0m\u001b[0m\n\u001b[0m\u001b[1;32m   1670\u001b[0m         \u001b[0;32mreturn\u001b[0m \u001b[0mDataFrame\u001b[0m\u001b[0;34m(\u001b[0m\u001b[0mjdf\u001b[0m\u001b[0;34m,\u001b[0m \u001b[0mself\u001b[0m\u001b[0;34m.\u001b[0m\u001b[0msql_ctx\u001b[0m\u001b[0;34m)\u001b[0m\u001b[0;34m\u001b[0m\u001b[0;34m\u001b[0m\u001b[0m\n\u001b[1;32m   1671\u001b[0m \u001b[0;34m\u001b[0m\u001b[0m\n",
            "\u001b[0;32m/content/spark-3.1.1-bin-hadoop3.2/python/lib/py4j-0.10.9-src.zip/py4j/java_gateway.py\u001b[0m in \u001b[0;36m__call__\u001b[0;34m(self, *args)\u001b[0m\n\u001b[1;32m   1302\u001b[0m \u001b[0;34m\u001b[0m\u001b[0m\n\u001b[1;32m   1303\u001b[0m         \u001b[0manswer\u001b[0m \u001b[0;34m=\u001b[0m \u001b[0mself\u001b[0m\u001b[0;34m.\u001b[0m\u001b[0mgateway_client\u001b[0m\u001b[0;34m.\u001b[0m\u001b[0msend_command\u001b[0m\u001b[0;34m(\u001b[0m\u001b[0mcommand\u001b[0m\u001b[0;34m)\u001b[0m\u001b[0;34m\u001b[0m\u001b[0;34m\u001b[0m\u001b[0m\n\u001b[0;32m-> 1304\u001b[0;31m         return_value = get_return_value(\n\u001b[0m\u001b[1;32m   1305\u001b[0m             answer, self.gateway_client, self.target_id, self.name)\n\u001b[1;32m   1306\u001b[0m \u001b[0;34m\u001b[0m\u001b[0m\n",
            "\u001b[0;32m/content/spark-3.1.1-bin-hadoop3.2/python/pyspark/sql/utils.py\u001b[0m in \u001b[0;36mdeco\u001b[0;34m(*a, **kw)\u001b[0m\n\u001b[1;32m    115\u001b[0m                 \u001b[0;31m# Hide where the exception came from that shows a non-Pythonic\u001b[0m\u001b[0;34m\u001b[0m\u001b[0;34m\u001b[0m\u001b[0m\n\u001b[1;32m    116\u001b[0m                 \u001b[0;31m# JVM exception message.\u001b[0m\u001b[0;34m\u001b[0m\u001b[0;34m\u001b[0m\u001b[0m\n\u001b[0;32m--> 117\u001b[0;31m                 \u001b[0;32mraise\u001b[0m \u001b[0mconverted\u001b[0m \u001b[0;32mfrom\u001b[0m \u001b[0;32mNone\u001b[0m\u001b[0;34m\u001b[0m\u001b[0;34m\u001b[0m\u001b[0m\n\u001b[0m\u001b[1;32m    118\u001b[0m             \u001b[0;32melse\u001b[0m\u001b[0;34m:\u001b[0m\u001b[0;34m\u001b[0m\u001b[0;34m\u001b[0m\u001b[0m\n\u001b[1;32m    119\u001b[0m                 \u001b[0;32mraise\u001b[0m\u001b[0;34m\u001b[0m\u001b[0;34m\u001b[0m\u001b[0m\n",
            "\u001b[0;31mAnalysisException\u001b[0m: cannot resolve '`First Name`' given input columns: [age, id, name];\n'Project ['First Name]\n+- Project [id#148, name#149, cast(age#150 as string) AS age#167]\n   +- LogicalRDD [id#148, name#149, age#150], false\n"
          ]
        }
      ]
    },
    {
      "cell_type": "code",
      "source": [
        "#Filter operations\n",
        "filtered_df = df6.filter(df6['X'] > 10)\n",
        "filtered_df.show()\n"
      ],
      "metadata": {
        "id": "hfpjh1-TYYrI"
      },
      "execution_count": null,
      "outputs": []
    },
    {
      "cell_type": "code",
      "source": [
        "#Column rename\n",
        "renamed_df = df6.withColumnRenamed(\"X\", \"x1\")\n",
        "renamed_df.show()\n"
      ],
      "metadata": {
        "id": "BOrD23Jum8A6"
      },
      "execution_count": null,
      "outputs": []
    },
    {
      "cell_type": "code",
      "source": [
        "\n",
        "df_file1 = spark.read.option(\"multiline\", \"false\").json(\"/content/file1.json\")\n",
        "df_file1.show(truncate=False)"
      ],
      "metadata": {
        "id": "30MVGanlpswt",
        "colab": {
          "base_uri": "https://localhost:8080/"
        },
        "outputId": "cce830b3-2474-4da0-d1b9-f35de11635dd"
      },
      "execution_count": null,
      "outputs": [
        {
          "output_type": "stream",
          "name": "stdout",
          "text": [
            "+---+-----+\n",
            "|age|name |\n",
            "+---+-----+\n",
            "|30 |John |\n",
            "|25 |Alice|\n",
            "+---+-----+\n",
            "\n"
          ]
        }
      ]
    },
    {
      "cell_type": "code",
      "source": [],
      "metadata": {
        "id": "9CbLn5rcuTbH"
      },
      "execution_count": null,
      "outputs": []
    }
  ],
  "metadata": {
    "colab": {
      "provenance": []
    },
    "kernelspec": {
      "display_name": "Python 3",
      "name": "python3"
    },
    "language_info": {
      "name": "python"
    }
  },
  "nbformat": 4,
  "nbformat_minor": 0
}