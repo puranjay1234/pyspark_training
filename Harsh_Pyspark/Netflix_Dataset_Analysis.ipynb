{
  "nbformat": 4,
  "nbformat_minor": 0,
  "metadata": {
    "colab": {
      "provenance": []
    },
    "kernelspec": {
      "name": "python3",
      "display_name": "Python 3"
    },
    "language_info": {
      "name": "python"
    }
  },
  "cells": [
    {
      "cell_type": "code",
      "execution_count": null,
      "metadata": {
        "colab": {
          "base_uri": "https://localhost:8080/",
          "height": 221
        },
        "id": "cBVVZ0sw7WSA",
        "outputId": "8d78168c-a194-456b-ac54-10e729519682"
      },
      "outputs": [
        {
          "output_type": "execute_result",
          "data": {
            "text/plain": [
              "<pyspark.sql.session.SparkSession at 0x7aa86410add0>"
            ],
            "text/html": [
              "\n",
              "            <div>\n",
              "                <p><b>SparkSession - in-memory</b></p>\n",
              "                \n",
              "        <div>\n",
              "            <p><b>SparkContext</b></p>\n",
              "\n",
              "            <p><a href=\"http://0610cde4c735:4040\">Spark UI</a></p>\n",
              "\n",
              "            <dl>\n",
              "              <dt>Version</dt>\n",
              "                <dd><code>v3.1.1</code></dd>\n",
              "              <dt>Master</dt>\n",
              "                <dd><code>local[*]</code></dd>\n",
              "              <dt>AppName</dt>\n",
              "                <dd><code>pyspark-shell</code></dd>\n",
              "            </dl>\n",
              "        </div>\n",
              "        \n",
              "            </div>\n",
              "        "
            ]
          },
          "metadata": {},
          "execution_count": 2
        }
      ],
      "source": [
        "!apt-get install openjdk-8-jdk-headless -qq > /dev/null\n",
        "!wget -q http://archive.apache.org/dist/spark/spark-3.1.1/spark-3.1.1-bin-hadoop3.2.tgz\n",
        "!tar xf spark-3.1.1-bin-hadoop3.2.tgz\n",
        "!pip install -q findspark\n",
        "import os\n",
        "os.environ[\"JAVA_HOME\"] = \"/usr/lib/jvm/java-8-openjdk-amd64\"\n",
        "os.environ[\"SPARK_HOME\"] = \"/content/spark-3.1.1-bin-hadoop3.2\"\n",
        "import findspark\n",
        "findspark.init()\n",
        "from pyspark.sql import SparkSession\n",
        "spark = SparkSession.builder.master(\"local[*]\").getOrCreate()\n",
        "spark\n",
        "\n"
      ]
    },
    {
      "cell_type": "code",
      "source": [
        "netflix_df=spark.read.options(delimiter=',',header=True, inferSchema=True).csv(\"/content/netflix_data.csv\")\n",
        "netflix_df.show(5)"
      ],
      "metadata": {
        "colab": {
          "base_uri": "https://localhost:8080/"
        },
        "id": "fnkTIApT7Xdz",
        "outputId": "4d73d6ae-59b0-4a8d-af24-4171ab68e1ec"
      },
      "execution_count": null,
      "outputs": [
        {
          "output_type": "stream",
          "name": "stdout",
          "text": [
            "+-------+-------+--------------------+---------------+--------------------+-------------+----------+------------+------+---------+--------------------+--------------------+\n",
            "|show_id|   type|               title|       director|                cast|      country|date_added|release_year|rating| duration|           listed_in|         description|\n",
            "+-------+-------+--------------------+---------------+--------------------+-------------+----------+------------+------+---------+--------------------+--------------------+\n",
            "|     s1|  Movie|Dick Johnson Is Dead|Kirsten Johnson|                null|United States| 25-Sep-21|        2020| PG-13|   90 min|       Documentaries|As her father nea...|\n",
            "|     s2|TV Show|       Blood & Water|           null|Ama Qamata, Khosi...| South Africa| 24-Sep-21|        2021| TV-MA|2 Seasons|International TV ...|After crossing pa...|\n",
            "|     s3|TV Show|           Ganglands|Julien Leclercq|Sami Bouajila, Tr...|         null| 24-Sep-21|        2021| TV-MA| 1 Season|Crime TV Shows, I...|To protect his fa...|\n",
            "|     s4|TV Show|Jailbirds New Orl...|           null|                null|         null| 24-Sep-21|        2021| TV-MA| 1 Season|Docuseries, Reali...|Feuds, flirtation...|\n",
            "|     s5|TV Show|        Kota Factory|           null|Mayur More, Jiten...|        India| 24-Sep-21|        2021| TV-MA|2 Seasons|International TV ...|In a city of coac...|\n",
            "+-------+-------+--------------------+---------------+--------------------+-------------+----------+------------+------+---------+--------------------+--------------------+\n",
            "only showing top 5 rows\n",
            "\n"
          ]
        }
      ]
    },
    {
      "cell_type": "markdown",
      "source": [],
      "metadata": {
        "id": "gqTo9BjVh_ke"
      }
    },
    {
      "cell_type": "code",
      "source": [
        "netflix_df.columns"
      ],
      "metadata": {
        "colab": {
          "base_uri": "https://localhost:8080/"
        },
        "id": "ro_Fty_2IW0d",
        "outputId": "2b31984b-054f-48ce-c155-4d3916234539"
      },
      "execution_count": null,
      "outputs": [
        {
          "output_type": "execute_result",
          "data": {
            "text/plain": [
              "['show_id',\n",
              " 'type',\n",
              " 'title',\n",
              " 'director',\n",
              " 'cast',\n",
              " 'country',\n",
              " 'date_added',\n",
              " 'release_year',\n",
              " 'rating',\n",
              " 'duration',\n",
              " 'listed_in',\n",
              " 'description']"
            ]
          },
          "metadata": {},
          "execution_count": 4
        }
      ]
    },
    {
      "cell_type": "code",
      "source": [
        "netflix_df.count()"
      ],
      "metadata": {
        "colab": {
          "base_uri": "https://localhost:8080/"
        },
        "id": "b0IIKx-eJCxy",
        "outputId": "9fe25c8b-4262-4337-805f-e86e1c813f69"
      },
      "execution_count": null,
      "outputs": [
        {
          "output_type": "execute_result",
          "data": {
            "text/plain": [
              "8809"
            ]
          },
          "metadata": {},
          "execution_count": 5
        }
      ]
    },
    {
      "cell_type": "code",
      "source": [],
      "metadata": {
        "id": "Ux-vIZB9JCz9"
      },
      "execution_count": null,
      "outputs": []
    },
    {
      "cell_type": "code",
      "source": [],
      "metadata": {
        "id": "B8nMhO-fJC3d"
      },
      "execution_count": null,
      "outputs": []
    },
    {
      "cell_type": "markdown",
      "source": [
        "1. How many movies and TV shows are there in the dataset?"
      ],
      "metadata": {
        "id": "ym_i186JHUT-"
      }
    },
    {
      "cell_type": "code",
      "source": [
        "from pyspark.sql.functions import col\n",
        "num_movies = netflix_df.filter(col('type') == 'Movie').count()\n",
        "num_tv_shows = netflix_df.filter(col('type') == 'TV Show').count()\n",
        "\n",
        "print(\"Number of movies:\", num_movies)\n",
        "print(\"Number of TV shows:\", num_tv_shows)"
      ],
      "metadata": {
        "colab": {
          "base_uri": "https://localhost:8080/"
        },
        "id": "gLDK4YHraZi-",
        "outputId": "f2bc7ed5-48a4-466e-b2b2-a5041087005a"
      },
      "execution_count": null,
      "outputs": [
        {
          "output_type": "stream",
          "name": "stdout",
          "text": [
            "Number of movies: 6131\n",
            "Number of TV shows: 2676\n"
          ]
        }
      ]
    },
    {
      "cell_type": "markdown",
      "source": [
        "2. Who are the top 10 directors with the most titles in the dataset?\n"
      ],
      "metadata": {
        "id": "JoCtE0zIL4Gj"
      }
    },
    {
      "cell_type": "code",
      "source": [
        "from pyspark.sql.functions import *\n",
        "#grouped_data = netflix_df.groupBy('director').agg(count('title').alias('count'))\n",
        "director_counts = netflix_df.groupBy('director').agg(count('title').alias('title_count'))\n",
        "top_directors = director_counts.filter(director_counts.director.isNotNull()).orderBy(col('title_count').desc())\n",
        "\n",
        "# Show the top 10 directors with the most titles\n",
        "top_directors.show(5)"
      ],
      "metadata": {
        "colab": {
          "base_uri": "https://localhost:8080/"
        },
        "id": "pG3bAeVjgz_u",
        "outputId": "ce8bca0c-c988-491f-9acc-eda19f2128fe"
      },
      "execution_count": null,
      "outputs": [
        {
          "output_type": "stream",
          "name": "stdout",
          "text": [
            "+--------------------+-----------+\n",
            "|            director|title_count|\n",
            "+--------------------+-----------+\n",
            "|       Rajiv Chilaka|         19|\n",
            "|RaÃºl Campos, Jan...|         18|\n",
            "|        Marcus Raboy|         16|\n",
            "|         Suhas Kadav|         16|\n",
            "|           Jay Karas|         14|\n",
            "+--------------------+-----------+\n",
            "only showing top 5 rows\n",
            "\n"
          ]
        }
      ]
    },
    {
      "cell_type": "markdown",
      "source": [
        "3. What are the top 10 countries with the most content in the dataset?"
      ],
      "metadata": {
        "id": "06dOrQMFHUYw"
      }
    },
    {
      "cell_type": "code",
      "source": [
        "country_counts = netflix_df.groupBy('country').agg(count('*').alias('title_count'))\n",
        "top_countries = country_counts.orderBy(col('title_count').desc())\n",
        "top_countries.show(10)"
      ],
      "metadata": {
        "id": "X9erJplSk4fK",
        "colab": {
          "base_uri": "https://localhost:8080/"
        },
        "outputId": "65a1227a-49b3-4aa9-f6ba-80edad4a7e8b"
      },
      "execution_count": null,
      "outputs": [
        {
          "output_type": "stream",
          "name": "stdout",
          "text": [
            "+--------------+-----------+\n",
            "|       country|title_count|\n",
            "+--------------+-----------+\n",
            "| United States|       2805|\n",
            "|         India|        972|\n",
            "|          null|        832|\n",
            "|United Kingdom|        419|\n",
            "|         Japan|        245|\n",
            "|   South Korea|        199|\n",
            "|        Canada|        181|\n",
            "|         Spain|        145|\n",
            "|        France|        123|\n",
            "|        Mexico|        110|\n",
            "+--------------+-----------+\n",
            "only showing top 10 rows\n",
            "\n"
          ]
        }
      ]
    },
    {
      "cell_type": "markdown",
      "source": [
        "4. What is the average duration of movies in the dataset?"
      ],
      "metadata": {
        "id": "bB1lLsP6HUa1"
      }
    },
    {
      "cell_type": "code",
      "source": [
        "sum=netflix_df.filter(col('Movie')).agg(sum('Movie').alias(\"Total_sum\"))"
      ],
      "metadata": {
        "id": "elHvvycCMQNj",
        "colab": {
          "base_uri": "https://localhost:8080/",
          "height": 407
        },
        "outputId": "0ad72b16-eb08-4f11-dc32-e793de2abba8"
      },
      "execution_count": null,
      "outputs": [
        {
          "output_type": "error",
          "ename": "AnalysisException",
          "evalue": "cannot resolve '`Movie`' given input columns: [cast, country, date_added, description, director, duration, listed_in, rating, release_year, show_id, title, type];\n'Filter 'Movie\n+- Relation[show_id#16,type#17,title#18,director#19,cast#20,country#21,date_added#22,release_year#23,rating#24,duration#25,listed_in#26,description#27] csv\n",
          "traceback": [
            "\u001b[0;31m---------------------------------------------------------------------------\u001b[0m",
            "\u001b[0;31mAnalysisException\u001b[0m                         Traceback (most recent call last)",
            "\u001b[0;32m<ipython-input-9-ad307b78f249>\u001b[0m in \u001b[0;36m<cell line: 1>\u001b[0;34m()\u001b[0m\n\u001b[0;32m----> 1\u001b[0;31m \u001b[0msum\u001b[0m\u001b[0;34m=\u001b[0m\u001b[0mnetflix_df\u001b[0m\u001b[0;34m.\u001b[0m\u001b[0mfilter\u001b[0m\u001b[0;34m(\u001b[0m\u001b[0mcol\u001b[0m\u001b[0;34m(\u001b[0m\u001b[0;34m'Movie'\u001b[0m\u001b[0;34m)\u001b[0m\u001b[0;34m)\u001b[0m\u001b[0;34m.\u001b[0m\u001b[0magg\u001b[0m\u001b[0;34m(\u001b[0m\u001b[0msum\u001b[0m\u001b[0;34m(\u001b[0m\u001b[0;34m'Movie'\u001b[0m\u001b[0;34m)\u001b[0m\u001b[0;34m.\u001b[0m\u001b[0malias\u001b[0m\u001b[0;34m(\u001b[0m\u001b[0;34m\"Total_sum\"\u001b[0m\u001b[0;34m)\u001b[0m\u001b[0;34m)\u001b[0m\u001b[0;34m\u001b[0m\u001b[0;34m\u001b[0m\u001b[0m\n\u001b[0m",
            "\u001b[0;32m/content/spark-3.1.1-bin-hadoop3.2/python/pyspark/sql/dataframe.py\u001b[0m in \u001b[0;36mfilter\u001b[0;34m(self, condition)\u001b[0m\n\u001b[1;32m   1715\u001b[0m             \u001b[0mjdf\u001b[0m \u001b[0;34m=\u001b[0m \u001b[0mself\u001b[0m\u001b[0;34m.\u001b[0m\u001b[0m_jdf\u001b[0m\u001b[0;34m.\u001b[0m\u001b[0mfilter\u001b[0m\u001b[0;34m(\u001b[0m\u001b[0mcondition\u001b[0m\u001b[0;34m)\u001b[0m\u001b[0;34m\u001b[0m\u001b[0;34m\u001b[0m\u001b[0m\n\u001b[1;32m   1716\u001b[0m         \u001b[0;32melif\u001b[0m \u001b[0misinstance\u001b[0m\u001b[0;34m(\u001b[0m\u001b[0mcondition\u001b[0m\u001b[0;34m,\u001b[0m \u001b[0mColumn\u001b[0m\u001b[0;34m)\u001b[0m\u001b[0;34m:\u001b[0m\u001b[0;34m\u001b[0m\u001b[0;34m\u001b[0m\u001b[0m\n\u001b[0;32m-> 1717\u001b[0;31m             \u001b[0mjdf\u001b[0m \u001b[0;34m=\u001b[0m \u001b[0mself\u001b[0m\u001b[0;34m.\u001b[0m\u001b[0m_jdf\u001b[0m\u001b[0;34m.\u001b[0m\u001b[0mfilter\u001b[0m\u001b[0;34m(\u001b[0m\u001b[0mcondition\u001b[0m\u001b[0;34m.\u001b[0m\u001b[0m_jc\u001b[0m\u001b[0;34m)\u001b[0m\u001b[0;34m\u001b[0m\u001b[0;34m\u001b[0m\u001b[0m\n\u001b[0m\u001b[1;32m   1718\u001b[0m         \u001b[0;32melse\u001b[0m\u001b[0;34m:\u001b[0m\u001b[0;34m\u001b[0m\u001b[0;34m\u001b[0m\u001b[0m\n\u001b[1;32m   1719\u001b[0m             \u001b[0;32mraise\u001b[0m \u001b[0mTypeError\u001b[0m\u001b[0;34m(\u001b[0m\u001b[0;34m\"condition should be string or Column\"\u001b[0m\u001b[0;34m)\u001b[0m\u001b[0;34m\u001b[0m\u001b[0;34m\u001b[0m\u001b[0m\n",
            "\u001b[0;32m/content/spark-3.1.1-bin-hadoop3.2/python/lib/py4j-0.10.9-src.zip/py4j/java_gateway.py\u001b[0m in \u001b[0;36m__call__\u001b[0;34m(self, *args)\u001b[0m\n\u001b[1;32m   1302\u001b[0m \u001b[0;34m\u001b[0m\u001b[0m\n\u001b[1;32m   1303\u001b[0m         \u001b[0manswer\u001b[0m \u001b[0;34m=\u001b[0m \u001b[0mself\u001b[0m\u001b[0;34m.\u001b[0m\u001b[0mgateway_client\u001b[0m\u001b[0;34m.\u001b[0m\u001b[0msend_command\u001b[0m\u001b[0;34m(\u001b[0m\u001b[0mcommand\u001b[0m\u001b[0;34m)\u001b[0m\u001b[0;34m\u001b[0m\u001b[0;34m\u001b[0m\u001b[0m\n\u001b[0;32m-> 1304\u001b[0;31m         return_value = get_return_value(\n\u001b[0m\u001b[1;32m   1305\u001b[0m             answer, self.gateway_client, self.target_id, self.name)\n\u001b[1;32m   1306\u001b[0m \u001b[0;34m\u001b[0m\u001b[0m\n",
            "\u001b[0;32m/content/spark-3.1.1-bin-hadoop3.2/python/pyspark/sql/utils.py\u001b[0m in \u001b[0;36mdeco\u001b[0;34m(*a, **kw)\u001b[0m\n\u001b[1;32m    115\u001b[0m                 \u001b[0;31m# Hide where the exception came from that shows a non-Pythonic\u001b[0m\u001b[0;34m\u001b[0m\u001b[0;34m\u001b[0m\u001b[0m\n\u001b[1;32m    116\u001b[0m                 \u001b[0;31m# JVM exception message.\u001b[0m\u001b[0;34m\u001b[0m\u001b[0;34m\u001b[0m\u001b[0m\n\u001b[0;32m--> 117\u001b[0;31m                 \u001b[0;32mraise\u001b[0m \u001b[0mconverted\u001b[0m \u001b[0;32mfrom\u001b[0m \u001b[0;32mNone\u001b[0m\u001b[0;34m\u001b[0m\u001b[0;34m\u001b[0m\u001b[0m\n\u001b[0m\u001b[1;32m    118\u001b[0m             \u001b[0;32melse\u001b[0m\u001b[0;34m:\u001b[0m\u001b[0;34m\u001b[0m\u001b[0;34m\u001b[0m\u001b[0m\n\u001b[1;32m    119\u001b[0m                 \u001b[0;32mraise\u001b[0m\u001b[0;34m\u001b[0m\u001b[0;34m\u001b[0m\u001b[0m\n",
            "\u001b[0;31mAnalysisException\u001b[0m: cannot resolve '`Movie`' given input columns: [cast, country, date_added, description, director, duration, listed_in, rating, release_year, show_id, title, type];\n'Filter 'Movie\n+- Relation[show_id#16,type#17,title#18,director#19,cast#20,country#21,date_added#22,release_year#23,rating#24,duration#25,listed_in#26,description#27] csv\n"
          ]
        }
      ]
    },
    {
      "cell_type": "code",
      "source": [],
      "metadata": {
        "id": "bPnRn2YQMQQ4"
      },
      "execution_count": null,
      "outputs": []
    },
    {
      "cell_type": "markdown",
      "source": [
        "5. How many titles were added to Netflix each year?"
      ],
      "metadata": {
        "id": "-7DAJlQSMRE8"
      }
    },
    {
      "cell_type": "code",
      "source": [
        "from pyspark.sql.functions import *\n",
        "#on basis of relaese year\n",
        "titles_total=netflix_df.groupBy('release_year').agg(count('*').alias('total_count'))\n",
        "titles_total.show()\n",
        "#on basis of release year is 2021\n",
        "year_2021=titles_total.filter(col('release_year')==2021)\n",
        "year_2021.show(5)"
      ],
      "metadata": {
        "id": "5HSm9yvdbeDj"
      },
      "execution_count": null,
      "outputs": []
    },
    {
      "cell_type": "markdown",
      "source": [],
      "metadata": {
        "id": "xNA8zYkcMRHG"
      }
    },
    {
      "cell_type": "markdown",
      "source": [
        "6. What is the distribution of ratings (G, PG, PG-13, etc.) in the dataset?\n"
      ],
      "metadata": {
        "id": "vNU8LkmDMRKe"
      }
    },
    {
      "cell_type": "code",
      "source": [
        "netflix_df.show(3)\n",
        "ratings_df=netflix_df.groupBy('rating').agg(count('rating').alias(\"total_count\"))\n",
        "ratings_df.show()"
      ],
      "metadata": {
        "id": "3caPgFODaXEK",
        "colab": {
          "base_uri": "https://localhost:8080/"
        },
        "outputId": "2c961bd7-fc62-4563-d468-70aa030fc44f"
      },
      "execution_count": null,
      "outputs": [
        {
          "output_type": "stream",
          "name": "stdout",
          "text": [
            "+-------+-------+--------------------+---------------+--------------------+-------------+----------+------------+------+---------+--------------------+--------------------+\n",
            "|show_id|   type|               title|       director|                cast|      country|date_added|release_year|rating| duration|           listed_in|         description|\n",
            "+-------+-------+--------------------+---------------+--------------------+-------------+----------+------------+------+---------+--------------------+--------------------+\n",
            "|     s1|  Movie|Dick Johnson Is Dead|Kirsten Johnson|                null|United States| 25-Sep-21|        2020| PG-13|   90 min|       Documentaries|As her father nea...|\n",
            "|     s2|TV Show|       Blood & Water|           null|Ama Qamata, Khosi...| South Africa| 24-Sep-21|        2021| TV-MA|2 Seasons|International TV ...|After crossing pa...|\n",
            "|     s3|TV Show|           Ganglands|Julien Leclercq|Sami Bouajila, Tr...|         null| 24-Sep-21|        2021| TV-MA| 1 Season|Crime TV Shows, I...|To protect his fa...|\n",
            "+-------+-------+--------------------+---------------+--------------------+-------------+----------+------------+------+---------+--------------------+--------------------+\n",
            "only showing top 3 rows\n",
            "\n",
            "+--------------------+-----------+\n",
            "|              rating|total_count|\n",
            "+--------------------+-----------+\n",
            "|    Shavidee Trotter|          1|\n",
            "|       Adriane Lenox|          1|\n",
            "|                TV-Y|        307|\n",
            "|       Maury Chaykin|          1|\n",
            "|                2019|          1|\n",
            "|                2017|          1|\n",
            "|                  UR|          3|\n",
            "| Keppy Ekpenyong ...|          1|\n",
            "|      Benn Northover|          1|\n",
            "|Classic Movies, D...|          1|\n",
            "|                null|          0|\n",
            "|                  PG|        286|\n",
            "|         Jide Kosoko|          1|\n",
            "|               TV-MA|       3195|\n",
            "|     Jowharah Jones\"|          1|\n",
            "|            TV-Y7-FV|          6|\n",
            "|            1-Nov-20|          1|\n",
            "|                2006|          1|\n",
            "|      Itziar Aizpuru|          1|\n",
            "|              84 min|          1|\n",
            "+--------------------+-----------+\n",
            "only showing top 20 rows\n",
            "\n"
          ]
        }
      ]
    },
    {
      "cell_type": "markdown",
      "source": [
        "7. How does the distribution of TV shows and movies vary by country?\n"
      ],
      "metadata": {
        "id": "FhC1j6g_bpz5"
      }
    },
    {
      "cell_type": "code",
      "source": [
        "netflix_df.show(5)\n",
        "dis_movies=netflix_df.groupBy('country')\n"
      ],
      "metadata": {
        "colab": {
          "base_uri": "https://localhost:8080/"
        },
        "id": "uAyuBdDsJW7N",
        "outputId": "9b393347-9259-4bbc-a398-4fb6aa510708"
      },
      "execution_count": null,
      "outputs": [
        {
          "output_type": "stream",
          "name": "stdout",
          "text": [
            "+-------+-------+--------------------+---------------+--------------------+-------------+----------+------------+------+---------+--------------------+--------------------+\n",
            "|show_id|   type|               title|       director|                cast|      country|date_added|release_year|rating| duration|           listed_in|         description|\n",
            "+-------+-------+--------------------+---------------+--------------------+-------------+----------+------------+------+---------+--------------------+--------------------+\n",
            "|     s1|  Movie|Dick Johnson Is Dead|Kirsten Johnson|                null|United States| 25-Sep-21|        2020| PG-13|   90 min|       Documentaries|As her father nea...|\n",
            "|     s2|TV Show|       Blood & Water|           null|Ama Qamata, Khosi...| South Africa| 24-Sep-21|        2021| TV-MA|2 Seasons|International TV ...|After crossing pa...|\n",
            "|     s3|TV Show|           Ganglands|Julien Leclercq|Sami Bouajila, Tr...|         null| 24-Sep-21|        2021| TV-MA| 1 Season|Crime TV Shows, I...|To protect his fa...|\n",
            "|     s4|TV Show|Jailbirds New Orl...|           null|                null|         null| 24-Sep-21|        2021| TV-MA| 1 Season|Docuseries, Reali...|Feuds, flirtation...|\n",
            "|     s5|TV Show|        Kota Factory|           null|Mayur More, Jiten...|        India| 24-Sep-21|        2021| TV-MA|2 Seasons|International TV ...|In a city of coac...|\n",
            "+-------+-------+--------------------+---------------+--------------------+-------------+----------+------------+------+---------+--------------------+--------------------+\n",
            "only showing top 5 rows\n",
            "\n"
          ]
        }
      ]
    },
    {
      "cell_type": "code",
      "source": [],
      "metadata": {
        "id": "3kDRo2h6JTD-"
      },
      "execution_count": null,
      "outputs": []
    },
    {
      "cell_type": "code",
      "source": [],
      "metadata": {
        "id": "Bq88rNBWbs6G"
      },
      "execution_count": null,
      "outputs": []
    },
    {
      "cell_type": "markdown",
      "source": [
        "8. What is the average length of movies by country?\n"
      ],
      "metadata": {
        "id": "B2lZxQZjbt3B"
      }
    },
    {
      "cell_type": "code",
      "source": [],
      "metadata": {
        "id": "uJrlAP1jbvzc"
      },
      "execution_count": null,
      "outputs": []
    },
    {
      "cell_type": "markdown",
      "source": [
        "What are the most common genres in the dataset?\n"
      ],
      "metadata": {
        "id": "2BeJK-Mnbwhq"
      }
    },
    {
      "cell_type": "code",
      "source": [],
      "metadata": {
        "id": "BPYyg9JDbyXI"
      },
      "execution_count": null,
      "outputs": []
    },
    {
      "cell_type": "markdown",
      "source": [
        "How many titles were added to Netflix each month?\n"
      ],
      "metadata": {
        "id": "HP-QHDBQbzAq"
      }
    },
    {
      "cell_type": "code",
      "source": [],
      "metadata": {
        "id": "NIGqSBJdb0pf"
      },
      "execution_count": null,
      "outputs": []
    },
    {
      "cell_type": "markdown",
      "source": [
        "What are the top 10 longest-running TV shows in the dataset?\n"
      ],
      "metadata": {
        "id": "MG5Ryx7Yb1CJ"
      }
    },
    {
      "cell_type": "code",
      "source": [],
      "metadata": {
        "id": "Hmjt0hotb2cZ"
      },
      "execution_count": null,
      "outputs": []
    },
    {
      "cell_type": "markdown",
      "source": [
        "Is there a correlation between the release year and the average rating of titles?\n"
      ],
      "metadata": {
        "id": "EGo2LhtRb3Mf"
      }
    },
    {
      "cell_type": "code",
      "source": [],
      "metadata": {
        "id": "UWLAEke-b5Mm"
      },
      "execution_count": null,
      "outputs": []
    },
    {
      "cell_type": "markdown",
      "source": [
        "How many titles are available in multiple languages?\n"
      ],
      "metadata": {
        "id": "cQa_sbjEb5sC"
      }
    },
    {
      "cell_type": "code",
      "source": [],
      "metadata": {
        "id": "LLn1PzBYb7qb"
      },
      "execution_count": null,
      "outputs": []
    },
    {
      "cell_type": "markdown",
      "source": [
        "What are the top 10 actors/actresses with the most appearances in the dataset?\n"
      ],
      "metadata": {
        "id": "i9xw94uKb8ZQ"
      }
    },
    {
      "cell_type": "code",
      "source": [],
      "metadata": {
        "id": "f09nTPryb_TH"
      },
      "execution_count": null,
      "outputs": []
    },
    {
      "cell_type": "code",
      "source": [],
      "metadata": {
        "id": "fzhK2m8ib_5e"
      },
      "execution_count": null,
      "outputs": []
    },
    {
      "cell_type": "markdown",
      "source": [
        "What are the most common words in the descriptions of movies and TV shows?"
      ],
      "metadata": {
        "id": "E5zyQdS0cAVa"
      }
    },
    {
      "cell_type": "code",
      "source": [],
      "metadata": {
        "id": "A--AveoJcBL5"
      },
      "execution_count": null,
      "outputs": []
    }
  ]
}