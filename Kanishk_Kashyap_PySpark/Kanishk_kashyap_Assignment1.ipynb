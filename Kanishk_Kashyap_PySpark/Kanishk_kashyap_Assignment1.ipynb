{
  "nbformat": 4,
  "nbformat_minor": 0,
  "metadata": {
    "colab": {
      "provenance": []
    },
    "kernelspec": {
      "name": "python3",
      "display_name": "Python 3"
    },
    "language_info": {
      "name": "python"
    }
  },
  "cells": [
    {
      "cell_type": "code",
      "execution_count": 1,
      "metadata": {
        "colab": {
          "base_uri": "https://localhost:8080/",
          "height": 219
        },
        "id": "aiSQPdl8tYvX",
        "outputId": "0080da13-c8cd-4fb7-ec0a-c2ac882b87eb"
      },
      "outputs": [
        {
          "output_type": "execute_result",
          "data": {
            "text/plain": [
              "<pyspark.sql.session.SparkSession at 0x7d3914047f40>"
            ],
            "text/html": [
              "\n",
              "            <div>\n",
              "                <p><b>SparkSession - in-memory</b></p>\n",
              "                \n",
              "        <div>\n",
              "            <p><b>SparkContext</b></p>\n",
              "\n",
              "            <p><a href=\"http://759f5b93b766:4040\">Spark UI</a></p>\n",
              "\n",
              "            <dl>\n",
              "              <dt>Version</dt>\n",
              "                <dd><code>v3.1.1</code></dd>\n",
              "              <dt>Master</dt>\n",
              "                <dd><code>local[*]</code></dd>\n",
              "              <dt>AppName</dt>\n",
              "                <dd><code>pyspark-shell</code></dd>\n",
              "            </dl>\n",
              "        </div>\n",
              "        \n",
              "            </div>\n",
              "        "
            ]
          },
          "metadata": {},
          "execution_count": 1
        }
      ],
      "source": [
        "!apt-get install openjdk-8-jdk-headless -qq > /dev/null\n",
        "!wget -q http://archive.apache.org/dist/spark/spark-3.1.1/spark-3.1.1-bin-hadoop3.2.tgz\n",
        "!tar xf spark-3.1.1-bin-hadoop3.2.tgz\n",
        "!pip install -q findspark\n",
        "import os\n",
        "os.environ[\"JAVA_HOME\"] = \"/usr/lib/jvm/java-8-openjdk-amd64\"\n",
        "os.environ[\"SPARK_HOME\"] = \"/content/spark-3.1.1-bin-hadoop3.2\"\n",
        "import findspark\n",
        "findspark.init()\n",
        "from pyspark.sql import SparkSession\n",
        "spark = SparkSession.builder.master(\"local[*]\").getOrCreate()\n",
        "spark"
      ]
    },
    {
      "cell_type": "code",
      "source": [
        "#1. excluding characters outside the keyboard\n",
        "from pyspark.sql import SparkSession\n",
        "from pyspark.sql.functions import col\n",
        "spark = SparkSession.builder.appName(\"AddressFilter\").getOrCreate()\n",
        "\n",
        "data = [\n",
        "    (\"D/O New Delhi\",),\n",
        "    (\"C\\\\O Tarun123 New Delhi\",),\n",
        "    (\"C// tarun ₹ New Delhi\",)\n",
        "]\n",
        "\n",
        "columns = [\"Address\"]\n",
        "df = spark.createDataFrame(data, columns)\n",
        "\n",
        "#regex pattern\n",
        "regex_pattern = \"^[ -~]*$\"\n",
        "\n",
        "# Filter DataFrame based on the regex pattern\n",
        "filtered_df = df.filter(col(\"Address\").rlike(regex_pattern))\n",
        "\n",
        "# Show the result\n",
        "filtered_df.show(truncate=False)\n"
      ],
      "metadata": {
        "colab": {
          "base_uri": "https://localhost:8080/"
        },
        "id": "rBCsvzJ7w8Sc",
        "outputId": "3c724758-f6c7-4e7b-f45e-642220fb9dac"
      },
      "execution_count": 25,
      "outputs": [
        {
          "output_type": "stream",
          "name": "stdout",
          "text": [
            "+----------------------+\n",
            "|Address               |\n",
            "+----------------------+\n",
            "|D/O New Delhi         |\n",
            "|C\\O Tarun123 New Delhi|\n",
            "+----------------------+\n",
            "\n"
          ]
        }
      ]
    },
    {
      "cell_type": "code",
      "source": [
        "#1. excluding special characters\n",
        "\n",
        "from pyspark.sql import SparkSession\n",
        "from pyspark.sql.functions import col\n",
        "spark = SparkSession.builder.appName(\"AddressFilter\").getOrCreate()\n",
        "\n",
        "# creating dataframe\n",
        "data = [\n",
        "    (\"D/O New Delhi\",),\n",
        "    (\"C\\\\O Tarun123 New Delhi\",),\n",
        "    (\"C// tarun ₹ New Delhi\",)]\n",
        "\n",
        "columns = [\"Address\"]\n",
        "df = spark.createDataFrame(data, columns)\n",
        "\n",
        "# regex pattern\n",
        "regex_pattern = \"^[A-Za-z0-9 /\\\\\\\\]*$\"\n",
        "\n",
        "# Filtering data based on the regex pattern\n",
        "filtered_df = df.filter(col(\"Address\").rlike(regex_pattern))\n",
        "\n",
        "filtered_df.show(truncate=False)\n"
      ],
      "metadata": {
        "colab": {
          "base_uri": "https://localhost:8080/"
        },
        "id": "MvgPVh9m18-3",
        "outputId": "ae71d31f-c1bd-42e2-ae1a-59f385fbe570"
      },
      "execution_count": 26,
      "outputs": [
        {
          "output_type": "stream",
          "name": "stdout",
          "text": [
            "+----------------------+\n",
            "|Address               |\n",
            "+----------------------+\n",
            "|D/O New Delhi         |\n",
            "|C\\O Tarun123 New Delhi|\n",
            "+----------------------+\n",
            "\n"
          ]
        }
      ]
    },
    {
      "cell_type": "code",
      "source": [
        "#2.\n",
        "\n",
        "from pyspark.sql import SparkSession\n",
        "from pyspark.sql.functions import col, to_timestamp, date_format\n",
        "spark = SparkSession.builder.appName(\"TimestampConversion\").getOrCreate()\n",
        "\n",
        "#  DataFrame\n",
        "data = [(\"2023-01-01 10:22\",)]\n",
        "columns = [\"Start\"]\n",
        "df = spark.createDataFrame(data, columns)\n",
        "\n",
        "# Converting the column to a proper timestamp format\n",
        "df = df.withColumn(\"Start\", to_timestamp(col(\"Start\"), \"yyyy-MM-dd HH:mm\"))\n",
        "\n",
        "# Format the timestamp to \"YYYY-MM-DD HH:MM:SS\" with seconds set to 00\n",
        "df = df.withColumn(\"Start\", date_format(col(\"Start\"), \"yyyy-MM-dd HH:mm:ss\"))\n",
        "\n",
        "# Show the result\n",
        "df.show(truncate=False)\n",
        "#df.printSchema"
      ],
      "metadata": {
        "colab": {
          "base_uri": "https://localhost:8080/"
        },
        "id": "D2CrfLZu4Vlv",
        "outputId": "a2d04ab6-1a9d-4a14-f894-be35fc4c8e23"
      },
      "execution_count": 20,
      "outputs": [
        {
          "output_type": "stream",
          "name": "stdout",
          "text": [
            "+-------------------+\n",
            "|Start              |\n",
            "+-------------------+\n",
            "|2023-01-01 10:22:00|\n",
            "+-------------------+\n",
            "\n"
          ]
        }
      ]
    },
    {
      "cell_type": "code",
      "source": [],
      "metadata": {
        "id": "LR8eYejw7FTu"
      },
      "execution_count": null,
      "outputs": []
    }
  ]
}