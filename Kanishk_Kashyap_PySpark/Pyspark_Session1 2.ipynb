{
  "cells": [
    {
      "cell_type": "code",
      "execution_count": 2,
      "metadata": {
        "id": "a_cXuQ4x7AsZ"
      },
      "outputs": [],
      "source": [
        "!apt-get install openjdk-8-jdk-headless -qq > /dev/null\n",
        "!wget -q http://archive.apache.org/dist/spark/spark-3.1.1/spark-3.1.1-bin-hadoop3.2.tgz\n",
        "!tar xf spark-3.1.1-bin-hadoop3.2.tgz\n",
        "!pip install -q findspark\n"
      ]
    },
    {
      "cell_type": "code",
      "execution_count": 3,
      "metadata": {
        "id": "m8GrdZVo7ZpS"
      },
      "outputs": [],
      "source": [
        "import os\n",
        "os.environ[\"JAVA_HOME\"] = \"/usr/lib/jvm/java-8-openjdk-amd64\"\n",
        "os.environ[\"SPARK_HOME\"] = \"/content/spark-3.1.1-bin-hadoop3.2\"\n",
        "\n"
      ]
    },
    {
      "cell_type": "code",
      "execution_count": 4,
      "metadata": {
        "id": "pm1mvMDE78DC"
      },
      "outputs": [],
      "source": [
        "import findspark\n",
        "findspark.init()\n"
      ]
    },
    {
      "cell_type": "code",
      "execution_count": 5,
      "metadata": {
        "colab": {
          "base_uri": "https://localhost:8080/",
          "height": 219
        },
        "id": "nU31OWxq8ANN",
        "outputId": "03272be0-3339-42bc-bee7-b88ccee264ef"
      },
      "outputs": [
        {
          "output_type": "execute_result",
          "data": {
            "text/plain": [
              "<pyspark.sql.session.SparkSession at 0x7d3fc42db730>"
            ],
            "text/html": [
              "\n",
              "            <div>\n",
              "                <p><b>SparkSession - in-memory</b></p>\n",
              "                \n",
              "        <div>\n",
              "            <p><b>SparkContext</b></p>\n",
              "\n",
              "            <p><a href=\"http://b288493aaf3b:4040\">Spark UI</a></p>\n",
              "\n",
              "            <dl>\n",
              "              <dt>Version</dt>\n",
              "                <dd><code>v3.1.1</code></dd>\n",
              "              <dt>Master</dt>\n",
              "                <dd><code>local[*]</code></dd>\n",
              "              <dt>AppName</dt>\n",
              "                <dd><code>pyspark-shell</code></dd>\n",
              "            </dl>\n",
              "        </div>\n",
              "        \n",
              "            </div>\n",
              "        "
            ]
          },
          "metadata": {},
          "execution_count": 5
        }
      ],
      "source": [
        "from pyspark.sql import SparkSession\n",
        "spark = SparkSession.builder.master(\"local[*]\").getOrCreate()\n",
        "spark"
      ]
    },
    {
      "cell_type": "code",
      "execution_count": 13,
      "metadata": {
        "colab": {
          "base_uri": "https://localhost:8080/"
        },
        "id": "gcOTaonp8BTu",
        "outputId": "c38dbc0e-c143-42b1-a72e-cc829c3c3ab8"
      },
      "outputs": [
        {
          "output_type": "stream",
          "name": "stdout",
          "text": [
            "+---+-----+---+\n",
            "| id| name|age|\n",
            "+---+-----+---+\n",
            "|  1|Harsh| 30|\n",
            "|  2| Yash| 25|\n",
            "|  3|Janit| 35|\n",
            "+---+-----+---+\n",
            "\n"
          ]
        }
      ],
      "source": [
        "# Import necessary libraries\n",
        "from pyspark.sql import SparkSession\n",
        "from pyspark.sql import Row\n",
        "\n",
        "# Create a SparkSession\n",
        "spark = SparkSession.builder \\\n",
        "    .appName(\"Simple PySpark DataFrame\") \\\n",
        "    .getOrCreate()\n",
        "\n",
        "# Create some data\n",
        "data = [\n",
        "    Row(id=1, name='Harsh', age=30),\n",
        "    Row(id=2, name='Yash', age=25),\n",
        "    Row(id=3, name='Janit', age=35)\n",
        "]\n",
        "\n",
        "# Create a DataFrame from the data\n",
        "df = spark.createDataFrame(data)\n",
        "\n",
        "# Show the DataFrame\n",
        "df.show()\n"
      ]
    },
    {
      "cell_type": "code",
      "source": [
        "from pyspark.sql.functions import col\n",
        "df = df.withColumn(\"age\", col(\"age\").cast(\"string\"))\n"
      ],
      "metadata": {
        "id": "Rno68qWSRl25"
      },
      "execution_count": 14,
      "outputs": []
    },
    {
      "cell_type": "code",
      "execution_count": 8,
      "metadata": {
        "id": "YkBJskXG56b-"
      },
      "outputs": [],
      "source": [
        "from pyspark.sql import SparkSession\n",
        "spark = SparkSession.builder \\\n",
        "    .appName(\"Read CSV\") \\\n",
        "    .getOrCreate()\n",
        "df = spark.read.csv(\"/content/people-100.csv\", header=True, inferSchema=False)"
      ]
    },
    {
      "cell_type": "code",
      "execution_count": 9,
      "metadata": {
        "id": "0qPfeDKq6IGM",
        "colab": {
          "base_uri": "https://localhost:8080/"
        },
        "outputId": "a1a0d997-c0f5-4f5f-b354-f97529fff24c"
      },
      "outputs": [
        {
          "output_type": "stream",
          "name": "stdout",
          "text": [
            "+-----+---------------+----------+---------+------+--------------------+--------------------+-------------+--------------------+\n",
            "|Index|        User Id|First Name|Last Name|   Sex|               Email|               Phone|Date of birth|           Job Title|\n",
            "+-----+---------------+----------+---------+------+--------------------+--------------------+-------------+--------------------+\n",
            "|    1|88F7B33d2bcf9f5|    Shelby|  Terrell|  Male|elijah57@example.net|001-084-906-7849x...|   26-10-1945|     Games developer|\n",
            "|    2|f90cD3E76f1A9b9|   Phillip|  Summers|Female|bethany14@example...|   214.112.6044x4913|   24-03-1910|      Phytotherapist|\n",
            "|    3|DbeAb8CcdfeFC2c|  Kristine|   Travis|  Male|bthompson@example...|        277.609.7938|   02-07-1992|           Homeopath|\n",
            "|    4|A31Bee3c201ef58|   Yesenia| Martinez|  Male|kaitlinkaiser@exa...|        584.094.6111|   03-08-2017|   Market researcher|\n",
            "|    5|1bA7A3dc874da3c|      Lori|     Todd|  Male|buchananmanuel@ex...|   689-207-3558x7233|   01-12-1938|  Veterinary surgeon|\n",
            "|    6|bfDD7CDEF5D865B|      Erin|      Day|  Male| tconner@example.org|001-171-649-9856x...|   28-10-2015|Waste management ...|\n",
            "|    7|bE9EEf34cB72AF7| Katherine|     Buck|Female|conniecowan@examp...|+1-773-151-6685x4...|   22-01-1989|Intelligence analyst|\n",
            "|    8|2EFC6A4e77FaEaC|   Ricardo|   Hinton|  Male|wyattbishop@examp...|001-447-699-7998x...|   26-03-1924|      Hydrogeologist|\n",
            "|    9|baDcC4DeefD8dEB|      Dave|  Farrell|  Male| nmccann@example.net|  603-428-2429x27392|   06-10-2018|              Lawyer|\n",
            "|   10|8e4FB470FE19bF0|    Isaiah|    Downs|  Male|virginiaterrell@e...|+1-511-372-1544x8206|   20-09-1964|      Engineer, site|\n",
            "|   11|BF0BbA03C29Bb3b|    Sheila|     Ross|Female|huangcathy@exampl...|        895.881.4746|   20-03-2008|Advertising accou...|\n",
            "|   12|F738c69fB34E62E|     Stacy|   Newton|  Male|rayleroy@example.org|  710.673.3213x80335|   20-10-1980|       Warden/ranger|\n",
            "|   13|C03fDADdAadAdCe|     Mandy|    Blake|  Male|jefferynoble@exam...|  (992)466-1305x4947|   08-12-2007|Scientist, clinic...|\n",
            "|   14|b759b74BD1dE80d|   Bridget|     Nash|Female|mercedes44@exampl...|       (216)627-8359|   28-06-2004|       Social worker|\n",
            "|   15|1F0B7D65A00DAF9|   Crystal|   Farmer|  Male|pmiranda@example.org|               -5791|   09-03-1992|Agricultural cons...|\n",
            "|   16|50Bb061cB30B461|    Thomas|   Knight|Female|braunpriscilla@ex...|               -2005|   18-02-2006|Sport and exercis...|\n",
            "|   17|D6dbA5308fEC4BC|   Maurice|   Rangel|  Male|sheenabanks@examp...|       (246)187-4969|   20-08-2004|Secretary/adminis...|\n",
            "|   18|311D775990f066d|     Frank|  Meadows|  Male| gbrewer@example.org|   429.965.3902x4447|   16-09-2008|Audiological scie...|\n",
            "|   19|7F7E1BAcb0C9AFf|     Alvin|     Paul|  Male|gilbertdonaldson@...|  219.436.0887x07551|   12-05-1949|Teacher, adult ed...|\n",
            "|   20|88473e15D5c3cD0|     Jared| Mitchell|Female| jcortez@example.com|               -8587|   18-01-1921|    Paediatric nurse|\n",
            "+-----+---------------+----------+---------+------+--------------------+--------------------+-------------+--------------------+\n",
            "only showing top 20 rows\n",
            "\n"
          ]
        }
      ],
      "source": [
        "df.show(20)"
      ]
    },
    {
      "cell_type": "code",
      "source": [
        "df.printSchema()"
      ],
      "metadata": {
        "colab": {
          "base_uri": "https://localhost:8080/"
        },
        "id": "3I-Ob_0PMWtz",
        "outputId": "af3af69a-ae87-4d63-9cd4-d7e3617f293f"
      },
      "execution_count": 10,
      "outputs": [
        {
          "output_type": "stream",
          "name": "stdout",
          "text": [
            "root\n",
            " |-- Index: string (nullable = true)\n",
            " |-- User Id: string (nullable = true)\n",
            " |-- First Name: string (nullable = true)\n",
            " |-- Last Name: string (nullable = true)\n",
            " |-- Sex: string (nullable = true)\n",
            " |-- Email: string (nullable = true)\n",
            " |-- Phone: string (nullable = true)\n",
            " |-- Date of birth: string (nullable = true)\n",
            " |-- Job Title: string (nullable = true)\n",
            "\n"
          ]
        }
      ]
    },
    {
      "cell_type": "code",
      "source": [
        "from pyspark.sql import SparkSession\n",
        "from pyspark.sql.types import StructType, StructField, StringType, IntegerType\n",
        "\n",
        "# Create a SparkSession\n",
        "spark = SparkSession.builder \\\n",
        "    .appName(\"CreateDataFrameExample\") \\\n",
        "    .getOrCreate()\n",
        "\n",
        "# Define schema for the DataFrame\n",
        "schema = StructType([\n",
        "    StructField(\"id\", IntegerType(), True),\n",
        "    StructField(\"name\", StringType(), True),\n",
        "    StructField(\"age\", IntegerType(), True)\n",
        "])\n",
        "\n",
        "# Sample data\n",
        "data = [(1, \"Harsh\", 30),\n",
        "        (2, \"Yash\", 25),\n",
        "        (3, \"Janit\", 35)]\n",
        "\n",
        "# Create a DataFrame\n",
        "df = spark.createDataFrame(data, schema)\n",
        "\n",
        "# Show the DataFrame\n",
        "df.show()\n"
      ],
      "metadata": {
        "colab": {
          "base_uri": "https://localhost:8080/"
        },
        "id": "CNY9tuEFNUVZ",
        "outputId": "df980be7-c955-41d3-e04e-3d91da333d8f"
      },
      "execution_count": 15,
      "outputs": [
        {
          "output_type": "stream",
          "name": "stdout",
          "text": [
            "+---+-----+---+\n",
            "| id| name|age|\n",
            "+---+-----+---+\n",
            "|  1|Harsh| 30|\n",
            "|  2| Yash| 25|\n",
            "|  3|Janit| 35|\n",
            "+---+-----+---+\n",
            "\n"
          ]
        }
      ]
    },
    {
      "cell_type": "code",
      "source": [
        "df.printSchema()"
      ],
      "metadata": {
        "colab": {
          "base_uri": "https://localhost:8080/"
        },
        "id": "MlQlgyPvdSQW",
        "outputId": "de70a1d5-15be-4f95-da81-70f1a32cdd04"
      },
      "execution_count": 16,
      "outputs": [
        {
          "output_type": "stream",
          "name": "stdout",
          "text": [
            "root\n",
            " |-- id: integer (nullable = true)\n",
            " |-- name: string (nullable = true)\n",
            " |-- age: integer (nullable = true)\n",
            "\n"
          ]
        }
      ]
    },
    {
      "cell_type": "code",
      "source": [
        "from pyspark.sql.functions import col\n",
        "df = df.withColumn(\"age\", col(\"age\").cast(\"string\"))\n"
      ],
      "metadata": {
        "id": "ZVlZ6F3gdVQs"
      },
      "execution_count": 17,
      "outputs": []
    },
    {
      "cell_type": "code",
      "source": [
        "df.printSchema()"
      ],
      "metadata": {
        "colab": {
          "base_uri": "https://localhost:8080/"
        },
        "id": "eLchYhnVeP3y",
        "outputId": "9e570457-f458-459f-eac6-a6d7185ff183"
      },
      "execution_count": 18,
      "outputs": [
        {
          "output_type": "stream",
          "name": "stdout",
          "text": [
            "root\n",
            " |-- id: integer (nullable = true)\n",
            " |-- name: string (nullable = true)\n",
            " |-- age: string (nullable = true)\n",
            "\n"
          ]
        }
      ]
    },
    {
      "cell_type": "code",
      "source": [
        "sc=spark.sparkContext\n",
        "data = [1, 2, 3, 4, 5]\n",
        "rdd = sc.parallelize(data)\n",
        "\n",
        "print(rdd.collect())"
      ],
      "metadata": {
        "colab": {
          "base_uri": "https://localhost:8080/"
        },
        "id": "LIaBp5EOemyn",
        "outputId": "3cd540e9-22ec-4378-a77b-f95ce60c6af9"
      },
      "execution_count": 19,
      "outputs": [
        {
          "output_type": "stream",
          "name": "stdout",
          "text": [
            "[1, 2, 3, 4, 5]\n"
          ]
        }
      ]
    },
    {
      "cell_type": "code",
      "source": [
        "df2 = spark.read.parquet(\"/content/userdata1.parquet\")"
      ],
      "metadata": {
        "id": "fyVUXMNZhApP"
      },
      "execution_count": 20,
      "outputs": []
    },
    {
      "cell_type": "code",
      "source": [
        "df2.show(5)"
      ],
      "metadata": {
        "colab": {
          "base_uri": "https://localhost:8080/"
        },
        "id": "flnTggSZURx2",
        "outputId": "77049010-d1f1-4b2f-f21f-eb67bb74d36f"
      },
      "execution_count": 21,
      "outputs": [
        {
          "output_type": "stream",
          "name": "stdout",
          "text": [
            "+-------------------+---+----------+---------+--------------------+------+--------------+----------------+------------+---------+---------+--------------------+--------+\n",
            "|  registration_dttm| id|first_name|last_name|               email|gender|    ip_address|              cc|     country|birthdate|   salary|               title|comments|\n",
            "+-------------------+---+----------+---------+--------------------+------+--------------+----------------+------------+---------+---------+--------------------+--------+\n",
            "|2016-02-03 07:55:29|  1|    Amanda|   Jordan|    ajordan0@com.com|Female|   1.197.201.2|6759521864920116|   Indonesia| 3/8/1971| 49756.53|    Internal Auditor|   1E+02|\n",
            "|2016-02-03 17:04:03|  2|    Albert|  Freeman|     afreeman1@is.gd|  Male|218.111.175.34|                |      Canada|1/16/1968|150280.17|       Accountant IV|        |\n",
            "|2016-02-03 01:09:31|  3|    Evelyn|   Morgan|emorgan2@altervis...|Female|  7.161.136.94|6767119071901597|      Russia| 2/1/1960|144972.51| Structural Engineer|        |\n",
            "|2016-02-03 00:36:21|  4|    Denise|    Riley|    driley3@gmpg.org|Female| 140.35.109.83|3576031598965625|       China| 4/8/1997| 90263.05|Senior Cost Accou...|        |\n",
            "|2016-02-03 05:05:31|  5|    Carlos|    Burns|cburns4@miitbeian...|      |169.113.235.40|5602256255204850|South Africa|         |     null|                    |        |\n",
            "+-------------------+---+----------+---------+--------------------+------+--------------+----------------+------------+---------+---------+--------------------+--------+\n",
            "only showing top 5 rows\n",
            "\n"
          ]
        }
      ]
    },
    {
      "cell_type": "code",
      "source": [
        "df2.printSchema()"
      ],
      "metadata": {
        "colab": {
          "base_uri": "https://localhost:8080/"
        },
        "id": "8B2dABFfUU74",
        "outputId": "a93cf3f9-0923-468c-ad9a-9053fc3a3181"
      },
      "execution_count": 22,
      "outputs": [
        {
          "output_type": "stream",
          "name": "stdout",
          "text": [
            "root\n",
            " |-- registration_dttm: timestamp (nullable = true)\n",
            " |-- id: integer (nullable = true)\n",
            " |-- first_name: string (nullable = true)\n",
            " |-- last_name: string (nullable = true)\n",
            " |-- email: string (nullable = true)\n",
            " |-- gender: string (nullable = true)\n",
            " |-- ip_address: string (nullable = true)\n",
            " |-- cc: string (nullable = true)\n",
            " |-- country: string (nullable = true)\n",
            " |-- birthdate: string (nullable = true)\n",
            " |-- salary: double (nullable = true)\n",
            " |-- title: string (nullable = true)\n",
            " |-- comments: string (nullable = true)\n",
            "\n"
          ]
        }
      ]
    },
    {
      "cell_type": "code",
      "source": [
        "#read the json file by taking the multiline=true\n",
        "df3=spark.read.json(\"/content/example_1.json\")\n"
      ],
      "metadata": {
        "id": "CMHsIVNIUYLa"
      },
      "execution_count": 7,
      "outputs": []
    },
    {
      "cell_type": "code",
      "source": [
        "!cat /content/example_1.json"
      ],
      "metadata": {
        "colab": {
          "base_uri": "https://localhost:8080/"
        },
        "id": "ekNDisXo3zmb",
        "outputId": "54527994-ad30-4875-af3f-20340bc5fae2"
      },
      "execution_count": 9,
      "outputs": [
        {
          "output_type": "stream",
          "name": "stdout",
          "text": [
            "{\n",
            "    \"fruit\": \"Apple\",\n",
            "    \"size\": \"Large\",\n",
            "    \"color\": \"Red\"\n",
            "}"
          ]
        }
      ]
    },
    {
      "cell_type": "code",
      "source": [
        "df3.printSchema()"
      ],
      "metadata": {
        "colab": {
          "base_uri": "https://localhost:8080/"
        },
        "id": "rXV89nGp30Gt",
        "outputId": "95c750fd-5381-449d-ba4c-3b0b16f65027"
      },
      "execution_count": 31,
      "outputs": [
        {
          "output_type": "stream",
          "name": "stdout",
          "text": [
            "root\n",
            " |-- _corrupt_record: string (nullable = true)\n",
            "\n"
          ]
        }
      ]
    },
    {
      "cell_type": "code",
      "source": [
        "df3 = df3.filter(df3[\"_corrupt_record\"].isNull())"
      ],
      "metadata": {
        "id": "-LSqcggE4fkT"
      },
      "execution_count": 32,
      "outputs": []
    },
    {
      "cell_type": "code",
      "source": [
        "#read the json file by taking the multiline=true\n",
        "\n",
        "df4=spark.read.json(\"/content/example_1.json\")\n",
        "\n",
        "!cat /content/example_1.json"
      ],
      "metadata": {
        "colab": {
          "base_uri": "https://localhost:8080/"
        },
        "id": "DLw5l4a94fmk",
        "outputId": "dc9aa815-594a-4d38-ff96-d6084d39eb43"
      },
      "execution_count": 11,
      "outputs": [
        {
          "output_type": "stream",
          "name": "stdout",
          "text": [
            "{\n",
            "    \"fruit\": \"Apple\",\n",
            "    \"size\": \"Large\",\n",
            "    \"color\": \"Red\"\n",
            "}"
          ]
        }
      ]
    },
    {
      "cell_type": "markdown",
      "source": [
        "As you can see, when multiline=false, PySpark reads the entire file as a single JSON object and stores it in a column named _corrupt_record, because the data is not formatted correctly for this setting. This is why it's important to choose the appropriate value for the multiline option based on the structure of your JSON data."
      ],
      "metadata": {
        "id": "QYXZgOkuBN65"
      }
    },
    {
      "cell_type": "code",
      "source": [
        "df5 = spark.read.option(\"multiline\", \"false\").json(\"/content/sample_data/anscombe.json\")\n",
        "df5.show()"
      ],
      "metadata": {
        "colab": {
          "base_uri": "https://localhost:8080/"
        },
        "id": "JerZ2qA-7VmH",
        "outputId": "7f021cc8-e8a6-4c1a-e2d0-0ffcfba3a364"
      },
      "execution_count": 30,
      "outputs": [
        {
          "output_type": "stream",
          "name": "stdout",
          "text": [
            "+--------------------+----+-----+---------------+\n",
            "|              Series|   X|    Y|_corrupt_record|\n",
            "+--------------------+----+-----+---------------+\n",
            "|                null|null| null|              [|\n",
            "|iwiwiiiwiwwiwiwiw...|10.0| 8.04|           null|\n",
            "|                   I| 8.0| 6.95|           null|\n",
            "|                   I|13.0| 7.58|           null|\n",
            "|                   I| 9.0| 8.81|           null|\n",
            "|                   I|11.0| 8.33|           null|\n",
            "|                   I|14.0| 9.96|           null|\n",
            "|                   I| 6.0| 7.24|           null|\n",
            "|                   I| 4.0| 4.26|           null|\n",
            "|                   I|12.0|10.84|           null|\n",
            "|                   I| 7.0| 4.81|           null|\n",
            "|                   I| 5.0| 5.68|           null|\n",
            "|                  II|10.0| 9.14|           null|\n",
            "|                  II| 8.0| 8.14|           null|\n",
            "|                  II|13.0| 8.74|           null|\n",
            "|                  II| 9.0| 8.77|           null|\n",
            "|                  II|11.0| 9.26|           null|\n",
            "|                  II|14.0|  8.1|           null|\n",
            "|                  II| 6.0| 6.13|           null|\n",
            "|                  II| 4.0|  3.1|           null|\n",
            "+--------------------+----+-----+---------------+\n",
            "only showing top 20 rows\n",
            "\n"
          ]
        }
      ]
    },
    {
      "cell_type": "code",
      "source": [
        "df6 = spark.read.option(\"multiline\", \"true\").json(\"/content/sample_data/anscombe.json\")\n",
        "df6.show()"
      ],
      "metadata": {
        "colab": {
          "base_uri": "https://localhost:8080/"
        },
        "id": "6RjfwiRN4fqC",
        "outputId": "da6dc589-b8f2-4a23-acda-97fff2fb0636"
      },
      "execution_count": 31,
      "outputs": [
        {
          "output_type": "stream",
          "name": "stdout",
          "text": [
            "+--------------------+----+-----+\n",
            "|              Series|   X|    Y|\n",
            "+--------------------+----+-----+\n",
            "|iwiwiiiwiwwiwiwiw...|10.0| 8.04|\n",
            "|                   I| 8.0| 6.95|\n",
            "|                   I|13.0| 7.58|\n",
            "|                   I| 9.0| 8.81|\n",
            "|                   I|11.0| 8.33|\n",
            "|                   I|14.0| 9.96|\n",
            "|                   I| 6.0| 7.24|\n",
            "|                   I| 4.0| 4.26|\n",
            "|                   I|12.0|10.84|\n",
            "|                   I| 7.0| 4.81|\n",
            "|                   I| 5.0| 5.68|\n",
            "|                  II|10.0| 9.14|\n",
            "|                  II| 8.0| 8.14|\n",
            "|                  II|13.0| 8.74|\n",
            "|                  II| 9.0| 8.77|\n",
            "|                  II|11.0| 9.26|\n",
            "|                  II|14.0|  8.1|\n",
            "|                  II| 6.0| 6.13|\n",
            "|                  II| 4.0|  3.1|\n",
            "|                  II|12.0| 9.13|\n",
            "+--------------------+----+-----+\n",
            "only showing top 20 rows\n",
            "\n"
          ]
        }
      ]
    },
    {
      "cell_type": "code",
      "source": [
        "df5.printSchema()"
      ],
      "metadata": {
        "colab": {
          "base_uri": "https://localhost:8080/"
        },
        "id": "Fy-ODUCPVdQY",
        "outputId": "f79f0def-3869-44ec-cefc-cc472eac153e"
      },
      "execution_count": 24,
      "outputs": [
        {
          "output_type": "stream",
          "name": "stdout",
          "text": [
            "root\n",
            " |-- Series: string (nullable = true)\n",
            " |-- X: double (nullable = true)\n",
            " |-- Y: double (nullable = true)\n",
            "\n"
          ]
        }
      ]
    },
    {
      "cell_type": "code",
      "source": [
        "df5.columns"
      ],
      "metadata": {
        "colab": {
          "base_uri": "https://localhost:8080/"
        },
        "id": "IjdTrq8FVrUL",
        "outputId": "7ed103c0-1eff-4802-f7ef-9c304df97440"
      },
      "execution_count": 25,
      "outputs": [
        {
          "output_type": "execute_result",
          "data": {
            "text/plain": [
              "['Series', 'X', 'Y']"
            ]
          },
          "metadata": {},
          "execution_count": 25
        }
      ]
    },
    {
      "cell_type": "markdown",
      "source": [
        "Truncate=When truncate is set to True (which is the default behavior if not specified), the displayed strings in the columns are truncated if they exceed a certain length, and ... is appended at the end of the truncated strings."
      ],
      "metadata": {
        "id": "xz3NRc-W-pFd"
      }
    },
    {
      "cell_type": "code",
      "source": [
        "df5.show(10,truncate=True)"
      ],
      "metadata": {
        "colab": {
          "base_uri": "https://localhost:8080/"
        },
        "id": "608J2C5s93xE",
        "outputId": "c9835190-f8af-49ab-e1fa-ddcb2b9eb7fd"
      },
      "execution_count": 28,
      "outputs": [
        {
          "output_type": "stream",
          "name": "stdout",
          "text": [
            "+--------------------+----+-----+\n",
            "|              Series|   X|    Y|\n",
            "+--------------------+----+-----+\n",
            "|iwiwiiiwiwwiwiwiw...|10.0| 8.04|\n",
            "|                   I| 8.0| 6.95|\n",
            "|                   I|13.0| 7.58|\n",
            "|                   I| 9.0| 8.81|\n",
            "|                   I|11.0| 8.33|\n",
            "|                   I|14.0| 9.96|\n",
            "|                   I| 6.0| 7.24|\n",
            "|                   I| 4.0| 4.26|\n",
            "|                   I|12.0|10.84|\n",
            "|                   I| 7.0| 4.81|\n",
            "+--------------------+----+-----+\n",
            "only showing top 10 rows\n",
            "\n"
          ]
        }
      ]
    },
    {
      "cell_type": "code",
      "source": [
        "df5.show(10,truncate=False)"
      ],
      "metadata": {
        "colab": {
          "base_uri": "https://localhost:8080/"
        },
        "id": "Dkz5D9DKV7D0",
        "outputId": "f3ab4c52-28b6-4e40-c4f5-c1ca4ec15498"
      },
      "execution_count": 29,
      "outputs": [
        {
          "output_type": "stream",
          "name": "stdout",
          "text": [
            "+--------------------------+----+-----+\n",
            "|Series                    |X   |Y    |\n",
            "+--------------------------+----+-----+\n",
            "|iwiwiiiwiwwiwiwiwiwiwiwiww|10.0|8.04 |\n",
            "|I                         |8.0 |6.95 |\n",
            "|I                         |13.0|7.58 |\n",
            "|I                         |9.0 |8.81 |\n",
            "|I                         |11.0|8.33 |\n",
            "|I                         |14.0|9.96 |\n",
            "|I                         |6.0 |7.24 |\n",
            "|I                         |4.0 |4.26 |\n",
            "|I                         |12.0|10.84|\n",
            "|I                         |7.0 |4.81 |\n",
            "+--------------------------+----+-----+\n",
            "only showing top 10 rows\n",
            "\n"
          ]
        }
      ]
    },
    {
      "cell_type": "code",
      "source": [
        "df6.show(20)"
      ],
      "metadata": {
        "colab": {
          "base_uri": "https://localhost:8080/"
        },
        "id": "dsMtPXRGB1LT",
        "outputId": "7d884582-8f76-41b2-c785-b6b8d489450e"
      },
      "execution_count": 33,
      "outputs": [
        {
          "output_type": "stream",
          "name": "stdout",
          "text": [
            "+--------------------+----+-----+\n",
            "|              Series|   X|    Y|\n",
            "+--------------------+----+-----+\n",
            "|iwiwiiiwiwwiwiwiw...|10.0| 8.04|\n",
            "|                   I| 8.0| 6.95|\n",
            "|                   I|13.0| 7.58|\n",
            "|                   I| 9.0| 8.81|\n",
            "|                   I|11.0| 8.33|\n",
            "|                   I|14.0| 9.96|\n",
            "|                   I| 6.0| 7.24|\n",
            "|                   I| 4.0| 4.26|\n",
            "|                   I|12.0|10.84|\n",
            "|                   I| 7.0| 4.81|\n",
            "|                   I| 5.0| 5.68|\n",
            "|                  II|10.0| 9.14|\n",
            "|                  II|10.0| 9.14|\n",
            "|                  II| 8.0| 8.14|\n",
            "|                  II|13.0| 8.74|\n",
            "|                  II| 9.0| 8.77|\n",
            "|                  II|11.0| 9.26|\n",
            "|                  II|14.0|  8.1|\n",
            "|                  II| 6.0| 6.13|\n",
            "|                  II| 4.0|  3.1|\n",
            "+--------------------+----+-----+\n",
            "only showing top 20 rows\n",
            "\n"
          ]
        }
      ]
    },
    {
      "cell_type": "code",
      "source": [
        "df_no_duplicates=df6.dropDuplicates()"
      ],
      "metadata": {
        "id": "YdXZId4NXPm-"
      },
      "execution_count": 38,
      "outputs": []
    },
    {
      "cell_type": "code",
      "source": [
        "df_no_duplicates.show()"
      ],
      "metadata": {
        "colab": {
          "base_uri": "https://localhost:8080/"
        },
        "id": "9Ib2voC8C5zs",
        "outputId": "93ce54f0-91d7-428e-bf71-6902344bf62d"
      },
      "execution_count": 39,
      "outputs": [
        {
          "output_type": "stream",
          "name": "stdout",
          "text": [
            "+--------------------+----+-----+\n",
            "|              Series|   X|    Y|\n",
            "+--------------------+----+-----+\n",
            "|                   I| 6.0| 7.24|\n",
            "|                  II|14.0|  8.1|\n",
            "|                   I| 8.0| 6.95|\n",
            "|                  IV| 8.0| 5.76|\n",
            "|                  IV| 8.0| 7.71|\n",
            "|                  IV| 8.0| 6.89|\n",
            "|                 III| 8.0| 6.77|\n",
            "|                 III|13.0|12.74|\n",
            "|                  II| 5.0| 4.74|\n",
            "|iwiwiiiwiwwiwiwiw...|10.0| 8.04|\n",
            "|                  II| 8.0| 8.14|\n",
            "|                   I|12.0|10.84|\n",
            "|                 III|10.0| 7.46|\n",
            "|                  II|10.0| 9.14|\n",
            "|                 III|14.0| 8.84|\n",
            "|                  II| 7.0| 7.26|\n",
            "|                   I|13.0| 7.58|\n",
            "|                  IV| 8.0| 7.04|\n",
            "|                 III| 6.0| 6.08|\n",
            "|                   I| 5.0| 5.68|\n",
            "+--------------------+----+-----+\n",
            "only showing top 20 rows\n",
            "\n"
          ]
        }
      ]
    },
    {
      "cell_type": "code",
      "source": [
        "sorted_df = df_no_duplicates.orderBy(\"Series\")\n",
        "\n",
        "# Show the sorted DataFrame\n",
        "sorted_df.show()"
      ],
      "metadata": {
        "colab": {
          "base_uri": "https://localhost:8080/"
        },
        "id": "nRUrfb1NDxDu",
        "outputId": "2e394c0a-7372-4c85-e628-3131fa761b38"
      },
      "execution_count": 40,
      "outputs": [
        {
          "output_type": "stream",
          "name": "stdout",
          "text": [
            "+------+----+-----+\n",
            "|Series|   X|    Y|\n",
            "+------+----+-----+\n",
            "|     I| 4.0| 4.26|\n",
            "|     I| 7.0| 4.81|\n",
            "|     I| 9.0| 8.81|\n",
            "|     I|12.0|10.84|\n",
            "|     I|11.0| 8.33|\n",
            "|     I| 6.0| 7.24|\n",
            "|     I|14.0| 9.96|\n",
            "|     I|13.0| 7.58|\n",
            "|     I| 8.0| 6.95|\n",
            "|     I| 5.0| 5.68|\n",
            "|    II| 6.0| 6.13|\n",
            "|    II|13.0| 8.74|\n",
            "|    II|14.0|  8.1|\n",
            "|    II| 7.0| 7.26|\n",
            "|    II|12.0| 9.13|\n",
            "|    II|10.0| 9.14|\n",
            "|    II| 5.0| 4.74|\n",
            "|    II| 9.0| 8.77|\n",
            "|    II| 8.0| 8.14|\n",
            "|    II| 4.0|  3.1|\n",
            "+------+----+-----+\n",
            "only showing top 20 rows\n",
            "\n"
          ]
        }
      ]
    },
    {
      "cell_type": "code",
      "source": [
        "df6.show()"
      ],
      "metadata": {
        "colab": {
          "base_uri": "https://localhost:8080/"
        },
        "id": "LNlnFdPuEvT2",
        "outputId": "f8f8295c-42d7-4a10-d19c-b9e4f3cad536"
      },
      "execution_count": 41,
      "outputs": [
        {
          "output_type": "stream",
          "name": "stdout",
          "text": [
            "+--------------------+----+-----+\n",
            "|              Series|   X|    Y|\n",
            "+--------------------+----+-----+\n",
            "|iwiwiiiwiwwiwiwiw...|10.0| 8.04|\n",
            "|                   I| 8.0| 6.95|\n",
            "|                   I|13.0| 7.58|\n",
            "|                   I| 9.0| 8.81|\n",
            "|                   I|11.0| 8.33|\n",
            "|                   I|14.0| 9.96|\n",
            "|                   I| 6.0| 7.24|\n",
            "|                   I| 4.0| 4.26|\n",
            "|                   I|12.0|10.84|\n",
            "|                   I| 7.0| 4.81|\n",
            "|                   I| 5.0| 5.68|\n",
            "|                  II|10.0| 9.14|\n",
            "|                  II|10.0| 9.14|\n",
            "|                  II| 8.0| 8.14|\n",
            "|                  II|13.0| 8.74|\n",
            "|                  II| 9.0| 8.77|\n",
            "|                  II|11.0| 9.26|\n",
            "|                  II|14.0|  8.1|\n",
            "|                  II| 6.0| 6.13|\n",
            "|                  II| 4.0|  3.1|\n",
            "+--------------------+----+-----+\n",
            "only showing top 20 rows\n",
            "\n"
          ]
        }
      ]
    },
    {
      "cell_type": "code",
      "source": [
        "#In PySpark, the distinct() function is used to remove duplicate rows from a DataFrame.\n",
        "#It returns a new DataFrame with distinct rows.\n",
        "df6.distinct().show(20)"
      ],
      "metadata": {
        "colab": {
          "base_uri": "https://localhost:8080/"
        },
        "id": "CackbaARXucs",
        "outputId": "da3ca204-8aa5-4de5-8dfd-09d38c65b66f"
      },
      "execution_count": 42,
      "outputs": [
        {
          "output_type": "stream",
          "name": "stdout",
          "text": [
            "+--------------------+----+-----+\n",
            "|              Series|   X|    Y|\n",
            "+--------------------+----+-----+\n",
            "|                   I| 6.0| 7.24|\n",
            "|                  II|14.0|  8.1|\n",
            "|                   I| 8.0| 6.95|\n",
            "|                  IV| 8.0| 5.76|\n",
            "|                  IV| 8.0| 7.71|\n",
            "|                  IV| 8.0| 6.89|\n",
            "|                 III| 8.0| 6.77|\n",
            "|                 III|13.0|12.74|\n",
            "|                  II| 5.0| 4.74|\n",
            "|iwiwiiiwiwwiwiwiw...|10.0| 8.04|\n",
            "|                  II| 8.0| 8.14|\n",
            "|                   I|12.0|10.84|\n",
            "|                 III|10.0| 7.46|\n",
            "|                  II|10.0| 9.14|\n",
            "|                 III|14.0| 8.84|\n",
            "|                  II| 7.0| 7.26|\n",
            "|                   I|13.0| 7.58|\n",
            "|                  IV| 8.0| 7.04|\n",
            "|                 III| 6.0| 6.08|\n",
            "|                   I| 5.0| 5.68|\n",
            "+--------------------+----+-----+\n",
            "only showing top 20 rows\n",
            "\n"
          ]
        }
      ]
    },
    {
      "cell_type": "code",
      "source": [
        "df.select(\"First Name\").show(5)"
      ],
      "metadata": {
        "id": "p5yDta4dX7M5"
      },
      "execution_count": null,
      "outputs": []
    },
    {
      "cell_type": "code",
      "source": [
        "#Filter operations\n",
        "#Column rename"
      ],
      "metadata": {
        "id": "hfpjh1-TYYrI"
      },
      "execution_count": null,
      "outputs": []
    }
  ],
  "metadata": {
    "colab": {
      "provenance": []
    },
    "kernelspec": {
      "display_name": "Python 3",
      "name": "python3"
    },
    "language_info": {
      "name": "python"
    }
  },
  "nbformat": 4,
  "nbformat_minor": 0
}