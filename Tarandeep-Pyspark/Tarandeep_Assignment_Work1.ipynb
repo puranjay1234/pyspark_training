{
  "cells": [
    {
      "cell_type": "code",
      "execution_count": 164,
      "metadata": {
        "id": "oROKxFqPrFJj",
        "colab": {
          "base_uri": "https://localhost:8080/",
          "height": 219
        },
        "outputId": "6d9527c1-c656-4968-9d8f-f17f97539472"
      },
      "outputs": [
        {
          "output_type": "execute_result",
          "data": {
            "text/plain": [
              "<pyspark.sql.session.SparkSession at 0x7f86173b5300>"
            ],
            "text/html": [
              "\n",
              "            <div>\n",
              "                <p><b>SparkSession - in-memory</b></p>\n",
              "                \n",
              "        <div>\n",
              "            <p><b>SparkContext</b></p>\n",
              "\n",
              "            <p><a href=\"http://d1e0e3466e19:4040\">Spark UI</a></p>\n",
              "\n",
              "            <dl>\n",
              "              <dt>Version</dt>\n",
              "                <dd><code>v3.1.1</code></dd>\n",
              "              <dt>Master</dt>\n",
              "                <dd><code>local[*]</code></dd>\n",
              "              <dt>AppName</dt>\n",
              "                <dd><code>pyspark-shell</code></dd>\n",
              "            </dl>\n",
              "        </div>\n",
              "        \n",
              "            </div>\n",
              "        "
            ]
          },
          "metadata": {},
          "execution_count": 164
        }
      ],
      "source": [
        "!apt-get install openjdk-8-jdk-headless -qq > /dev/null\n",
        "!wget -q http://archive.apache.org/dist/spark/spark-3.1.1/spark-3.1.1-bin-hadoop3.2.tgz\n",
        "!tar xf spark-3.1.1-bin-hadoop3.2.tgz\n",
        "!pip install -q findspark\n",
        "import os\n",
        "os.environ[\"JAVA_HOME\"] = \"/usr/lib/jvm/java-8-openjdk-amd64\"\n",
        "os.environ[\"SPARK_HOME\"] = \"/content/spark-3.1.1-bin-hadoop3.2\"\n",
        "import findspark\n",
        "findspark.init()\n",
        "from pyspark.sql import SparkSession\n",
        "spark = SparkSession.builder.master(\"local[*]\").appName(\"Assignment Work\").getOrCreate()\n",
        "spark"
      ]
    },
    {
      "cell_type": "markdown",
      "source": [
        "### Q1) pass \"D/O New Delhi\" and \"C\\O Tarun123 New Delhi\" and  not pass \"C//O Tarun ₹ New Delhi\""
      ],
      "metadata": {
        "id": "LxRU-4AstLz0"
      }
    },
    {
      "cell_type": "code",
      "source": [
        "data = [(\"D/O New Delhi\",),(\"C\\O Tarun123 New Delhi\",),(\"C//O tarun ₹ New Delhi\",)]\n",
        "\n",
        "df = spark.createDataFrame(data, [\"Address\"])\n",
        "df.show(truncate=False)\n",
        "\n",
        "regex_pattern =  r\"^(D/O|C\\\\O) [A-Za-z0-9 ]+$\"\n",
        "\n",
        "filtered_df = df.filter(col(\"Address\").rlike(regex_pattern))\n",
        "\n",
        "filtered_df.show(truncate=False)\n"
      ],
      "metadata": {
        "colab": {
          "base_uri": "https://localhost:8080/"
        },
        "id": "UraNbn2uA_OV",
        "outputId": "03215be1-2be7-45b8-c9c9-4241e5ce9005"
      },
      "execution_count": 170,
      "outputs": [
        {
          "output_type": "stream",
          "name": "stdout",
          "text": [
            "+----------------------+\n",
            "|Address               |\n",
            "+----------------------+\n",
            "|D/O New Delhi         |\n",
            "|C\\O Tarun123 New Delhi|\n",
            "|C//O tarun ₹ New Delhi|\n",
            "+----------------------+\n",
            "\n",
            "+----------------------+\n",
            "|Address               |\n",
            "+----------------------+\n",
            "|D/O New Delhi         |\n",
            "|C\\O Tarun123 New Delhi|\n",
            "+----------------------+\n",
            "\n"
          ]
        }
      ]
    },
    {
      "cell_type": "markdown",
      "source": [
        "### Q2) Start: \"2023-01-01 10:22\" Convert this date into proper timestamp format\"YYYY-MM-DD HH:MM:SS\""
      ],
      "metadata": {
        "id": "1xhms4S34RYR"
      }
    },
    {
      "cell_type": "code",
      "source": [
        "df = spark.createDataFrame([(\"2023-01-01 10:22\",)], [\"Start\"])\n",
        "df = df.withColumn(\"Updated_Start\", date_format(col(\"Start\"), \"yyyy-MM-dd HH:mm:ss\"))\n",
        "df.show(truncate=False)"
      ],
      "metadata": {
        "colab": {
          "base_uri": "https://localhost:8080/"
        },
        "id": "GTqvExt-4HM-",
        "outputId": "bc756448-a6cd-453d-f53e-c32c3ebc623b"
      },
      "execution_count": 166,
      "outputs": [
        {
          "output_type": "stream",
          "name": "stdout",
          "text": [
            "+----------------+-------------------+\n",
            "|Start           |Updated_Start      |\n",
            "+----------------+-------------------+\n",
            "|2023-01-01 10:22|2023-01-01 10:22:00|\n",
            "+----------------+-------------------+\n",
            "\n"
          ]
        }
      ]
    },
    {
      "cell_type": "code",
      "source": [],
      "metadata": {
        "id": "VRSkBfACFy4m"
      },
      "execution_count": null,
      "outputs": []
    }
  ],
  "metadata": {
    "colab": {
      "provenance": []
    },
    "kernelspec": {
      "display_name": "Python 3",
      "name": "python3"
    },
    "language_info": {
      "name": "python"
    }
  },
  "nbformat": 4,
  "nbformat_minor": 0
}