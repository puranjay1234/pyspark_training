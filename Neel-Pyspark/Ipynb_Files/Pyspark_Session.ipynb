{
  "nbformat": 4,
  "nbformat_minor": 0,
  "metadata": {
    "colab": {
      "provenance": []
    },
    "kernelspec": {
      "name": "python3",
      "display_name": "Python 3"
    },
    "language_info": {
      "name": "python"
    }
  },
  "cells": [
    {
      "cell_type": "markdown",
      "source": [
        "## In this sheet, I have implemented basic pyspark operations like how we can load different types of data file [CSV, JSON, TEXTFILE, PARQUET FILE]. and used various types of delimiter, header, inferschema. And later on we applied various filter operations as well. Also I have implemented the concept of RDD as well."
      ],
      "metadata": {
        "id": "cT4YaDldp22e"
      }
    },
    {
      "cell_type": "code",
      "execution_count": null,
      "metadata": {
        "colab": {
          "base_uri": "https://localhost:8080/",
          "height": 221
        },
        "id": "RGiB8ZXDAh1f",
        "outputId": "461eb1c0-a7a2-4527-a6e5-38775972fc5a"
      },
      "outputs": [
        {
          "output_type": "execute_result",
          "data": {
            "text/plain": [
              "<pyspark.sql.session.SparkSession at 0x7ebdd8558d90>"
            ],
            "text/html": [
              "\n",
              "            <div>\n",
              "                <p><b>SparkSession - in-memory</b></p>\n",
              "                \n",
              "        <div>\n",
              "            <p><b>SparkContext</b></p>\n",
              "\n",
              "            <p><a href=\"http://f71a84362099:4040\">Spark UI</a></p>\n",
              "\n",
              "            <dl>\n",
              "              <dt>Version</dt>\n",
              "                <dd><code>v3.1.1</code></dd>\n",
              "              <dt>Master</dt>\n",
              "                <dd><code>local[*]</code></dd>\n",
              "              <dt>AppName</dt>\n",
              "                <dd><code>pyspark-shell</code></dd>\n",
              "            </dl>\n",
              "        </div>\n",
              "        \n",
              "            </div>\n",
              "        "
            ]
          },
          "metadata": {},
          "execution_count": 1
        }
      ],
      "source": [
        "!apt-get install openjdk-8-jdk-headless -qq > /dev/null\n",
        "!wget -q http://archive.apache.org/dist/spark/spark-3.1.1/spark-3.1.1-bin-hadoop3.2.tgz\n",
        "!tar xf spark-3.1.1-bin-hadoop3.2.tgz\n",
        "!pip install -q findspark\n",
        "import os\n",
        "os.environ[\"JAVA_HOME\"] = \"/usr/lib/jvm/java-8-openjdk-amd64\"\n",
        "os.environ[\"SPARK_HOME\"] = \"/content/spark-3.1.1-bin-hadoop3.2\"\n",
        "import findspark\n",
        "findspark.init()\n",
        "from pyspark.sql import SparkSession\n",
        "spark = SparkSession.builder.master(\"local[*]\").getOrCreate()\n",
        "spark"
      ]
    },
    {
      "cell_type": "code",
      "source": [
        "df = spark.createDataFrame([[1,2,3,4],[5,6,7,8]])"
      ],
      "metadata": {
        "id": "LJ3Pdlm85ItA"
      },
      "execution_count": null,
      "outputs": []
    },
    {
      "cell_type": "code",
      "source": [
        "\n",
        "df.show()"
      ],
      "metadata": {
        "colab": {
          "base_uri": "https://localhost:8080/"
        },
        "id": "wAGdwBTB5ewP",
        "outputId": "2245440d-afd2-4442-fab0-93a79384c361"
      },
      "execution_count": null,
      "outputs": [
        {
          "output_type": "stream",
          "name": "stdout",
          "text": [
            "+---+---+---+---+\n",
            "| _1| _2| _3| _4|\n",
            "+---+---+---+---+\n",
            "|  1|  2|  3|  4|\n",
            "|  5|  6|  7|  8|\n",
            "+---+---+---+---+\n",
            "\n"
          ]
        }
      ]
    },
    {
      "cell_type": "code",
      "source": [
        "type(df)"
      ],
      "metadata": {
        "colab": {
          "base_uri": "https://localhost:8080/"
        },
        "id": "m_ENW1BE5ifs",
        "outputId": "548bafa9-0e86-4fe9-829f-57c124f90d61"
      },
      "execution_count": null,
      "outputs": [
        {
          "output_type": "execute_result",
          "data": {
            "text/plain": [
              "pyspark.sql.dataframe.DataFrame"
            ]
          },
          "metadata": {},
          "execution_count": 6
        }
      ]
    },
    {
      "cell_type": "code",
      "source": [
        "df = spark.read.format(\"csv\").load(\"/content/machine-readable-business-employment-data-sep-2023-quarter.csv\")"
      ],
      "metadata": {
        "id": "_XqIb62l9PSN"
      },
      "execution_count": null,
      "outputs": []
    },
    {
      "cell_type": "code",
      "source": [
        "\n",
        "df.show(5)"
      ],
      "metadata": {
        "colab": {
          "base_uri": "https://localhost:8080/"
        },
        "id": "FputvzSz9Vj0",
        "outputId": "94bf6850-134b-4270-9198-7230080e605f"
      },
      "execution_count": null,
      "outputs": [
        {
          "output_type": "stream",
          "name": "stdout",
          "text": [
            "+----------------+-------+----------+----------+------+------+---------+--------------------+--------------------+--------------+--------------------+--------------+--------------+--------------+\n",
            "|             _c0|    _c1|       _c2|       _c3|   _c4|   _c5|      _c6|                 _c7|                 _c8|           _c9|                _c10|          _c11|          _c12|          _c13|\n",
            "+----------------+-------+----------+----------+------+------+---------+--------------------+--------------------+--------------+--------------------+--------------+--------------+--------------+\n",
            "|Series_reference| Period|Data_value|Suppressed|STATUS| UNITS|Magnitude|             Subject|               Group|Series_title_1|      Series_title_2|Series_title_3|Series_title_4|Series_title_5|\n",
            "|     BDCQ.SEA1AA|2011.06|     80078|      null|     F|Number|        0|Business Data Col...|Industry by emplo...|   Filled jobs|Agriculture, Fore...|        Actual|          null|          null|\n",
            "|     BDCQ.SEA1AA|2011.09|     78324|      null|     F|Number|        0|Business Data Col...|Industry by emplo...|   Filled jobs|Agriculture, Fore...|        Actual|          null|          null|\n",
            "|     BDCQ.SEA1AA|2011.12|     85850|      null|     F|Number|        0|Business Data Col...|Industry by emplo...|   Filled jobs|Agriculture, Fore...|        Actual|          null|          null|\n",
            "|     BDCQ.SEA1AA|2012.03|     90743|      null|     F|Number|        0|Business Data Col...|Industry by emplo...|   Filled jobs|Agriculture, Fore...|        Actual|          null|          null|\n",
            "+----------------+-------+----------+----------+------+------+---------+--------------------+--------------------+--------------+--------------------+--------------+--------------+--------------+\n",
            "only showing top 5 rows\n",
            "\n"
          ]
        }
      ]
    },
    {
      "cell_type": "code",
      "source": [
        "df = spark.read.format(\"csv\").option(\"header\",\"true\").load(\"/content/machine-readable-business-employment-data-sep-2023-quarter.csv\")"
      ],
      "metadata": {
        "id": "1gVrPM9X9cGm"
      },
      "execution_count": null,
      "outputs": []
    },
    {
      "cell_type": "code",
      "source": [
        "df.show(5)"
      ],
      "metadata": {
        "colab": {
          "base_uri": "https://localhost:8080/"
        },
        "id": "4j65GXfi-c9s",
        "outputId": "673c3d13-9d08-4878-eca1-d96fb515cb79"
      },
      "execution_count": null,
      "outputs": [
        {
          "output_type": "stream",
          "name": "stdout",
          "text": [
            "+----------------+-------+----------+----------+------+------+---------+--------------------+--------------------+--------------+--------------------+--------------+--------------+--------------+\n",
            "|Series_reference| Period|Data_value|Suppressed|STATUS| UNITS|Magnitude|             Subject|               Group|Series_title_1|      Series_title_2|Series_title_3|Series_title_4|Series_title_5|\n",
            "+----------------+-------+----------+----------+------+------+---------+--------------------+--------------------+--------------+--------------------+--------------+--------------+--------------+\n",
            "|     BDCQ.SEA1AA|2011.06|     80078|      null|     F|Number|        0|Business Data Col...|Industry by emplo...|   Filled jobs|Agriculture, Fore...|        Actual|          null|          null|\n",
            "|     BDCQ.SEA1AA|2011.09|     78324|      null|     F|Number|        0|Business Data Col...|Industry by emplo...|   Filled jobs|Agriculture, Fore...|        Actual|          null|          null|\n",
            "|     BDCQ.SEA1AA|2011.12|     85850|      null|     F|Number|        0|Business Data Col...|Industry by emplo...|   Filled jobs|Agriculture, Fore...|        Actual|          null|          null|\n",
            "|     BDCQ.SEA1AA|2012.03|     90743|      null|     F|Number|        0|Business Data Col...|Industry by emplo...|   Filled jobs|Agriculture, Fore...|        Actual|          null|          null|\n",
            "|     BDCQ.SEA1AA|2012.06|     81780|      null|     F|Number|        0|Business Data Col...|Industry by emplo...|   Filled jobs|Agriculture, Fore...|        Actual|          null|          null|\n",
            "+----------------+-------+----------+----------+------+------+---------+--------------------+--------------------+--------------+--------------------+--------------+--------------+--------------+\n",
            "only showing top 5 rows\n",
            "\n"
          ]
        }
      ]
    },
    {
      "cell_type": "code",
      "source": [
        "df = spark.read.format(\"csv\").option(\"header\",\"true\").load(\"/content/machine-readable-business-employment-data-sep-2023-quarter.csv\")"
      ],
      "metadata": {
        "id": "fblNg19E-0-h"
      },
      "execution_count": null,
      "outputs": []
    },
    {
      "cell_type": "code",
      "source": [
        "\n",
        "df.show(5)"
      ],
      "metadata": {
        "colab": {
          "base_uri": "https://localhost:8080/"
        },
        "id": "_ftXNgqA-2vX",
        "outputId": "a9dc9369-8f0e-4dff-dab8-74ac4788170f"
      },
      "execution_count": null,
      "outputs": [
        {
          "output_type": "stream",
          "name": "stdout",
          "text": [
            "+----------------+-------+----------+----------+------+------+---------+--------------------+--------------------+--------------+--------------------+--------------+--------------+--------------+\n",
            "|Series_reference| Period|Data_value|Suppressed|STATUS| UNITS|Magnitude|             Subject|               Group|Series_title_1|      Series_title_2|Series_title_3|Series_title_4|Series_title_5|\n",
            "+----------------+-------+----------+----------+------+------+---------+--------------------+--------------------+--------------+--------------------+--------------+--------------+--------------+\n",
            "|     BDCQ.SEA1AA|2011.06|     80078|      null|     F|Number|        0|Business Data Col...|Industry by emplo...|   Filled jobs|Agriculture, Fore...|        Actual|          null|          null|\n",
            "|     BDCQ.SEA1AA|2011.09|     78324|      null|     F|Number|        0|Business Data Col...|Industry by emplo...|   Filled jobs|Agriculture, Fore...|        Actual|          null|          null|\n",
            "|     BDCQ.SEA1AA|2011.12|     85850|      null|     F|Number|        0|Business Data Col...|Industry by emplo...|   Filled jobs|Agriculture, Fore...|        Actual|          null|          null|\n",
            "|     BDCQ.SEA1AA|2012.03|     90743|      null|     F|Number|        0|Business Data Col...|Industry by emplo...|   Filled jobs|Agriculture, Fore...|        Actual|          null|          null|\n",
            "|     BDCQ.SEA1AA|2012.06|     81780|      null|     F|Number|        0|Business Data Col...|Industry by emplo...|   Filled jobs|Agriculture, Fore...|        Actual|          null|          null|\n",
            "+----------------+-------+----------+----------+------+------+---------+--------------------+--------------------+--------------+--------------------+--------------+--------------+--------------+\n",
            "only showing top 5 rows\n",
            "\n"
          ]
        }
      ]
    },
    {
      "cell_type": "code",
      "source": [],
      "metadata": {
        "id": "ZH94YOmfdii6"
      },
      "execution_count": null,
      "outputs": []
    },
    {
      "cell_type": "code",
      "source": [
        "t_df = spark.read.format(\"csv\").option(\"delimiter\",\"|\").option(\"header\",\"true\").load(\"/content/sample.txt\")"
      ],
      "metadata": {
        "id": "KiK7-SB19U57"
      },
      "execution_count": null,
      "outputs": []
    },
    {
      "cell_type": "code",
      "source": [
        "t_df.show()"
      ],
      "metadata": {
        "colab": {
          "base_uri": "https://localhost:8080/"
        },
        "id": "wvn_AJiP9qLz",
        "outputId": "03fc327a-5ab7-4fb5-a12e-92f697c7d623"
      },
      "execution_count": null,
      "outputs": [
        {
          "output_type": "stream",
          "name": "stdout",
          "text": [
            "+---------+-------+----+\n",
            "|     Name|Surname|  Id|\n",
            "+---------+-------+----+\n",
            "|     Neel| Madhab|6281|\n",
            "|   Rahuul|  kumar|6262|\n",
            "|Neelkamal|    Roy|6280|\n",
            "|    Magar|   Sani|6290|\n",
            "|  Badshah|      K|6284|\n",
            "|    Kiran|    Das|6261|\n",
            "+---------+-------+----+\n",
            "\n"
          ]
        }
      ]
    },
    {
      "cell_type": "code",
      "source": [
        "t_df.printSchema()"
      ],
      "metadata": {
        "colab": {
          "base_uri": "https://localhost:8080/"
        },
        "id": "Ald08VVF-XYh",
        "outputId": "6380d782-b8f9-4697-fac9-e92772a197ec"
      },
      "execution_count": null,
      "outputs": [
        {
          "output_type": "stream",
          "name": "stdout",
          "text": [
            "root\n",
            " |-- Name: string (nullable = true)\n",
            " |-- Surname: string (nullable = true)\n",
            " |-- Id: string (nullable = true)\n",
            "\n"
          ]
        }
      ]
    },
    {
      "cell_type": "code",
      "source": [
        "df2 = t_df.withColumn(\"Name\",t_df[\"Name\"] .cast('Varchar(20)')).withColumn(\"Id\",t_df[\"Id\"] .cast('integer'))"
      ],
      "metadata": {
        "id": "v8VANXtL9yyE"
      },
      "execution_count": null,
      "outputs": []
    },
    {
      "cell_type": "code",
      "source": [
        "df2.printSchema()"
      ],
      "metadata": {
        "colab": {
          "base_uri": "https://localhost:8080/"
        },
        "id": "4sfTa4es-TMV",
        "outputId": "87609a49-75ba-430a-9e9b-76096419141c"
      },
      "execution_count": null,
      "outputs": [
        {
          "output_type": "stream",
          "name": "stdout",
          "text": [
            "root\n",
            " |-- Name: string (nullable = true)\n",
            " |-- Surname: string (nullable = true)\n",
            " |-- Id: integer (nullable = true)\n",
            "\n"
          ]
        }
      ]
    },
    {
      "cell_type": "markdown",
      "source": [
        "As you can see, when multiline=false, PySpark reads the entire file as a single JSON object and stores it in a column named _corrupt_record, because the data is not formatted correctly for this setting. This is why it's important to choose the appropriate value for the multiline option based on the structure of your JSON data."
      ],
      "metadata": {
        "id": "2D5tFfH2ZljA"
      }
    },
    {
      "cell_type": "code",
      "source": [
        "json_df2 = spark.read.format(\"JSON\").option(\"MULTILINE\",True).load(\"/content/sample4.json\")"
      ],
      "metadata": {
        "id": "E8l3028VYg6t"
      },
      "execution_count": null,
      "outputs": []
    },
    {
      "cell_type": "code",
      "source": [
        "json_df2.show(5)"
      ],
      "metadata": {
        "colab": {
          "base_uri": "https://localhost:8080/"
        },
        "id": "pzFyK9dxY8Lz",
        "outputId": "7090f89b-ce59-47e6-8213-cb27d835ad1c"
      },
      "execution_count": null,
      "outputs": [
        {
          "output_type": "stream",
          "name": "stdout",
          "text": [
            "+--------------------+\n",
            "|              people|\n",
            "+--------------------+\n",
            "|[{28, Joe, male, ...|\n",
            "+--------------------+\n",
            "\n"
          ]
        }
      ]
    },
    {
      "cell_type": "code",
      "source": [
        "json_df2 = spark.read.format(\"JSON\").option(\"MULTILINE\",True).load(\"/content/sample1.json\")"
      ],
      "metadata": {
        "id": "DScPK4mlZ7Yo"
      },
      "execution_count": null,
      "outputs": []
    },
    {
      "cell_type": "code",
      "source": [
        "json_df2.show()"
      ],
      "metadata": {
        "id": "qGDbgytfaAos",
        "outputId": "a8865526-7db8-4fe0-b8ca-71c23dfc5826",
        "colab": {
          "base_uri": "https://localhost:8080/"
        }
      },
      "execution_count": null,
      "outputs": [
        {
          "output_type": "stream",
          "name": "stdout",
          "text": [
            "+-----+-----+-----+\n",
            "|color|fruit| size|\n",
            "+-----+-----+-----+\n",
            "|  Red|Apple|Large|\n",
            "+-----+-----+-----+\n",
            "\n"
          ]
        }
      ]
    },
    {
      "cell_type": "code",
      "source": [
        "from re import MULTILINE\n",
        "readjson=spark.read.options(MULTILINE=True).json('sample4.json')\n"
      ],
      "metadata": {
        "id": "XvnPayZAX4xC"
      },
      "execution_count": null,
      "outputs": []
    },
    {
      "cell_type": "code",
      "source": [
        "readjson.show()"
      ],
      "metadata": {
        "colab": {
          "base_uri": "https://localhost:8080/"
        },
        "id": "Pn46vyQ3X6Z2",
        "outputId": "98808558-5d37-4a05-ea4e-c239ba73bd66"
      },
      "execution_count": null,
      "outputs": [
        {
          "output_type": "stream",
          "name": "stdout",
          "text": [
            "+---+---------+------+--------+----------+\n",
            "|age|firstName|gender|lastName|    number|\n",
            "+---+---------+------+--------+----------+\n",
            "| 28|      Joe|  male| Jackson|7349282382|\n",
            "+---+---------+------+--------+----------+\n",
            "\n"
          ]
        }
      ]
    },
    {
      "cell_type": "code",
      "source": [
        "readjson.printSchema()"
      ],
      "metadata": {
        "colab": {
          "base_uri": "https://localhost:8080/"
        },
        "id": "8vOp1kfYX7jq",
        "outputId": "28cf6ae5-3ce1-4fa1-a748-50c6d41c3787"
      },
      "execution_count": null,
      "outputs": [
        {
          "output_type": "stream",
          "name": "stdout",
          "text": [
            "root\n",
            " |-- age: long (nullable = true)\n",
            " |-- firstName: string (nullable = true)\n",
            " |-- gender: string (nullable = true)\n",
            " |-- lastName: string (nullable = true)\n",
            " |-- number: string (nullable = true)\n",
            "\n"
          ]
        }
      ]
    },
    {
      "cell_type": "markdown",
      "source": [
        "#21 Feburary"
      ],
      "metadata": {
        "id": "Vis5fKhnY881"
      }
    },
    {
      "cell_type": "code",
      "source": [
        "read_df=spark.read.options(Delimiter='|',header='True',inferschema=True).csv('/content/file.csv.txt')\n",
        "read_df.show()\n",
        "# OUR DATA IS SEPERATED BY '|' SO THE DELIMITER IS '|'\n",
        "# HEADER IS TRUE, SO THAT IT WILL TAKE FIRST ROW AS A COLUMN FOR THE DATAFRAME\n",
        "# INFERSCHEMA IS TRUE, SO IT WILL TAKE THE EXACT DATATYPE WHICH IS PROVIDED BY US. OR ELSE BY DEFAULT EVERYTHING IS STRING"
      ],
      "metadata": {
        "colab": {
          "base_uri": "https://localhost:8080/"
        },
        "id": "zIy9ot1mZDK4",
        "outputId": "9e7716f7-570f-4099-deb5-6063fc5193a5"
      },
      "execution_count": null,
      "outputs": [
        {
          "output_type": "stream",
          "name": "stdout",
          "text": [
            "+------------+------------+----+-------+\n",
            "|Country Name|Country Code|Year|Value  |\n",
            "+------------+------------+----+-------+\n",
            "|       India|        In01|2000|     90|\n",
            "|         USA|        US03|2001|     18|\n",
            "|       China|        ch07|1999|     78|\n",
            "|       Japan|       jap82|2005|     45|\n",
            "|       Saudi|       sau81|2003|     56|\n",
            "+------------+------------+----+-------+\n",
            "\n"
          ]
        }
      ]
    },
    {
      "cell_type": "code",
      "source": [
        "read_df.printSchema()"
      ],
      "metadata": {
        "colab": {
          "base_uri": "https://localhost:8080/"
        },
        "id": "BZQSrhE0Zp3Q",
        "outputId": "70b85722-a8f9-4ffd-a183-9b502a271ebd"
      },
      "execution_count": null,
      "outputs": [
        {
          "output_type": "stream",
          "name": "stdout",
          "text": [
            "root\n",
            " |-- Country Name: string (nullable = true)\n",
            " |-- Country Code: string (nullable = true)\n",
            " |-- Year: integer (nullable = true)\n",
            " |-- Value  : integer (nullable = true)\n",
            "\n"
          ]
        }
      ]
    },
    {
      "cell_type": "code",
      "source": [
        "read_df.columns\n",
        "# TO GET ALL THE COLUMNS IN OUR DATAFRAME"
      ],
      "metadata": {
        "colab": {
          "base_uri": "https://localhost:8080/"
        },
        "id": "boGDlLmZZtMY",
        "outputId": "959515bd-caef-41b9-fcbe-e68ea3ed9271"
      },
      "execution_count": null,
      "outputs": [
        {
          "output_type": "execute_result",
          "data": {
            "text/plain": [
              "['Country Name', 'Country Code', 'Year', 'Value  ']"
            ]
          },
          "metadata": {},
          "execution_count": 5
        }
      ]
    },
    {
      "cell_type": "code",
      "source": [
        "read_df.dropDuplicates().show()\n",
        "# TO DROP THE DUPLICATES FROM THE DATA"
      ],
      "metadata": {
        "colab": {
          "base_uri": "https://localhost:8080/"
        },
        "id": "EaFafbkgZvw8",
        "outputId": "75c21059-3e98-4f38-dddf-052528030b93"
      },
      "execution_count": null,
      "outputs": [
        {
          "output_type": "stream",
          "name": "stdout",
          "text": [
            "+------------+------------+----+-------+\n",
            "|Country Name|Country Code|Year|Value  |\n",
            "+------------+------------+----+-------+\n",
            "|       India|        In01|2000|     90|\n",
            "|       China|        ch08|1599|     34|\n",
            "|       China|        ch07|1999|     78|\n",
            "|       Japan|       jap82|2005|     45|\n",
            "|       Saudi|       sau81|2003|     56|\n",
            "|         USA|        US03|2001|     18|\n",
            "+------------+------------+----+-------+\n",
            "\n"
          ]
        }
      ]
    },
    {
      "cell_type": "code",
      "source": [
        "# TO GET THE DUPLICATES DATA ONLY\n",
        "read_df.exceptAll(read_df.distinct()).show()"
      ],
      "metadata": {
        "colab": {
          "base_uri": "https://localhost:8080/"
        },
        "id": "2GZaz6TiaMpO",
        "outputId": "db7efb09-0e13-4c05-aa06-e87d0260437d"
      },
      "execution_count": null,
      "outputs": [
        {
          "output_type": "stream",
          "name": "stdout",
          "text": [
            "+------------+------------+----+-------+\n",
            "|Country Name|Country Code|Year|Value  |\n",
            "+------------+------------+----+-------+\n",
            "|       Saudi|       sau81|2003|     56|\n",
            "|       Saudi|       sau81|2003|     56|\n",
            "+------------+------------+----+-------+\n",
            "\n"
          ]
        }
      ]
    },
    {
      "cell_type": "code",
      "source": [
        "from pyspark.sql.functions import col\n",
        "read_df.filter(col('Country Name') == 'India').show()\n",
        "# USE FILTER TO GET THE COLUMN 'COUNTRY NAME' WHICH IS 'INDIA' ONLY"
      ],
      "metadata": {
        "colab": {
          "base_uri": "https://localhost:8080/"
        },
        "id": "UdZN64i5Z1kc",
        "outputId": "45d3d6db-3204-4619-aa36-ca1efac5cf2b"
      },
      "execution_count": null,
      "outputs": [
        {
          "output_type": "stream",
          "name": "stdout",
          "text": [
            "+------------+------------+----+-------+\n",
            "|Country Name|Country Code|Year|Value  |\n",
            "+------------+------------+----+-------+\n",
            "|       India|        In01|2000|     90|\n",
            "+------------+------------+----+-------+\n",
            "\n"
          ]
        }
      ]
    },
    {
      "cell_type": "code",
      "source": [
        "read_df.filter((col('Country Name') == 'India') | (col('Year') == '2001')).show()\n",
        "# USE THE FILTER TO GET THE COLUMN WHICH IS 'COUNTRY NAME' OR THE 'YEAR' IS '2001'"
      ],
      "metadata": {
        "colab": {
          "base_uri": "https://localhost:8080/"
        },
        "id": "vBhaR1CdZ2i6",
        "outputId": "5293b9dc-db4a-4f7d-858b-c36eac0e1c2f"
      },
      "execution_count": null,
      "outputs": [
        {
          "output_type": "stream",
          "name": "stdout",
          "text": [
            "+------------+------------+----+-------+\n",
            "|Country Name|Country Code|Year|Value  |\n",
            "+------------+------------+----+-------+\n",
            "|       India|        In01|2000|     90|\n",
            "|         USA|        US03|2001|     18|\n",
            "+------------+------------+----+-------+\n",
            "\n"
          ]
        }
      ]
    },
    {
      "cell_type": "code",
      "source": [
        "#SELECT\n",
        "read_df.select('Country Code','Value  ').show()"
      ],
      "metadata": {
        "colab": {
          "base_uri": "https://localhost:8080/"
        },
        "id": "aysH2ai5Z5Ay",
        "outputId": "3ddebfe5-dfe1-49fe-fa21-42ad6ab19c75"
      },
      "execution_count": null,
      "outputs": [
        {
          "output_type": "stream",
          "name": "stdout",
          "text": [
            "+------------+-------+\n",
            "|Country Code|Value  |\n",
            "+------------+-------+\n",
            "|        In01|     90|\n",
            "|        US03|     18|\n",
            "|        ch07|     78|\n",
            "|       jap82|     45|\n",
            "|       sau81|     56|\n",
            "|       sau81|     56|\n",
            "|       sau81|     56|\n",
            "|        ch08|     34|\n",
            "+------------+-------+\n",
            "\n"
          ]
        }
      ]
    },
    {
      "cell_type": "code",
      "source": [
        "#ORDERBY\n",
        "read_df.orderBy('Value  ').show()"
      ],
      "metadata": {
        "colab": {
          "base_uri": "https://localhost:8080/"
        },
        "id": "VQUwJHsCZ_Jn",
        "outputId": "ed03e062-7c19-4313-fd2e-e02bd2511813"
      },
      "execution_count": null,
      "outputs": [
        {
          "output_type": "stream",
          "name": "stdout",
          "text": [
            "+------------+------------+----+-------+\n",
            "|Country Name|Country Code|Year|Value  |\n",
            "+------------+------------+----+-------+\n",
            "|         USA|        US03|2001|     18|\n",
            "|       China|        ch08|1599|     34|\n",
            "|       Japan|       jap82|2005|     45|\n",
            "|       Saudi|       sau81|2003|     56|\n",
            "|       Saudi|       sau81|2003|     56|\n",
            "|       Saudi|       sau81|2003|     56|\n",
            "|       China|        ch07|1999|     78|\n",
            "|       India|        In01|2000|     90|\n",
            "+------------+------------+----+-------+\n",
            "\n"
          ]
        }
      ]
    },
    {
      "cell_type": "code",
      "source": [
        "read_df.select('Value  ').orderBy('Value  ').show()"
      ],
      "metadata": {
        "colab": {
          "base_uri": "https://localhost:8080/"
        },
        "id": "I9-I0AQYaGXl",
        "outputId": "9f92434d-5986-4688-8133-a6010a58788e"
      },
      "execution_count": null,
      "outputs": [
        {
          "output_type": "stream",
          "name": "stdout",
          "text": [
            "+-------+\n",
            "|Value  |\n",
            "+-------+\n",
            "|     18|\n",
            "|     34|\n",
            "|     45|\n",
            "|     56|\n",
            "|     56|\n",
            "|     56|\n",
            "|     78|\n",
            "|     90|\n",
            "+-------+\n",
            "\n"
          ]
        }
      ]
    },
    {
      "cell_type": "code",
      "source": [
        "read_df.groupBy(\"Country Name\").count().orderBy('count').show()\n",
        "# GROUP BY FUNCTION TO COUNT HOW MANY TIMES A COUNTRY NAME APPEARED in ASEC order"
      ],
      "metadata": {
        "colab": {
          "base_uri": "https://localhost:8080/"
        },
        "id": "nEPhQPnDbjrl",
        "outputId": "534dd9b3-5971-4da0-cc31-6a7dd3dd2ef9"
      },
      "execution_count": null,
      "outputs": [
        {
          "output_type": "stream",
          "name": "stdout",
          "text": [
            "+------------+-----+\n",
            "|Country Name|count|\n",
            "+------------+-----+\n",
            "|         USA|    1|\n",
            "|       Japan|    1|\n",
            "|       India|    1|\n",
            "|       China|    2|\n",
            "|       Saudi|    3|\n",
            "+------------+-----+\n",
            "\n"
          ]
        }
      ]
    },
    {
      "cell_type": "code",
      "source": [
        "from pyspark.sql.functions import *"
      ],
      "metadata": {
        "id": "kSNrEKj-bkRP"
      },
      "execution_count": null,
      "outputs": []
    },
    {
      "cell_type": "code",
      "source": [
        "read_df.select(max(\"Value  \"),'Country Name').show()\n",
        "####### WANNA SHOW THE COUNTRY NAME WHO HAS THE MAXIMUM VALUE !!!!! ERROR ########"
      ],
      "metadata": {
        "colab": {
          "base_uri": "https://localhost:8080/",
          "height": 109
        },
        "id": "CHxXkUjgbkVk",
        "outputId": "5b109783-f1f2-4ab3-cb37-a6c6304d96a0"
      },
      "execution_count": null,
      "outputs": [
        {
          "output_type": "error",
          "ename": "SyntaxError",
          "evalue": "invalid syntax. Perhaps you forgot a comma? (<ipython-input-28-9454982e1f52>, line 1)",
          "traceback": [
            "\u001b[0;36m  File \u001b[0;32m\"<ipython-input-28-9454982e1f52>\"\u001b[0;36m, line \u001b[0;32m1\u001b[0m\n\u001b[0;31m    read_df.select(max(\"Value  \") AS 'max_value','Country Name').show()\u001b[0m\n\u001b[0m                   ^\u001b[0m\n\u001b[0;31mSyntaxError\u001b[0m\u001b[0;31m:\u001b[0m invalid syntax. Perhaps you forgot a comma?\n"
          ]
        }
      ]
    },
    {
      "cell_type": "code",
      "source": [
        "read_df.select(count('Country Name').alias('Count_Cont_Name')).show()\n",
        "# COUNT THE NUMBER OF ENTRIES IN THE COLUMN NAME 'Country Name' WITH USING ALIAS"
      ],
      "metadata": {
        "colab": {
          "base_uri": "https://localhost:8080/"
        },
        "id": "xS3wZBIUbkZg",
        "outputId": "3af1e131-413b-455d-e623-01ceb80313cf"
      },
      "execution_count": null,
      "outputs": [
        {
          "output_type": "stream",
          "name": "stdout",
          "text": [
            "+---------------+\n",
            "|Count_Cont_Name|\n",
            "+---------------+\n",
            "|              8|\n",
            "+---------------+\n",
            "\n"
          ]
        }
      ]
    },
    {
      "cell_type": "code",
      "source": [
        "read_df.select(count('Country Name')).distinct().show()\n",
        "########### WANNA SHOW THE COUNT OF DISTINCT ELEMENT ONLY !!!!!! ERROR ########"
      ],
      "metadata": {
        "colab": {
          "base_uri": "https://localhost:8080/",
          "height": 146
        },
        "id": "gMnwT-LVbkdV",
        "outputId": "94b83b7f-86ea-4c4b-debb-646bd9730da8"
      },
      "execution_count": null,
      "outputs": [
        {
          "output_type": "error",
          "ename": "TypeError",
          "evalue": "'Column' object is not callable",
          "traceback": [
            "\u001b[0;31m---------------------------------------------------------------------------\u001b[0m",
            "\u001b[0;31mTypeError\u001b[0m                                 Traceback (most recent call last)",
            "\u001b[0;32m<ipython-input-39-3bf3dbe671ec>\u001b[0m in \u001b[0;36m<cell line: 1>\u001b[0;34m()\u001b[0m\n\u001b[0;32m----> 1\u001b[0;31m \u001b[0mread_df\u001b[0m\u001b[0;34m.\u001b[0m\u001b[0mselect\u001b[0m\u001b[0;34m(\u001b[0m\u001b[0mcount\u001b[0m\u001b[0;34m(\u001b[0m\u001b[0;34m'Country Name'\u001b[0m\u001b[0;34m)\u001b[0m\u001b[0;34m.\u001b[0m\u001b[0mdistinct\u001b[0m\u001b[0;34m(\u001b[0m\u001b[0;34m)\u001b[0m\u001b[0;34m)\u001b[0m\u001b[0;34m.\u001b[0m\u001b[0mshow\u001b[0m\u001b[0;34m(\u001b[0m\u001b[0;34m)\u001b[0m\u001b[0;34m\u001b[0m\u001b[0;34m\u001b[0m\u001b[0m\n\u001b[0m",
            "\u001b[0;31mTypeError\u001b[0m: 'Column' object is not callable"
          ]
        }
      ]
    },
    {
      "cell_type": "code",
      "source": [
        "read_df.select(avg('Value  ')).show()\n",
        "# TO GET THE AVERAGE VALUE"
      ],
      "metadata": {
        "colab": {
          "base_uri": "https://localhost:8080/"
        },
        "id": "9dwRVkqXfZdD",
        "outputId": "4aa956dd-01d5-4021-f300-5841fb967836"
      },
      "execution_count": null,
      "outputs": [
        {
          "output_type": "stream",
          "name": "stdout",
          "text": [
            "+------------+\n",
            "|avg(Value  )|\n",
            "+------------+\n",
            "|      54.125|\n",
            "+------------+\n",
            "\n"
          ]
        }
      ]
    },
    {
      "cell_type": "code",
      "source": [
        "read_df.groupBy('Country Name').sum().show()\n",
        "# USE GROUP BY TO PUT TOGETHER ALL THE SAME COUNTRY NAME AND ADDED THIER RESPECTIVE VALUES"
      ],
      "metadata": {
        "colab": {
          "base_uri": "https://localhost:8080/"
        },
        "id": "2um7gK31fZZm",
        "outputId": "1c848ac6-ac12-4119-af4b-4832c77df947"
      },
      "execution_count": null,
      "outputs": [
        {
          "output_type": "stream",
          "name": "stdout",
          "text": [
            "+------------+---------+------------+\n",
            "|Country Name|sum(Year)|sum(Value  )|\n",
            "+------------+---------+------------+\n",
            "|       India|     2000|          90|\n",
            "|       China|     3598|         112|\n",
            "|         USA|     2001|          18|\n",
            "|       Saudi|     6009|         168|\n",
            "|       Japan|     2005|          45|\n",
            "+------------+---------+------------+\n",
            "\n"
          ]
        }
      ]
    },
    {
      "cell_type": "code",
      "source": [
        "read_df.withColumnRenamed(\"Country Name\",\"Country\").withColumnRenamed(\"Value  \",\"Value\").show()\n",
        "# WITHCOLUMNRENAMED fxn WILL RENAME THE COLUMN NAME, AND BY USING MULTIPLE WITHCOLUMNRENAMED WE CAN RENAME MULTIPLE COLUMN NAME"
      ],
      "metadata": {
        "id": "301J60DhfZWG",
        "colab": {
          "base_uri": "https://localhost:8080/"
        },
        "outputId": "d7fc0fa7-6a5a-49e6-f913-95edc836ee3b"
      },
      "execution_count": null,
      "outputs": [
        {
          "output_type": "stream",
          "name": "stdout",
          "text": [
            "+-------+------------+----+-----+\n",
            "|Country|Country Code|Year|Value|\n",
            "+-------+------------+----+-----+\n",
            "|  India|        In01|2000|   90|\n",
            "|    USA|        US03|2001|   18|\n",
            "|  China|        ch07|1999|   78|\n",
            "|  Japan|       jap82|2005|   45|\n",
            "|  Saudi|       sau81|2003|   56|\n",
            "+-------+------------+----+-----+\n",
            "\n"
          ]
        }
      ]
    },
    {
      "cell_type": "code",
      "source": [
        "col_list = ['Cont Name','Cont Code','Year Cont Found','Value of Cont']\n",
        "read_df.toDF(*col_list).show()\n",
        "# RENAME MULTIPLE COLUMNS WITHOUT USING THE WITHCOLMNRENAMED FUNCTION\n",
        "#toDF returns a new dataframe with the column names we passed\n"
      ],
      "metadata": {
        "id": "H6t9Hai3fZSs",
        "colab": {
          "base_uri": "https://localhost:8080/"
        },
        "outputId": "31929fc8-bbb1-4317-e0c3-7fec52d04f30"
      },
      "execution_count": null,
      "outputs": [
        {
          "output_type": "stream",
          "name": "stdout",
          "text": [
            "+---------+---------+---------------+-------------+\n",
            "|Cont Name|Cont Code|Year Cont Found|Value of Cont|\n",
            "+---------+---------+---------------+-------------+\n",
            "|    India|     In01|           2000|           90|\n",
            "|      USA|     US03|           2001|           18|\n",
            "|    China|     ch07|           1999|           78|\n",
            "|    Japan|    jap82|           2005|           45|\n",
            "|    Saudi|    sau81|           2003|           56|\n",
            "+---------+---------+---------------+-------------+\n",
            "\n"
          ]
        }
      ]
    },
    {
      "cell_type": "code",
      "source": [
        "rdd1 = sc.parallelize(tx.split())"
      ],
      "metadata": {
        "id": "djX9W_8oemQl"
      },
      "execution_count": null,
      "outputs": []
    },
    {
      "cell_type": "code",
      "source": [
        "print(rdd1)"
      ],
      "metadata": {
        "colab": {
          "base_uri": "https://localhost:8080/"
        },
        "id": "v-KLkGTBfmKe",
        "outputId": "a7393a17-127e-4fc7-b963-5d4739649b92"
      },
      "execution_count": null,
      "outputs": [
        {
          "output_type": "stream",
          "name": "stdout",
          "text": [
            "ParallelCollectionRDD[33] at readRDDFromFile at PythonRDD.scala:274\n"
          ]
        }
      ]
    },
    {
      "cell_type": "code",
      "source": [
        "rdd1.collect()"
      ],
      "metadata": {
        "colab": {
          "base_uri": "https://localhost:8080/"
        },
        "id": "HvQgkUnYfqrs",
        "outputId": "548bb087-7b1c-4677-fbbe-0c704d9375c4"
      },
      "execution_count": null,
      "outputs": [
        {
          "output_type": "execute_result",
          "data": {
            "text/plain": [
              "['He',\n",
              " 'was',\n",
              " 'aware',\n",
              " 'there',\n",
              " 'were',\n",
              " 'numerous',\n",
              " 'wonders',\n",
              " 'of',\n",
              " 'this',\n",
              " 'world',\n",
              " 'including',\n",
              " 'the',\n",
              " 'unexplained',\n",
              " 'creations',\n",
              " 'of',\n",
              " 'humankind',\n",
              " 'that',\n",
              " 'showed',\n",
              " 'the',\n",
              " 'wonder',\n",
              " 'of',\n",
              " 'our',\n",
              " 'ingenuity.',\n",
              " 'There',\n",
              " 'are',\n",
              " 'huge',\n",
              " 'heads',\n",
              " 'on',\n",
              " 'Easter',\n",
              " 'Island.',\n",
              " 'There',\n",
              " 'are',\n",
              " 'the',\n",
              " 'Egyptian',\n",
              " 'pyramids.',\n",
              " 'There’s',\n",
              " 'Stonehenge.',\n",
              " 'But',\n",
              " 'he',\n",
              " 'now',\n",
              " 'stood',\n",
              " 'in',\n",
              " 'front',\n",
              " 'of',\n",
              " 'a',\n",
              " 'newly',\n",
              " 'discovered',\n",
              " 'monument',\n",
              " 'that',\n",
              " 'simply',\n",
              " \"didn't\",\n",
              " 'make',\n",
              " 'any',\n",
              " 'sense',\n",
              " 'and',\n",
              " 'he',\n",
              " 'wondered',\n",
              " 'how',\n",
              " 'he',\n",
              " 'was',\n",
              " 'ever',\n",
              " 'going',\n",
              " 'to',\n",
              " 'be',\n",
              " 'able',\n",
              " 'to',\n",
              " 'explain',\n",
              " 'it.']"
            ]
          },
          "metadata": {},
          "execution_count": 15
        }
      ]
    },
    {
      "cell_type": "code",
      "source": [
        "rdd2 = rdd1.map(lambda x: (x,1))"
      ],
      "metadata": {
        "id": "Srwe2JgFgFXG"
      },
      "execution_count": null,
      "outputs": []
    },
    {
      "cell_type": "code",
      "source": [
        "rdd2.collect()"
      ],
      "metadata": {
        "colab": {
          "base_uri": "https://localhost:8080/"
        },
        "id": "HHpyYDxwgucG",
        "outputId": "a097ef10-4d1b-41db-c3c4-882a23659720"
      },
      "execution_count": null,
      "outputs": [
        {
          "output_type": "execute_result",
          "data": {
            "text/plain": [
              "[('He', 1),\n",
              " ('was', 1),\n",
              " ('aware', 1),\n",
              " ('there', 1),\n",
              " ('were', 1),\n",
              " ('numerous', 1),\n",
              " ('wonders', 1),\n",
              " ('of', 1),\n",
              " ('this', 1),\n",
              " ('world', 1),\n",
              " ('including', 1),\n",
              " ('the', 1),\n",
              " ('unexplained', 1),\n",
              " ('creations', 1),\n",
              " ('of', 1),\n",
              " ('humankind', 1),\n",
              " ('that', 1),\n",
              " ('showed', 1),\n",
              " ('the', 1),\n",
              " ('wonder', 1),\n",
              " ('of', 1),\n",
              " ('our', 1),\n",
              " ('ingenuity.', 1),\n",
              " ('There', 1),\n",
              " ('are', 1),\n",
              " ('huge', 1),\n",
              " ('heads', 1),\n",
              " ('on', 1),\n",
              " ('Easter', 1),\n",
              " ('Island.', 1),\n",
              " ('There', 1),\n",
              " ('are', 1),\n",
              " ('the', 1),\n",
              " ('Egyptian', 1),\n",
              " ('pyramids.', 1),\n",
              " ('There’s', 1),\n",
              " ('Stonehenge.', 1),\n",
              " ('But', 1),\n",
              " ('he', 1),\n",
              " ('now', 1),\n",
              " ('stood', 1),\n",
              " ('in', 1),\n",
              " ('front', 1),\n",
              " ('of', 1),\n",
              " ('a', 1),\n",
              " ('newly', 1),\n",
              " ('discovered', 1),\n",
              " ('monument', 1),\n",
              " ('that', 1),\n",
              " ('simply', 1),\n",
              " (\"didn't\", 1),\n",
              " ('make', 1),\n",
              " ('any', 1),\n",
              " ('sense', 1),\n",
              " ('and', 1),\n",
              " ('he', 1),\n",
              " ('wondered', 1),\n",
              " ('how', 1),\n",
              " ('he', 1),\n",
              " ('was', 1),\n",
              " ('ever', 1),\n",
              " ('going', 1),\n",
              " ('to', 1),\n",
              " ('be', 1),\n",
              " ('able', 1),\n",
              " ('to', 1),\n",
              " ('explain', 1),\n",
              " ('it.', 1)]"
            ]
          },
          "metadata": {},
          "execution_count": 17
        }
      ]
    },
    {
      "cell_type": "code",
      "source": [
        "rdd3 = rdd2.reduceByKey(lambda a,b:a+b)\n",
        "rdd3.collect()"
      ],
      "metadata": {
        "colab": {
          "base_uri": "https://localhost:8080/"
        },
        "id": "rvEbi9v4jL8I",
        "outputId": "63f091bb-1b23-48bf-9161-eb6400fdb9c2"
      },
      "execution_count": null,
      "outputs": [
        {
          "output_type": "execute_result",
          "data": {
            "text/plain": [
              "[('was', 2),\n",
              " ('there', 1),\n",
              " ('wonders', 1),\n",
              " ('of', 4),\n",
              " ('this', 1),\n",
              " ('world', 1),\n",
              " ('unexplained', 1),\n",
              " ('showed', 1),\n",
              " ('wonder', 1),\n",
              " ('are', 2),\n",
              " ('huge', 1),\n",
              " ('Easter', 1),\n",
              " ('Island.', 1),\n",
              " ('Egyptian', 1),\n",
              " ('There’s', 1),\n",
              " ('Stonehenge.', 1),\n",
              " ('But', 1),\n",
              " ('he', 3),\n",
              " ('now', 1),\n",
              " ('stood', 1),\n",
              " ('in', 1),\n",
              " ('newly', 1),\n",
              " ('monument', 1),\n",
              " (\"didn't\", 1),\n",
              " ('make', 1),\n",
              " ('ever', 1),\n",
              " ('able', 1),\n",
              " ('it.', 1),\n",
              " ('He', 1),\n",
              " ('aware', 1),\n",
              " ('were', 1),\n",
              " ('numerous', 1),\n",
              " ('including', 1),\n",
              " ('the', 3),\n",
              " ('creations', 1),\n",
              " ('humankind', 1),\n",
              " ('that', 2),\n",
              " ('our', 1),\n",
              " ('ingenuity.', 1),\n",
              " ('There', 2),\n",
              " ('heads', 1),\n",
              " ('on', 1),\n",
              " ('pyramids.', 1),\n",
              " ('front', 1),\n",
              " ('a', 1),\n",
              " ('discovered', 1),\n",
              " ('simply', 1),\n",
              " ('any', 1),\n",
              " ('sense', 1),\n",
              " ('and', 1),\n",
              " ('wondered', 1),\n",
              " ('how', 1),\n",
              " ('going', 1),\n",
              " ('to', 2),\n",
              " ('be', 1),\n",
              " ('explain', 1)]"
            ]
          },
          "metadata": {},
          "execution_count": 18
        }
      ]
    },
    {
      "cell_type": "code",
      "source": [
        "rdd5 = rdd3.map(lambda x: (x[1],x[0])).sortByKey()\n",
        "rdd5.collect()"
      ],
      "metadata": {
        "colab": {
          "base_uri": "https://localhost:8080/"
        },
        "id": "gbCxha0LjUdC",
        "outputId": "c73a00d5-34cf-459d-d316-d9eb61b1911a"
      },
      "execution_count": null,
      "outputs": [
        {
          "output_type": "execute_result",
          "data": {
            "text/plain": [
              "[(1, 'there'),\n",
              " (1, 'wonders'),\n",
              " (1, 'this'),\n",
              " (1, 'world'),\n",
              " (1, 'unexplained'),\n",
              " (1, 'showed'),\n",
              " (1, 'wonder'),\n",
              " (1, 'huge'),\n",
              " (1, 'Easter'),\n",
              " (1, 'Island.'),\n",
              " (1, 'Egyptian'),\n",
              " (1, 'There’s'),\n",
              " (1, 'Stonehenge.'),\n",
              " (1, 'But'),\n",
              " (1, 'now'),\n",
              " (1, 'stood'),\n",
              " (1, 'in'),\n",
              " (1, 'newly'),\n",
              " (1, 'monument'),\n",
              " (1, \"didn't\"),\n",
              " (1, 'make'),\n",
              " (1, 'ever'),\n",
              " (1, 'able'),\n",
              " (1, 'it.'),\n",
              " (1, 'He'),\n",
              " (1, 'aware'),\n",
              " (1, 'were'),\n",
              " (1, 'numerous'),\n",
              " (1, 'including'),\n",
              " (1, 'creations'),\n",
              " (1, 'humankind'),\n",
              " (1, 'our'),\n",
              " (1, 'ingenuity.'),\n",
              " (1, 'heads'),\n",
              " (1, 'on'),\n",
              " (1, 'pyramids.'),\n",
              " (1, 'front'),\n",
              " (1, 'a'),\n",
              " (1, 'discovered'),\n",
              " (1, 'simply'),\n",
              " (1, 'any'),\n",
              " (1, 'sense'),\n",
              " (1, 'and'),\n",
              " (1, 'wondered'),\n",
              " (1, 'how'),\n",
              " (1, 'going'),\n",
              " (1, 'be'),\n",
              " (1, 'explain'),\n",
              " (2, 'was'),\n",
              " (2, 'are'),\n",
              " (2, 'that'),\n",
              " (2, 'There'),\n",
              " (2, 'to'),\n",
              " (3, 'he'),\n",
              " (3, 'the'),\n",
              " (4, 'of')]"
            ]
          },
          "metadata": {},
          "execution_count": 22
        }
      ]
    },
    {
      "cell_type": "code",
      "source": [
        "rdd6 = rdd5.filter(lambda x: 'T' in x[1])\n",
        "rdd6.collect()"
      ],
      "metadata": {
        "colab": {
          "base_uri": "https://localhost:8080/"
        },
        "id": "GLV7rQBsj52G",
        "outputId": "cb201392-ed62-44bf-ac97-171f735073d7"
      },
      "execution_count": null,
      "outputs": [
        {
          "output_type": "execute_result",
          "data": {
            "text/plain": [
              "[(1, 'There’s'), (2, 'There')]"
            ]
          },
          "metadata": {},
          "execution_count": 23
        }
      ]
    },
    {
      "cell_type": "code",
      "source": [],
      "metadata": {
        "id": "oyGnHdQSTm9V"
      },
      "execution_count": null,
      "outputs": []
    },
    {
      "cell_type": "code",
      "source": [],
      "metadata": {
        "id": "xqGLvFZzTnl6"
      },
      "execution_count": null,
      "outputs": []
    },
    {
      "cell_type": "code",
      "source": [],
      "metadata": {
        "id": "awo8rrktToFM"
      },
      "execution_count": null,
      "outputs": []
    },
    {
      "cell_type": "code",
      "source": [],
      "metadata": {
        "id": "O0h40MnNToS-"
      },
      "execution_count": null,
      "outputs": []
    },
    {
      "cell_type": "code",
      "source": [],
      "metadata": {
        "id": "onFSHmiaToba"
      },
      "execution_count": null,
      "outputs": []
    },
    {
      "cell_type": "code",
      "source": [],
      "metadata": {
        "id": "QflZb0J5ToiK"
      },
      "execution_count": null,
      "outputs": []
    },
    {
      "cell_type": "code",
      "source": [],
      "metadata": {
        "id": "USLySosXToq4"
      },
      "execution_count": null,
      "outputs": []
    }
  ]
}