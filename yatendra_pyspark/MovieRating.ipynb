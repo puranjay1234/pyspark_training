{
  "nbformat": 4,
  "nbformat_minor": 0,
  "metadata": {
    "colab": {
      "provenance": []
    },
    "kernelspec": {
      "name": "python3",
      "display_name": "Python 3"
    },
    "language_info": {
      "name": "python"
    }
  },
  "cells": [
    {
      "cell_type": "code",
      "execution_count": 1,
      "metadata": {
        "colab": {
          "base_uri": "https://localhost:8080/",
          "height": 219
        },
        "id": "gLF8vOhVLSv_",
        "outputId": "637e3e6a-50e2-42a3-b8bf-3ca28223d0dd"
      },
      "outputs": [
        {
          "output_type": "execute_result",
          "data": {
            "text/plain": [
              "<pyspark.sql.session.SparkSession at 0x798f457de290>"
            ],
            "text/html": [
              "\n",
              "            <div>\n",
              "                <p><b>SparkSession - in-memory</b></p>\n",
              "                \n",
              "        <div>\n",
              "            <p><b>SparkContext</b></p>\n",
              "\n",
              "            <p><a href=\"http://8ea52c1c7718:4040\">Spark UI</a></p>\n",
              "\n",
              "            <dl>\n",
              "              <dt>Version</dt>\n",
              "                <dd><code>v3.1.1</code></dd>\n",
              "              <dt>Master</dt>\n",
              "                <dd><code>local[*]</code></dd>\n",
              "              <dt>AppName</dt>\n",
              "                <dd><code>pyspark-shell</code></dd>\n",
              "            </dl>\n",
              "        </div>\n",
              "        \n",
              "            </div>\n",
              "        "
            ]
          },
          "metadata": {},
          "execution_count": 1
        }
      ],
      "source": [
        "!apt-get install openjdk-8-jdk-headless -qq > /dev/null\n",
        "!wget -q http://archive.apache.org/dist/spark/spark-3.1.1/spark-3.1.1-bin-hadoop3.2.tgz\n",
        "!tar xf spark-3.1.1-bin-hadoop3.2.tgz\n",
        "!pip install -q findspark\n",
        "import os\n",
        "os.environ[\"JAVA_HOME\"] = \"/usr/lib/jvm/java-8-openjdk-amd64\"\n",
        "os.environ[\"SPARK_HOME\"] = \"/content/spark-3.1.1-bin-hadoop3.2\"\n",
        "import findspark\n",
        "findspark.init()\n",
        "from pyspark.sql import SparkSession\n",
        "spark = SparkSession.builder.master(\"local[*]\").getOrCreate()\n",
        "spark"
      ]
    },
    {
      "cell_type": "markdown",
      "source": [
        "### DATA LOADING\n"
      ],
      "metadata": {
        "id": "dSnpVJm4Xhue"
      }
    },
    {
      "cell_type": "code",
      "source": [
        "from google.colab import drive\n",
        "drive.mount('/content/drive')\n",
        "dataset_path = '/content/drive/My Drive/Movies_dataset.csv'"
      ],
      "metadata": {
        "colab": {
          "base_uri": "https://localhost:8080/"
        },
        "id": "M4wooarrLVV2",
        "outputId": "99eeb921-491d-4f0d-edbd-d37110626a3b"
      },
      "execution_count": 2,
      "outputs": [
        {
          "output_type": "stream",
          "name": "stdout",
          "text": [
            "Drive already mounted at /content/drive; to attempt to forcibly remount, call drive.mount(\"/content/drive\", force_remount=True).\n"
          ]
        }
      ]
    },
    {
      "cell_type": "code",
      "source": [
        "data= spark.read.csv(dataset_path, header=True, inferSchema=True)\n",
        "data.show()\n",
        "data.printSchema()"
      ],
      "metadata": {
        "colab": {
          "base_uri": "https://localhost:8080/"
        },
        "id": "1o5beqSvMjMO",
        "outputId": "46848db5-139c-4daf-c5ca-a38bbe73820e"
      },
      "execution_count": 3,
      "outputs": [
        {
          "output_type": "stream",
          "name": "stdout",
          "text": [
            "+--------------------+-------------+------------+--------------------+--------+---------------+-----------------+-------+\n",
            "|          Movie_Name|Certification|Release_Date|              Genres|Language|         Budget|          Revenue|Runtime|\n",
            "+--------------------+-------------+------------+--------------------+--------+---------------+-----------------+-------+\n",
            "|Black Panther: Wa...|         PG13|  11/10/2022|['Action,', 'Adve...| English|$250,000,000.00|  $835,000,000.00|  162.0|\n",
            "|Puss in Boots: Th...|           PG|  12/08/2022|['Animation,', 'A...| English| $90,000,000.00|  $369,105,725.00|  103.0|\n",
            "|     Shotgun Wedding|            R|  12/28/2022|['Action,', 'Roma...| English|              -|    $4,495,365.00|  101.0|\n",
            "|               M3GAN|         PG13|  01/05/2023|['Science Fiction...| English| $12,000,000.00|  $158,000,000.00|  102.0|\n",
            "|         Transfusion|        MA15+|  01/05/2023|['Crime,', 'Thril...| English|              -|                -|  105.0|\n",
            "|Detective Knight:...|            R|  01/20/2023|['Action,', 'Thri...| English|              -|                -|   92.0|\n",
            "|              JUNG_E|         PG13|  01/20/2023|['Science Fiction...|Released|       Language|                -|   98.0|\n",
            "|Avatar: The Way o...|         PG13|  12/15/2022|['Science Fiction...| English|$460,000,000.00|$2,176,000,000.00|  192.0|\n",
            "|            Devotion|         PG13|  01/20/2023|['War,', 'History...| English| $90,000,000.00|   $20,000,000.00|  139.0|\n",
            "|    The Price We Pay|            R|  01/13/2023|['Action,', 'Thri...| English|              -|                -|   85.0|\n",
            "|     Kids vs. Aliens|           NR|  01/20/2023|['Science Fiction...| English|              -|                -|   75.0|\n",
            "|          Wolf Hound|            R|  06/03/2022|  ['War,', 'Action']| English|              -|                -|  127.0|\n",
            "|Glass Onion: A Kn...|         NC16|  12/23/2022|['Comedy,', 'Crim...| English| $40,000,000.00|   $13,280,000.00|  140.0|\n",
            "|          Black Adam|         PG13|  10/20/2022|['Fantasy,', 'Act...| English|$200,000,000.00|  $389,000,000.00|  125.0|\n",
            "|        The Enforcer|            R|  09/23/2022|['Action,', 'Thri...|Spanish;|         Budget|                -|   91.0|\n",
            "|Teen Wolf: The Movie|            R|  01/18/2023|['Action,', 'Fant...| English|              -|                -|  140.0|\n",
            "|        The Offering|            R|  01/13/2023|          ['Horror']| English|              -|                -|   93.0|\n",
            "|       Violent Night|          M18|  12/01/2022|['Action,', 'Come...| English| $20,000,000.00|   $73,000,000.00|  112.0|\n",
            "|             Babylon|          R21|  01/19/2023|['Drama,', 'Comedy']| English| $78,000,000.00|   $42,110,960.00|  189.0|\n",
            "|       Women in Fury|           18|  06/20/1985|['Action,', 'Drama']|    fuga|       Released|                -|   90.0|\n",
            "+--------------------+-------------+------------+--------------------+--------+---------------+-----------------+-------+\n",
            "only showing top 20 rows\n",
            "\n",
            "root\n",
            " |-- Movie_Name: string (nullable = true)\n",
            " |-- Certification: string (nullable = true)\n",
            " |-- Release_Date: string (nullable = true)\n",
            " |-- Genres: string (nullable = true)\n",
            " |-- Language: string (nullable = true)\n",
            " |-- Budget: string (nullable = true)\n",
            " |-- Revenue: string (nullable = true)\n",
            " |-- Runtime: double (nullable = true)\n",
            "\n"
          ]
        }
      ]
    },
    {
      "cell_type": "code",
      "source": [
        "from pyspark.sql.functions import regexp_replace, col ,to_date,split,trim\n",
        "\n",
        "# Converting Budget and Revenue to Integer\n",
        "data = data.withColumn(\"Budget\", regexp_replace(col(\"Budget\"), \"[\\$,]\", \"\"))\n",
        "data = data.withColumn(\"Revenue\", regexp_replace(col(\"Revenue\"), \"[\\$,]\", \"\"))\n",
        "\n",
        "# Converingt string columns to integer\n",
        "data = data.withColumn(\"Budget\", col(\"Budget\").cast(\"integer\"))\n",
        "data = data.withColumn(\"Revenue\", col(\"Revenue\").cast(\"integer\"))\n",
        "\n",
        "# converting release_date into date time\n",
        "data = data.withColumn(\"Release_Date\", to_date(\"Release_Date\", \"dd/mm/yyyy\"))\n",
        "\n",
        "data = data.withColumn(\"Genres\", regexp_replace(col(\"Genres\"), \"[\\[\\]']\", \"\")) \\\n",
        "           .withColumn(\"Genres\", regexp_replace(col(\"Genres\"), \"\\s*,\\s*\", \",\")) \\\n",
        "           .withColumn(\"Genres\", split(col(\"Genres\"), \",\"))\n",
        "\n",
        "#Convert Runtime to Minutes\n",
        "data = data.withColumn(\"Runtime\", col(\"Runtime\").cast(\"float\").cast(\"int\"))\n",
        "# updated DataFrame\n",
        "data.show(truncate =False)\n",
        "data.printSchema()"
      ],
      "metadata": {
        "colab": {
          "base_uri": "https://localhost:8080/"
        },
        "id": "_dVdMc7mMuES",
        "outputId": "0784d391-b6ab-4fa0-cf62-da67a8dc3dc6"
      },
      "execution_count": 4,
      "outputs": [
        {
          "output_type": "stream",
          "name": "stdout",
          "text": [
            "+---------------------------------+-------------+------------+-------------------------------------------------------+--------+---------+---------+-------+\n",
            "|Movie_Name                       |Certification|Release_Date|Genres                                                 |Language|Budget   |Revenue  |Runtime|\n",
            "+---------------------------------+-------------+------------+-------------------------------------------------------+--------+---------+---------+-------+\n",
            "|Black Panther: Wakanda Forever   |PG13         |2022-01-11  |[Action, , Adventure, , Science Fiction]               |English |250000000|835000000|162    |\n",
            "|Puss in Boots: The Last Wish     |PG           |2022-01-12  |[Animation, , Adventure, , Comedy, , Family, , Fantasy]|English |90000000 |369105725|103    |\n",
            "|Shotgun Wedding                  |R            |2022-01-12  |[Action, , Romance, , Comedy]                          |English |null     |4495365  |101    |\n",
            "|M3GAN                            |PG13         |2023-01-01  |[Science Fiction, , Horror, , Comedy]                  |English |12000000 |158000000|102    |\n",
            "|Transfusion                      |MA15+        |2023-01-01  |[Crime, , Thriller, , Drama]                           |English |null     |null     |105    |\n",
            "|Detective Knight: Independence   |R            |2023-01-01  |[Action, , Thriller, , Crime]                          |English |null     |null     |92     |\n",
            "|JUNG_E                           |PG13         |2023-01-01  |[Science Fiction, , Action, , Adventure]               |Released|null     |null     |98     |\n",
            "|Avatar: The Way of Water         |PG13         |2022-01-12  |[Science Fiction, , Adventure, , Action]               |English |460000000|null     |192    |\n",
            "|Devotion                         |PG13         |2023-01-01  |[War, , History, , Drama]                              |English |90000000 |20000000 |139    |\n",
            "|The Price We Pay                 |R            |2023-01-01  |[Action, , Thriller, , Mystery, , Crime, , Horror]     |English |null     |null     |85     |\n",
            "|Kids vs. Aliens                  |NR           |2023-01-01  |[Science Fiction, , Horror, , Adventure, , Action]     |English |null     |null     |75     |\n",
            "|Wolf Hound                       |R            |2022-01-06  |[War, , Action]                                        |English |null     |null     |127    |\n",
            "|Glass Onion: A Knives Out Mystery|NC16         |2022-01-12  |[Comedy, , Crime, , Mystery]                           |English |40000000 |13280000 |140    |\n",
            "|Black Adam                       |PG13         |2022-01-10  |[Fantasy, , Action, , Science Fiction]                 |English |200000000|389000000|125    |\n",
            "|The Enforcer                     |R            |2022-01-09  |[Action, , Thriller, , Drama]                          |Spanish;|null     |null     |91     |\n",
            "|Teen Wolf: The Movie             |R            |2023-01-01  |[Action, , Fantasy, , TV Movie]                        |English |null     |null     |140    |\n",
            "|The Offering                     |R            |2023-01-01  |[Horror]                                               |English |null     |null     |93     |\n",
            "|Violent Night                    |M18          |2022-01-12  |[Action, , Comedy, , Crime, , Thriller]                |English |20000000 |73000000 |112    |\n",
            "|Babylon                          |R21          |2023-01-01  |[Drama, , Comedy]                                      |English |78000000 |42110960 |189    |\n",
            "|Women in Fury                    |18           |1985-01-06  |[Action, , Drama]                                      |fuga    |null     |null     |90     |\n",
            "+---------------------------------+-------------+------------+-------------------------------------------------------+--------+---------+---------+-------+\n",
            "only showing top 20 rows\n",
            "\n",
            "root\n",
            " |-- Movie_Name: string (nullable = true)\n",
            " |-- Certification: string (nullable = true)\n",
            " |-- Release_Date: date (nullable = true)\n",
            " |-- Genres: array (nullable = true)\n",
            " |    |-- element: string (containsNull = true)\n",
            " |-- Language: string (nullable = true)\n",
            " |-- Budget: integer (nullable = true)\n",
            " |-- Revenue: integer (nullable = true)\n",
            " |-- Runtime: integer (nullable = true)\n",
            "\n"
          ]
        }
      ]
    },
    {
      "cell_type": "code",
      "source": [
        "from pyspark.sql.functions import explode, year, month\n",
        "from pyspark.sql.functions import *\n",
        "data_exploded = data.select(explode(\"Genres\").alias(\"Genre\"), \"Revenue\",\"Release_Date\").filter(col(\"Genre\")!=\"\")\n",
        "\n",
        "revenue_by_genre = data_exploded.groupBy(\"Genre\",year(\"Release_Date\").alias(\"Year\")).agg(sum(\"Revenue\").alias(\"Total_Revenue_by_Genre\")).orderBy(col(\"Total_Revenue_by_Genre\").desc())\n",
        "#revenue_by_genre.groupBy('Genre').agg(first('Year').alias('Year'),first('Total_Revenue_by_Genre').alias('Total_Revenue_by_Genre')).orderBy(desc('Total_Revenue_by_Genre')).show()\n",
        "\n",
        "top_10_genres = revenue_by_genre.groupBy(\"Genre\") \\\n",
        "                                     .agg(sum(\"Total_Revenue_by_Genre\").alias(\"Total_Revenue\")) \\\n",
        "                                     .orderBy(desc(\"Total_Revenue\")) \\\n",
        "                                     .limit(5) \\\n",
        "                                     .select(\"Genre\");\n",
        "\n",
        "  # Collect top 10 genres into a list\n",
        "top_10_genres_list = [row.Genre for row in top_10_genres.collect()]\n",
        "\n",
        "\n",
        "# Filter year-wise data for top 10 genres\n",
        "top_10_genres_data = revenue_by_genre.filter(col(\"Genre\").isin(top_10_genres_list))\n",
        "\n",
        "top_10_genres_data = top_10_genres_data .filter(col(\"Year\")>2015);\n",
        "\n",
        "top_10_genres_data.select(top_10_genres_data.Genre).distinct().show()\n",
        "\n",
        "top_10_genres_data.show()"
      ],
      "metadata": {
        "colab": {
          "base_uri": "https://localhost:8080/"
        },
        "id": "buu68MiRfDYk",
        "outputId": "0a999888-02db-4642-dd6c-c62a2271d533"
      },
      "execution_count": 7,
      "outputs": [
        {
          "output_type": "stream",
          "name": "stdout",
          "text": [
            "+---------------+\n",
            "|          Genre|\n",
            "+---------------+\n",
            "|      Adventure|\n",
            "|        Fantasy|\n",
            "|Science Fiction|\n",
            "|         Comedy|\n",
            "|         Action|\n",
            "+---------------+\n",
            "\n",
            "+---------------+----+----------------------+\n",
            "|          Genre|Year|Total_Revenue_by_Genre|\n",
            "+---------------+----+----------------------+\n",
            "|         Action|2018|           17616115798|\n",
            "|         Action|2017|           16670467411|\n",
            "|      Adventure|2016|           15810937482|\n",
            "|      Adventure|2018|           14999173485|\n",
            "|      Adventure|2017|           14001870517|\n",
            "|      Adventure|2019|           13526660242|\n",
            "|         Action|2016|           12633342213|\n",
            "|Science Fiction|2018|           10461873231|\n",
            "|         Action|2022|           10013951196|\n",
            "|      Adventure|2021|            9539854770|\n",
            "|Science Fiction|2017|            8834850329|\n",
            "|         Action|2019|            8653103717|\n",
            "|        Fantasy|2017|            8628321761|\n",
            "|         Comedy|2016|            8170939740|\n",
            "|         Action|2021|            8115005697|\n",
            "|         Comedy|2019|            8079820630|\n",
            "|         Comedy|2017|            7821917533|\n",
            "|        Fantasy|2016|            7661343672|\n",
            "|        Fantasy|2019|            7146928498|\n",
            "|Science Fiction|2021|            6047329083|\n",
            "+---------------+----+----------------------+\n",
            "only showing top 20 rows\n",
            "\n"
          ]
        }
      ]
    },
    {
      "cell_type": "code",
      "source": [
        "import matplotlib.pyplot as plt\n",
        "import pandas as pd\n",
        "\n",
        "# Convert DataFrame to Pandas\n",
        "top_10_genres_data_pd = top_10_genres_data.toPandas()\n",
        "\n",
        "# Plot the data for each genre\n",
        "plt.figure(figsize=(12, 6))\n",
        "for genre, group in top_10_genres_data_pd.groupby(\"Genre\"):\n",
        "    plt.bar(group[\"Year\"], group[\"Total_Revenue_by_Genre\"], label=genre)\n",
        "plt.xlabel(\"Year\")\n",
        "plt.ylabel(\"Total Revenue by Genre\")\n",
        "plt.title(\"Year-wise Total Revenue for Top 10 Genres\")\n",
        "plt.legend()\n",
        "plt.grid(True)\n",
        "plt.tight_layout()\n",
        "plt.show()\n"
      ],
      "metadata": {
        "colab": {
          "base_uri": "https://localhost:8080/",
          "height": 442
        },
        "id": "rfa92kWuYHox",
        "outputId": "5386297f-67d6-4246-bd2c-2b19c137e9eb"
      },
      "execution_count": 8,
      "outputs": [
        {
          "output_type": "display_data",
          "data": {
            "text/plain": [
              "<Figure size 1200x600 with 1 Axes>"
            ],
            "image/png": "[encoded data removed]"
          },
          "metadata": {}
        }
      ]
    },
    {
      "cell_type": "code",
      "source": [],
      "metadata": {
        "id": "WMViasJCdEQd"
      },
      "execution_count": 13,
      "outputs": []
    },
    {
      "cell_type": "code",
      "source": [],
      "metadata": {
        "id": "_nXumh0QfyPU"
      },
      "execution_count": null,
      "outputs": []
    }
  ]
}