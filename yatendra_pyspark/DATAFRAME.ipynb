{
  "nbformat": 4,
  "nbformat_minor": 0,
  "metadata": {
    "colab": {
      "provenance": []
    },
    "kernelspec": {
      "name": "python3",
      "display_name": "Python 3"
    },
    "language_info": {
      "name": "python"
    }
  },
  "cells": [
    {
      "cell_type": "code",
      "execution_count": null,
      "metadata": {
        "id": "oaWXY8ztM8xN",
        "colab": {
          "base_uri": "https://localhost:8080/",
          "height": 219
        },
        "outputId": "4cb92b87-11ff-4e6d-f189-c1a1662217e9"
      },
      "outputs": [
        {
          "output_type": "execute_result",
          "data": {
            "text/plain": [
              "<pyspark.sql.session.SparkSession at 0x784f48247c40>"
            ],
            "text/html": [
              "\n",
              "            <div>\n",
              "                <p><b>SparkSession - in-memory</b></p>\n",
              "                \n",
              "        <div>\n",
              "            <p><b>SparkContext</b></p>\n",
              "\n",
              "            <p><a href=\"http://ef7937e4dbcd:4040\">Spark UI</a></p>\n",
              "\n",
              "            <dl>\n",
              "              <dt>Version</dt>\n",
              "                <dd><code>v3.1.1</code></dd>\n",
              "              <dt>Master</dt>\n",
              "                <dd><code>local[*]</code></dd>\n",
              "              <dt>AppName</dt>\n",
              "                <dd><code>pyspark-shell</code></dd>\n",
              "            </dl>\n",
              "        </div>\n",
              "        \n",
              "            </div>\n",
              "        "
            ]
          },
          "metadata": {},
          "execution_count": 1
        }
      ],
      "source": [
        "!apt-get install openjdk-8-jdk-headless -qq > /dev/null\n",
        "!wget -q http://archive.apache.org/dist/spark/spark-3.1.1/spark-3.1.1-bin-hadoop3.2.tgz\n",
        "!tar xf spark-3.1.1-bin-hadoop3.2.tgz\n",
        "!pip install -q findspark\n",
        "import os\n",
        "os.environ[\"JAVA_HOME\"] = \"/usr/lib/jvm/java-8-openjdk-amd64\"\n",
        "os.environ[\"SPARK_HOME\"] = \"/content/spark-3.1.1-bin-hadoop3.2\"\n",
        "import findspark\n",
        "findspark.init()\n",
        "from pyspark.sql import SparkSession\n",
        "spark = SparkSession.builder.master(\"local[*]\").getOrCreate()\n",
        "spark"
      ]
    },
    {
      "cell_type": "code",
      "source": [
        "data = [('James','','Smith','1991-04-01','M',3000),\n",
        "  ('Michael','Rose','','2000-05-19','M',4000),\n",
        "  ('Robert','','Williams','1978-09-05','M',4000),\n",
        "  ('Maria','Anne','Jones','1967-12-01','F',4000),\n",
        "  ('Jen','Mary','Brown','1980-02-17','F',-1)\n",
        "]\n",
        "\n",
        "columns = [\"firstname\",\"middlename\",\"lastname\",\"dob\",\"gender\",\"salary\"]\n",
        "\n",
        "df = spark.createDataFrame(data=data,schema=columns);\n",
        "df.show()"
      ],
      "metadata": {
        "id": "skejMtimNITi",
        "colab": {
          "base_uri": "https://localhost:8080/"
        },
        "outputId": "f8e88892-bd09-4a79-8c32-02146cf12d02"
      },
      "execution_count": null,
      "outputs": [
        {
          "output_type": "stream",
          "name": "stdout",
          "text": [
            "+---------+----------+--------+----------+------+------+\n",
            "|firstname|middlename|lastname|       dob|gender|salary|\n",
            "+---------+----------+--------+----------+------+------+\n",
            "|    James|          |   Smith|1991-04-01|     M|  3000|\n",
            "|  Michael|      Rose|        |2000-05-19|     M|  4000|\n",
            "|   Robert|          |Williams|1978-09-05|     M|  4000|\n",
            "|    Maria|      Anne|   Jones|1967-12-01|     F|  4000|\n",
            "|      Jen|      Mary|   Brown|1980-02-17|     F|    -1|\n",
            "+---------+----------+--------+----------+------+------+\n",
            "\n"
          ]
        }
      ]
    },
    {
      "cell_type": "markdown",
      "source": [
        "### Rename existing column"
      ],
      "metadata": {
        "id": "xvl9QEVkQp6y"
      }
    },
    {
      "cell_type": "code",
      "source": [
        "df=df.withColumnRenamed(\"firstname\",\"FirstName\")\n",
        "df.printSchema()"
      ],
      "metadata": {
        "colab": {
          "base_uri": "https://localhost:8080/"
        },
        "id": "W6k6-Rm2Pf_k",
        "outputId": "d6db07fc-8c28-4c08-9983-ac6381345376"
      },
      "execution_count": null,
      "outputs": [
        {
          "output_type": "stream",
          "name": "stdout",
          "text": [
            "root\n",
            " |-- FirstName: string (nullable = true)\n",
            " |-- middlename: string (nullable = true)\n",
            " |-- lastname: string (nullable = true)\n",
            " |-- dob: string (nullable = true)\n",
            " |-- gender: string (nullable = true)\n",
            " |-- salary: long (nullable = true)\n",
            "\n"
          ]
        }
      ]
    },
    {
      "cell_type": "code",
      "source": [
        "## rename multiple columns at a time\n",
        "from pyspark.sql.functions import *\n",
        "df = df.select(col(\"FirstName\"),\n",
        "  col(\"middlename\").alias(\"MiddleName\"),\n",
        "  col(\"lastname\").alias(\"LastName\"),\n",
        "  col(\"dob\").alias(\"DateOfBirth\"),\n",
        "  col(\"gender\"),\n",
        "  col(\"salary\"));\n",
        "\n",
        "df.show()\n",
        "\n",
        "## we can also use multiple withcolumn to rename columns"
      ],
      "metadata": {
        "colab": {
          "base_uri": "https://localhost:8080/"
        },
        "id": "NX31lLUeQ6Bf",
        "outputId": "ae5b2bf9-6c8a-4ad4-ff14-ca5e0f02cf85"
      },
      "execution_count": null,
      "outputs": [
        {
          "output_type": "stream",
          "name": "stdout",
          "text": [
            "+---------+----------+--------+-----------+------+------+\n",
            "|FirstName|MiddleName|LastName|DateOfBirth|gender|salary|\n",
            "+---------+----------+--------+-----------+------+------+\n",
            "|    James|          |   Smith| 1991-04-01|     M|  3000|\n",
            "|  Michael|      Rose|        | 2000-05-19|     M|  4000|\n",
            "|   Robert|          |Williams| 1978-09-05|     M|  4000|\n",
            "|    Maria|      Anne|   Jones| 1967-12-01|     F|  4000|\n",
            "|      Jen|      Mary|   Brown| 1980-02-17|     F|    -1|\n",
            "+---------+----------+--------+-----------+------+------+\n",
            "\n"
          ]
        }
      ]
    },
    {
      "cell_type": "markdown",
      "source": [
        "### WithColumn() in depth"
      ],
      "metadata": {
        "id": "UJHAmLPuVBdr"
      }
    },
    {
      "cell_type": "code",
      "source": [
        "## change datatype of salary column\n",
        "df = df.withColumn(\"salary\",col(\"salary\").cast(\"Integer\"))\n",
        "df.printSchema()\n",
        "\n",
        "##update values of salary column\n",
        "df = df.withColumn(\"salary\",col(\"salary\")*100);\n",
        "df.show()\n",
        "\n",
        "## create new column form existiing\n",
        "df = df.withColumn(\"new_salary\",col(\"salary\")-1);\n",
        "df.show()\n",
        "\n",
        "## add a new column with existsing constant calues\n",
        "df = df.withColumn(\"ratings\",lit(\"****\"));\n",
        "df.show()\n",
        "\n",
        "## drop a column\n",
        "\n",
        "df=df.drop(\"ratings\");\n",
        "df.show()"
      ],
      "metadata": {
        "colab": {
          "base_uri": "https://localhost:8080/"
        },
        "id": "00RPrKAJTXcE",
        "outputId": "e8e5a70b-6610-4a75-8fcf-790d3f3490d7"
      },
      "execution_count": null,
      "outputs": [
        {
          "output_type": "stream",
          "name": "stdout",
          "text": [
            "root\n",
            " |-- FirstName: string (nullable = true)\n",
            " |-- MiddleName: string (nullable = true)\n",
            " |-- LastName: string (nullable = true)\n",
            " |-- DateOfBirth: string (nullable = true)\n",
            " |-- gender: string (nullable = true)\n",
            " |-- salary: integer (nullable = true)\n",
            "\n",
            "+---------+----------+--------+-----------+------+------+\n",
            "|FirstName|MiddleName|LastName|DateOfBirth|gender|salary|\n",
            "+---------+----------+--------+-----------+------+------+\n",
            "|    James|          |   Smith| 1991-04-01|     M|300000|\n",
            "|  Michael|      Rose|        | 2000-05-19|     M|400000|\n",
            "|   Robert|          |Williams| 1978-09-05|     M|400000|\n",
            "|    Maria|      Anne|   Jones| 1967-12-01|     F|400000|\n",
            "|      Jen|      Mary|   Brown| 1980-02-17|     F|  -100|\n",
            "+---------+----------+--------+-----------+------+------+\n",
            "\n",
            "+---------+----------+--------+-----------+------+------+----------+\n",
            "|FirstName|MiddleName|LastName|DateOfBirth|gender|salary|new_salary|\n",
            "+---------+----------+--------+-----------+------+------+----------+\n",
            "|    James|          |   Smith| 1991-04-01|     M|300000|    299999|\n",
            "|  Michael|      Rose|        | 2000-05-19|     M|400000|    399999|\n",
            "|   Robert|          |Williams| 1978-09-05|     M|400000|    399999|\n",
            "|    Maria|      Anne|   Jones| 1967-12-01|     F|400000|    399999|\n",
            "|      Jen|      Mary|   Brown| 1980-02-17|     F|  -100|      -101|\n",
            "+---------+----------+--------+-----------+------+------+----------+\n",
            "\n",
            "+---------+----------+--------+-----------+------+------+----------+-------+\n",
            "|FirstName|MiddleName|LastName|DateOfBirth|gender|salary|new_salary|ratings|\n",
            "+---------+----------+--------+-----------+------+------+----------+-------+\n",
            "|    James|          |   Smith| 1991-04-01|     M|300000|    299999|   ****|\n",
            "|  Michael|      Rose|        | 2000-05-19|     M|400000|    399999|   ****|\n",
            "|   Robert|          |Williams| 1978-09-05|     M|400000|    399999|   ****|\n",
            "|    Maria|      Anne|   Jones| 1967-12-01|     F|400000|    399999|   ****|\n",
            "|      Jen|      Mary|   Brown| 1980-02-17|     F|  -100|      -101|   ****|\n",
            "+---------+----------+--------+-----------+------+------+----------+-------+\n",
            "\n",
            "+---------+----------+--------+-----------+------+------+----------+\n",
            "|FirstName|MiddleName|LastName|DateOfBirth|gender|salary|new_salary|\n",
            "+---------+----------+--------+-----------+------+------+----------+\n",
            "|    James|          |   Smith| 1991-04-01|     M|300000|    299999|\n",
            "|  Michael|      Rose|        | 2000-05-19|     M|400000|    399999|\n",
            "|   Robert|          |Williams| 1978-09-05|     M|400000|    399999|\n",
            "|    Maria|      Anne|   Jones| 1967-12-01|     F|400000|    399999|\n",
            "|      Jen|      Mary|   Brown| 1980-02-17|     F|  -100|      -101|\n",
            "+---------+----------+--------+-----------+------+------+----------+\n",
            "\n"
          ]
        }
      ]
    },
    {
      "cell_type": "markdown",
      "source": [
        "## filter() funtion"
      ],
      "metadata": {
        "id": "20qYjq2ucfwJ"
      }
    },
    {
      "cell_type": "code",
      "source": [
        "df.filter(df.salary>=300000).show();\n",
        "df.filter((df.FirstName.startswith(\"M\"))& (df.gender==\"M\")).show();\n",
        "## filter using like function\n",
        "df.filter(df.DateOfBirth.like(\"19%\")).show()"
      ],
      "metadata": {
        "colab": {
          "base_uri": "https://localhost:8080/"
        },
        "id": "x4Vu6Vr4VnlU",
        "outputId": "8601fd8a-98a5-40a1-eb41-d4b9390ca5ff"
      },
      "execution_count": null,
      "outputs": [
        {
          "output_type": "stream",
          "name": "stdout",
          "text": [
            "+---------+----------+--------+-----------+------+------+----------+\n",
            "|FirstName|MiddleName|LastName|DateOfBirth|gender|salary|new_salary|\n",
            "+---------+----------+--------+-----------+------+------+----------+\n",
            "|    James|          |   Smith| 1991-04-01|     M|300000|    299999|\n",
            "|  Michael|      Rose|        | 2000-05-19|     M|400000|    399999|\n",
            "|   Robert|          |Williams| 1978-09-05|     M|400000|    399999|\n",
            "|    Maria|      Anne|   Jones| 1967-12-01|     F|400000|    399999|\n",
            "+---------+----------+--------+-----------+------+------+----------+\n",
            "\n",
            "+---------+----------+--------+-----------+------+------+----------+\n",
            "|FirstName|MiddleName|LastName|DateOfBirth|gender|salary|new_salary|\n",
            "+---------+----------+--------+-----------+------+------+----------+\n",
            "|  Michael|      Rose|        | 2000-05-19|     M|400000|    399999|\n",
            "+---------+----------+--------+-----------+------+------+----------+\n",
            "\n",
            "+---------+----------+--------+-----------+------+------+----------+\n",
            "|FirstName|MiddleName|LastName|DateOfBirth|gender|salary|new_salary|\n",
            "+---------+----------+--------+-----------+------+------+----------+\n",
            "|    James|          |   Smith| 1991-04-01|     M|300000|    299999|\n",
            "|   Robert|          |Williams| 1978-09-05|     M|400000|    399999|\n",
            "|    Maria|      Anne|   Jones| 1967-12-01|     F|400000|    399999|\n",
            "|      Jen|      Mary|   Brown| 1980-02-17|     F|  -100|      -101|\n",
            "+---------+----------+--------+-----------+------+------+----------+\n",
            "\n"
          ]
        }
      ]
    },
    {
      "cell_type": "markdown",
      "source": [
        "### orderby and sort"
      ],
      "metadata": {
        "id": "LK9AOidbze6d"
      }
    },
    {
      "cell_type": "code",
      "source": [
        "simpleData = [(\"James\",\"Sales\",\"NY\",90000,34,10000), \\\n",
        "    (\"Michael\",\"Sales\",\"NY\",86000,56,20000), \\\n",
        "    (\"Robert\",\"Sales\",\"CA\",81000,30,23000), \\\n",
        "    (\"Maria\",\"Finance\",\"CA\",90000,24,23000), \\\n",
        "    (\"Raman\",\"Finance\",\"CA\",99000,40,24000), \\\n",
        "    (\"Scott\",\"Finance\",\"NY\",83000,36,19000), \\\n",
        "    (\"Jen\",\"Finance\",\"NY\",79000,53,15000), \\\n",
        "    (\"Jeff\",\"Marketing\",\"CA\",80000,25,18000), \\\n",
        "    (\"Kumar\",\"Marketing\",\"NY\",91000,50,21000) \\\n",
        "  ]\n",
        "columns= [\"employee_name\",\"department\",\"state\",\"salary\",\"age\",\"bonus\"]\n",
        "# Create SparkSession\n",
        "\n",
        "df = spark.createDataFrame(data = simpleData, schema = columns)\n",
        "df.printSchema()\n",
        "df.show(truncate=False)"
      ],
      "metadata": {
        "colab": {
          "base_uri": "https://localhost:8080/"
        },
        "id": "F3sJFuc4zejC",
        "outputId": "2cae6bb2-d900-46ba-ee68-d3d62516827e"
      },
      "execution_count": null,
      "outputs": [
        {
          "output_type": "stream",
          "name": "stdout",
          "text": [
            "root\n",
            " |-- employee_name: string (nullable = true)\n",
            " |-- department: string (nullable = true)\n",
            " |-- state: string (nullable = true)\n",
            " |-- salary: long (nullable = true)\n",
            " |-- age: long (nullable = true)\n",
            " |-- bonus: long (nullable = true)\n",
            "\n",
            "+-------------+----------+-----+------+---+-----+\n",
            "|employee_name|department|state|salary|age|bonus|\n",
            "+-------------+----------+-----+------+---+-----+\n",
            "|James        |Sales     |NY   |90000 |34 |10000|\n",
            "|Michael      |Sales     |NY   |86000 |56 |20000|\n",
            "|Robert       |Sales     |CA   |81000 |30 |23000|\n",
            "|Maria        |Finance   |CA   |90000 |24 |23000|\n",
            "|Raman        |Finance   |CA   |99000 |40 |24000|\n",
            "|Scott        |Finance   |NY   |83000 |36 |19000|\n",
            "|Jen          |Finance   |NY   |79000 |53 |15000|\n",
            "|Jeff         |Marketing |CA   |80000 |25 |18000|\n",
            "|Kumar        |Marketing |NY   |91000 |50 |21000|\n",
            "+-------------+----------+-----+------+---+-----+\n",
            "\n"
          ]
        }
      ]
    },
    {
      "cell_type": "code",
      "source": [
        "df1 = df.sort(\"salary\")\n",
        "df1.show()\n",
        "df1 = df.sort(\"salary\",\"age\",ascending=[False,True])\n",
        "# both do same work the only diffrence is col() sorts acc to column type\n",
        "# and the 1st one takes string type as column\n",
        "df1 = df.sort(col(\"salary\"),col(\"age\"),ascending=[False,True])\n",
        "df1.show()\n",
        "\n",
        "df1 = df.orderBy(df.employee_name.asc(),df.state.asc())\n",
        "df1.show()"
      ],
      "metadata": {
        "colab": {
          "base_uri": "https://localhost:8080/"
        },
        "id": "YOIDvrX4ctx8",
        "outputId": "80ee508a-2d57-49aa-8f74-abdf435e81c0"
      },
      "execution_count": null,
      "outputs": [
        {
          "output_type": "stream",
          "name": "stdout",
          "text": [
            "+-------------+----------+-----+------+---+-----+\n",
            "|employee_name|department|state|salary|age|bonus|\n",
            "+-------------+----------+-----+------+---+-----+\n",
            "|          Jen|   Finance|   NY| 79000| 53|15000|\n",
            "|         Jeff| Marketing|   CA| 80000| 25|18000|\n",
            "|       Robert|     Sales|   CA| 81000| 30|23000|\n",
            "|        Scott|   Finance|   NY| 83000| 36|19000|\n",
            "|      Michael|     Sales|   NY| 86000| 56|20000|\n",
            "|        James|     Sales|   NY| 90000| 34|10000|\n",
            "|        Maria|   Finance|   CA| 90000| 24|23000|\n",
            "|        Kumar| Marketing|   NY| 91000| 50|21000|\n",
            "|        Raman|   Finance|   CA| 99000| 40|24000|\n",
            "+-------------+----------+-----+------+---+-----+\n",
            "\n",
            "+-------------+----------+-----+------+---+-----+\n",
            "|employee_name|department|state|salary|age|bonus|\n",
            "+-------------+----------+-----+------+---+-----+\n",
            "|        Raman|   Finance|   CA| 99000| 40|24000|\n",
            "|        Kumar| Marketing|   NY| 91000| 50|21000|\n",
            "|        Maria|   Finance|   CA| 90000| 24|23000|\n",
            "|        James|     Sales|   NY| 90000| 34|10000|\n",
            "|      Michael|     Sales|   NY| 86000| 56|20000|\n",
            "|        Scott|   Finance|   NY| 83000| 36|19000|\n",
            "|       Robert|     Sales|   CA| 81000| 30|23000|\n",
            "|         Jeff| Marketing|   CA| 80000| 25|18000|\n",
            "|          Jen|   Finance|   NY| 79000| 53|15000|\n",
            "+-------------+----------+-----+------+---+-----+\n",
            "\n",
            "+-------------+----------+-----+------+---+-----+\n",
            "|employee_name|department|state|salary|age|bonus|\n",
            "+-------------+----------+-----+------+---+-----+\n",
            "|        James|     Sales|   NY| 90000| 34|10000|\n",
            "|         Jeff| Marketing|   CA| 80000| 25|18000|\n",
            "|          Jen|   Finance|   NY| 79000| 53|15000|\n",
            "|        Kumar| Marketing|   NY| 91000| 50|21000|\n",
            "|        Maria|   Finance|   CA| 90000| 24|23000|\n",
            "|      Michael|     Sales|   NY| 86000| 56|20000|\n",
            "|        Raman|   Finance|   CA| 99000| 40|24000|\n",
            "|       Robert|     Sales|   CA| 81000| 30|23000|\n",
            "|        Scott|   Finance|   NY| 83000| 36|19000|\n",
            "+-------------+----------+-----+------+---+-----+\n",
            "\n"
          ]
        }
      ]
    },
    {
      "cell_type": "markdown",
      "source": [
        "## orderBy()"
      ],
      "metadata": {
        "id": "edrFaeym3mHy"
      }
    },
    {
      "cell_type": "code",
      "source": [
        "df1 = df.orderBy(\"department\")\n",
        "df1.show()\n",
        "df1 = df.orderBy(df.employee_name.asc(),df.state.asc())\n",
        "df1.show()\n",
        "df1 = df.orderBy(col(\"department\").asc(),col(\"salary\").desc())\n",
        "df1.show()"
      ],
      "metadata": {
        "id": "RtnzpC9Qheu5",
        "colab": {
          "base_uri": "https://localhost:8080/"
        },
        "outputId": "035e1daa-8089-43a2-c649-532e2e5e472e"
      },
      "execution_count": null,
      "outputs": [
        {
          "output_type": "stream",
          "name": "stdout",
          "text": [
            "+-------------+----------+-----+------+---+-----+\n",
            "|employee_name|department|state|salary|age|bonus|\n",
            "+-------------+----------+-----+------+---+-----+\n",
            "|        Raman|   Finance|   CA| 99000| 40|24000|\n",
            "|          Jen|   Finance|   NY| 79000| 53|15000|\n",
            "|        Scott|   Finance|   NY| 83000| 36|19000|\n",
            "|        Maria|   Finance|   CA| 90000| 24|23000|\n",
            "|        Kumar| Marketing|   NY| 91000| 50|21000|\n",
            "|         Jeff| Marketing|   CA| 80000| 25|18000|\n",
            "|        James|     Sales|   NY| 90000| 34|10000|\n",
            "|      Michael|     Sales|   NY| 86000| 56|20000|\n",
            "|       Robert|     Sales|   CA| 81000| 30|23000|\n",
            "+-------------+----------+-----+------+---+-----+\n",
            "\n",
            "+-------------+----------+-----+------+---+-----+\n",
            "|employee_name|department|state|salary|age|bonus|\n",
            "+-------------+----------+-----+------+---+-----+\n",
            "|        James|     Sales|   NY| 90000| 34|10000|\n",
            "|         Jeff| Marketing|   CA| 80000| 25|18000|\n",
            "|          Jen|   Finance|   NY| 79000| 53|15000|\n",
            "|        Kumar| Marketing|   NY| 91000| 50|21000|\n",
            "|        Maria|   Finance|   CA| 90000| 24|23000|\n",
            "|      Michael|     Sales|   NY| 86000| 56|20000|\n",
            "|        Raman|   Finance|   CA| 99000| 40|24000|\n",
            "|       Robert|     Sales|   CA| 81000| 30|23000|\n",
            "|        Scott|   Finance|   NY| 83000| 36|19000|\n",
            "+-------------+----------+-----+------+---+-----+\n",
            "\n",
            "+-------------+----------+-----+------+---+-----+\n",
            "|employee_name|department|state|salary|age|bonus|\n",
            "+-------------+----------+-----+------+---+-----+\n",
            "|        Raman|   Finance|   CA| 99000| 40|24000|\n",
            "|        Maria|   Finance|   CA| 90000| 24|23000|\n",
            "|        Scott|   Finance|   NY| 83000| 36|19000|\n",
            "|          Jen|   Finance|   NY| 79000| 53|15000|\n",
            "|        Kumar| Marketing|   NY| 91000| 50|21000|\n",
            "|         Jeff| Marketing|   CA| 80000| 25|18000|\n",
            "|        James|     Sales|   NY| 90000| 34|10000|\n",
            "|      Michael|     Sales|   NY| 86000| 56|20000|\n",
            "|       Robert|     Sales|   CA| 81000| 30|23000|\n",
            "+-------------+----------+-----+------+---+-----+\n",
            "\n"
          ]
        }
      ]
    },
    {
      "cell_type": "markdown",
      "source": [
        "### PySpark Explode Array and Map Columns to Rows"
      ],
      "metadata": {
        "id": "aF9DFpaUFYdp"
      }
    },
    {
      "cell_type": "code",
      "source": [
        "arrayData = [\n",
        "        ('James',['Java','Scala'],{'hair':'black','eye':'brown'}),\n",
        "        ('Michael',['Spark','Java',None],{'hair':'brown','eye':None}),\n",
        "        ('Robert',['CSharp',''],{'hair':'red','eye':''}),\n",
        "        ('Washington',None,None),\n",
        "        ('Jefferson',['1','2'],{})\n",
        "        ]\n",
        "df = spark.createDataFrame(data=arrayData, schema = ['name','knownLanguages','properties'])\n",
        "df.printSchema()\n",
        "df.show(truncate=False)"
      ],
      "metadata": {
        "colab": {
          "base_uri": "https://localhost:8080/"
        },
        "id": "9gFbWxvs_rrn",
        "outputId": "0a9e316a-c624-4f5e-bf54-629af24a3f82"
      },
      "execution_count": null,
      "outputs": [
        {
          "output_type": "stream",
          "name": "stdout",
          "text": [
            "root\n",
            " |-- name: string (nullable = true)\n",
            " |-- knownLanguages: array (nullable = true)\n",
            " |    |-- element: string (containsNull = true)\n",
            " |-- properties: map (nullable = true)\n",
            " |    |-- key: string\n",
            " |    |-- value: string (valueContainsNull = true)\n",
            "\n",
            "+----------+-------------------+-----------------------------+\n",
            "|name      |knownLanguages     |properties                   |\n",
            "+----------+-------------------+-----------------------------+\n",
            "|James     |[Java, Scala]      |{eye -> brown, hair -> black}|\n",
            "|Michael   |[Spark, Java, null]|{eye -> null, hair -> brown} |\n",
            "|Robert    |[CSharp, ]         |{eye -> , hair -> red}       |\n",
            "|Washington|null               |null                         |\n",
            "|Jefferson |[1, 2]             |{}                           |\n",
            "+----------+-------------------+-----------------------------+\n",
            "\n"
          ]
        }
      ]
    },
    {
      "cell_type": "markdown",
      "source": [
        "## explode will not map null values"
      ],
      "metadata": {
        "id": "t-40wueRHcDC"
      }
    },
    {
      "cell_type": "code",
      "source": [
        "## explode array\n",
        "from pyspark.sql.functions import explode;\n",
        "\n",
        "df1 = df.select(df.name,explode(df.knownLanguages))\n",
        "df1.printSchema()\n",
        "df1.show(truncate = False)"
      ],
      "metadata": {
        "colab": {
          "base_uri": "https://localhost:8080/"
        },
        "id": "gml9aWpnDvms",
        "outputId": "130fdd6f-5176-40e3-a172-16244f5e325d"
      },
      "execution_count": null,
      "outputs": [
        {
          "output_type": "stream",
          "name": "stdout",
          "text": [
            "root\n",
            " |-- name: string (nullable = true)\n",
            " |-- col: string (nullable = true)\n",
            "\n",
            "+---------+------+\n",
            "|name     |col   |\n",
            "+---------+------+\n",
            "|James    |Java  |\n",
            "|James    |Scala |\n",
            "|Michael  |Spark |\n",
            "|Michael  |Java  |\n",
            "|Michael  |null  |\n",
            "|Robert   |CSharp|\n",
            "|Robert   |      |\n",
            "|Jefferson|1     |\n",
            "|Jefferson|2     |\n",
            "+---------+------+\n",
            "\n"
          ]
        }
      ]
    },
    {
      "cell_type": "code",
      "source": [
        "## explode map\n",
        "df1 = df.select(df.name,explode(df.properties))\n",
        "df1.printSchema()\n",
        "df1.show(truncate=False)"
      ],
      "metadata": {
        "colab": {
          "base_uri": "https://localhost:8080/"
        },
        "id": "GguwqdoJEqmy",
        "outputId": "ce57b088-1a7f-4951-fe78-46a638b2cfd1"
      },
      "execution_count": null,
      "outputs": [
        {
          "output_type": "stream",
          "name": "stdout",
          "text": [
            "root\n",
            " |-- name: string (nullable = true)\n",
            " |-- key: string (nullable = false)\n",
            " |-- value: string (nullable = true)\n",
            "\n",
            "+-------+----+-----+\n",
            "|name   |key |value|\n",
            "+-------+----+-----+\n",
            "|James  |eye |brown|\n",
            "|James  |hair|black|\n",
            "|Michael|eye |null |\n",
            "|Michael|hair|brown|\n",
            "|Robert |eye |     |\n",
            "|Robert |hair|red  |\n",
            "+-------+----+-----+\n",
            "\n"
          ]
        }
      ]
    },
    {
      "cell_type": "markdown",
      "source": [
        "## explode_outer() it is same as explode() but it will map null values too"
      ],
      "metadata": {
        "id": "wwceThrEHiGk"
      }
    },
    {
      "cell_type": "code",
      "source": [
        "## performing epxlode on array\n",
        "df1 = df.select(df.name,explode_outer(df.knownLanguages))\n",
        "df1.show()\n",
        "\n",
        "## performing explode on map\n",
        "df1 = df.select(df.name,explode_outer(df.properties))\n",
        "df1.show()"
      ],
      "metadata": {
        "colab": {
          "base_uri": "https://localhost:8080/"
        },
        "id": "IX9vvfIqGLW0",
        "outputId": "377894ae-5608-4f72-cc86-d23b1d9fa4da"
      },
      "execution_count": null,
      "outputs": [
        {
          "output_type": "stream",
          "name": "stdout",
          "text": [
            "+----------+------+\n",
            "|      name|   col|\n",
            "+----------+------+\n",
            "|     James|  Java|\n",
            "|     James| Scala|\n",
            "|   Michael| Spark|\n",
            "|   Michael|  Java|\n",
            "|   Michael|  null|\n",
            "|    Robert|CSharp|\n",
            "|    Robert|      |\n",
            "|Washington|  null|\n",
            "| Jefferson|     1|\n",
            "| Jefferson|     2|\n",
            "+----------+------+\n",
            "\n",
            "+----------+----+-----+\n",
            "|      name| key|value|\n",
            "+----------+----+-----+\n",
            "|     James| eye|brown|\n",
            "|     James|hair|black|\n",
            "|   Michael| eye| null|\n",
            "|   Michael|hair|brown|\n",
            "|    Robert| eye|     |\n",
            "|    Robert|hair|  red|\n",
            "|Washington|null| null|\n",
            "| Jefferson|null| null|\n",
            "+----------+----+-----+\n",
            "\n"
          ]
        }
      ]
    },
    {
      "cell_type": "markdown",
      "source": [
        "## posexplode() same as explode() the only diffrence is that it also returns the position of array or map element"
      ],
      "metadata": {
        "id": "ISRlA2fSJlut"
      }
    },
    {
      "cell_type": "code",
      "source": [
        "## using posexplode with array\n",
        "df1 = df.select(df.name,posexplode(df.knownLanguages))\n",
        "df1.show()\n",
        "\n",
        "## using posexplode() on map\n",
        "df1 = df.select(df.name,posexplode(df.properties))\n",
        "df1.show()"
      ],
      "metadata": {
        "colab": {
          "base_uri": "https://localhost:8080/"
        },
        "id": "ONhMnrxYIzx9",
        "outputId": "880d03a5-d952-46df-df33-8030e30357d9"
      },
      "execution_count": null,
      "outputs": [
        {
          "output_type": "stream",
          "name": "stdout",
          "text": [
            "+---------+---+------+\n",
            "|     name|pos|   col|\n",
            "+---------+---+------+\n",
            "|    James|  0|  Java|\n",
            "|    James|  1| Scala|\n",
            "|  Michael|  0| Spark|\n",
            "|  Michael|  1|  Java|\n",
            "|  Michael|  2|  null|\n",
            "|   Robert|  0|CSharp|\n",
            "|   Robert|  1|      |\n",
            "|Jefferson|  0|     1|\n",
            "|Jefferson|  1|     2|\n",
            "+---------+---+------+\n",
            "\n",
            "+-------+---+----+-----+\n",
            "|   name|pos| key|value|\n",
            "+-------+---+----+-----+\n",
            "|  James|  0| eye|brown|\n",
            "|  James|  1|hair|black|\n",
            "|Michael|  0| eye| null|\n",
            "|Michael|  1|hair|brown|\n",
            "| Robert|  0| eye|     |\n",
            "| Robert|  1|hair|  red|\n",
            "+-------+---+----+-----+\n",
            "\n"
          ]
        }
      ]
    },
    {
      "cell_type": "markdown",
      "source": [
        "## posexplode_outer()"
      ],
      "metadata": {
        "id": "jsPZIDFKAfJ2"
      }
    },
    {
      "cell_type": "code",
      "source": [
        "## using posexplode_outer() with array\n",
        "df1 = df.select(df.name,posexplode_outer(df.knownLanguages))\n",
        "df1.show()\n",
        "\n",
        "## using posexplode() on map\n",
        "df1 = df.select(df.name,posexplode_outer(df.properties))\n",
        "df1.show()\n",
        "df.show()"
      ],
      "metadata": {
        "id": "B4ZIUYQ4K2Wp",
        "colab": {
          "base_uri": "https://localhost:8080/"
        },
        "outputId": "eb9b4709-f5da-4ab5-e151-2c859e6e6d07"
      },
      "execution_count": null,
      "outputs": [
        {
          "output_type": "stream",
          "name": "stdout",
          "text": [
            "+----------+----+------+\n",
            "|      name| pos|   col|\n",
            "+----------+----+------+\n",
            "|     James|   0|  Java|\n",
            "|     James|   1| Scala|\n",
            "|   Michael|   0| Spark|\n",
            "|   Michael|   1|  Java|\n",
            "|   Michael|   2|  null|\n",
            "|    Robert|   0|CSharp|\n",
            "|    Robert|   1|      |\n",
            "|Washington|null|  null|\n",
            "| Jefferson|   0|     1|\n",
            "| Jefferson|   1|     2|\n",
            "+----------+----+------+\n",
            "\n",
            "+----------+----+----+-----+\n",
            "|      name| pos| key|value|\n",
            "+----------+----+----+-----+\n",
            "|     James|   0| eye|brown|\n",
            "|     James|   1|hair|black|\n",
            "|   Michael|   0| eye| null|\n",
            "|   Michael|   1|hair|brown|\n",
            "|    Robert|   0| eye|     |\n",
            "|    Robert|   1|hair|  red|\n",
            "|Washington|null|null| null|\n",
            "| Jefferson|null|null| null|\n",
            "+----------+----+----+-----+\n",
            "\n",
            "+----------+-------------------+--------------------+\n",
            "|      name|     knownLanguages|          properties|\n",
            "+----------+-------------------+--------------------+\n",
            "|     James|      [Java, Scala]|{eye -> brown, ha...|\n",
            "|   Michael|[Spark, Java, null]|{eye -> null, hai...|\n",
            "|    Robert|         [CSharp, ]|{eye -> , hair ->...|\n",
            "|Washington|               null|                null|\n",
            "| Jefferson|             [1, 2]|                  {}|\n",
            "+----------+-------------------+--------------------+\n",
            "\n"
          ]
        }
      ]
    },
    {
      "cell_type": "code",
      "source": [
        "arrayArrayData = [\n",
        "  (\"James\",[[\"Java\",\"Scala\",\"C++\"],[\"Spark\",\"Java\"]]),\n",
        "  (\"Michael\",[[\"Spark\",\"Java\",\"C++\"],[\"Spark\",\"Java\"]]),\n",
        "  (\"Robert\",[[\"CSharp\",\"VB\"],[\"Spark\",\"Python\"]])\n",
        "]\n",
        "\n",
        "df = spark.createDataFrame(data=arrayArrayData, schema = ['name','subjects'])\n",
        "df.printSchema()\n",
        "df.show(truncate=False)"
      ],
      "metadata": {
        "colab": {
          "base_uri": "https://localhost:8080/"
        },
        "id": "vEfcJKGSA0bL",
        "outputId": "c10fe4fb-4941-4c33-ff76-b27ac47714bf"
      },
      "execution_count": null,
      "outputs": [
        {
          "output_type": "stream",
          "name": "stdout",
          "text": [
            "root\n",
            " |-- name: string (nullable = true)\n",
            " |-- subjects: array (nullable = true)\n",
            " |    |-- element: array (containsNull = true)\n",
            " |    |    |-- element: string (containsNull = true)\n",
            "\n",
            "+-------+-----------------------------------+\n",
            "|name   |subjects                           |\n",
            "+-------+-----------------------------------+\n",
            "|James  |[[Java, Scala, C++], [Spark, Java]]|\n",
            "|Michael|[[Spark, Java, C++], [Spark, Java]]|\n",
            "|Robert |[[CSharp, VB], [Spark, Python]]    |\n",
            "+-------+-----------------------------------+\n",
            "\n"
          ]
        }
      ]
    },
    {
      "cell_type": "code",
      "source": [
        "df.select(df.name,explode(df.subjects)).show()\n",
        "df.select(df.name,flatten(df.subjects)).show(truncate=False)"
      ],
      "metadata": {
        "colab": {
          "base_uri": "https://localhost:8080/"
        },
        "id": "WMDZ5XLSCUFH",
        "outputId": "c246733d-47a8-4a3a-95f2-65f5b5e31f45"
      },
      "execution_count": null,
      "outputs": [
        {
          "output_type": "stream",
          "name": "stdout",
          "text": [
            "+-------+------------------+\n",
            "|   name|               col|\n",
            "+-------+------------------+\n",
            "|  James|[Java, Scala, C++]|\n",
            "|  James|     [Spark, Java]|\n",
            "|Michael|[Spark, Java, C++]|\n",
            "|Michael|     [Spark, Java]|\n",
            "| Robert|      [CSharp, VB]|\n",
            "| Robert|   [Spark, Python]|\n",
            "+-------+------------------+\n",
            "\n",
            "+-------+-------------------------------+\n",
            "|name   |flatten(subjects)              |\n",
            "+-------+-------------------------------+\n",
            "|James  |[Java, Scala, C++, Spark, Java]|\n",
            "|Michael|[Spark, Java, C++, Spark, Java]|\n",
            "|Robert |[CSharp, VB, Spark, Python]    |\n",
            "+-------+-------------------------------+\n",
            "\n"
          ]
        }
      ]
    },
    {
      "cell_type": "markdown",
      "source": [
        "### groupBy()"
      ],
      "metadata": {
        "id": "TTC8kntKG-u3"
      }
    },
    {
      "cell_type": "code",
      "source": [
        "simpleData = [(\"James\",\"Sales\",\"NY\",90000,34,10000),\n",
        "    (\"Michael\",\"Sales\",\"NY\",86000,56,20000),\n",
        "    (\"Robert\",\"Sales\",\"CA\",81000,30,23000),\n",
        "    (\"Maria\",\"Finance\",\"CA\",90000,24,23000),\n",
        "    (\"Raman\",\"Finance\",\"CA\",99000,40,24000),\n",
        "    (\"Scott\",\"Finance\",\"NY\",83000,36,19000),\n",
        "    (\"Jen\",\"Finance\",\"NY\",79000,53,15000),\n",
        "    (\"Jeff\",\"Marketing\",\"CA\",80000,25,18000),\n",
        "    (\"Kumar\",\"Marketing\",\"NY\",91000,50,21000)\n",
        "  ]\n",
        "\n",
        "schema = [\"employee_name\",\"department\",\"state\",\"salary\",\"age\",\"bonus\"]\n",
        "df = spark.createDataFrame(data=simpleData, schema = schema)\n",
        "df.printSchema()\n",
        "df.show(truncate=False)"
      ],
      "metadata": {
        "colab": {
          "base_uri": "https://localhost:8080/"
        },
        "id": "E3afjUgBCej-",
        "outputId": "4412d460-c910-453a-f325-efc0d9f6f30c"
      },
      "execution_count": null,
      "outputs": [
        {
          "output_type": "stream",
          "name": "stdout",
          "text": [
            "root\n",
            " |-- employee_name: string (nullable = true)\n",
            " |-- department: string (nullable = true)\n",
            " |-- state: string (nullable = true)\n",
            " |-- salary: long (nullable = true)\n",
            " |-- age: long (nullable = true)\n",
            " |-- bonus: long (nullable = true)\n",
            "\n",
            "+-------------+----------+-----+------+---+-----+\n",
            "|employee_name|department|state|salary|age|bonus|\n",
            "+-------------+----------+-----+------+---+-----+\n",
            "|James        |Sales     |NY   |90000 |34 |10000|\n",
            "|Michael      |Sales     |NY   |86000 |56 |20000|\n",
            "|Robert       |Sales     |CA   |81000 |30 |23000|\n",
            "|Maria        |Finance   |CA   |90000 |24 |23000|\n",
            "|Raman        |Finance   |CA   |99000 |40 |24000|\n",
            "|Scott        |Finance   |NY   |83000 |36 |19000|\n",
            "|Jen          |Finance   |NY   |79000 |53 |15000|\n",
            "|Jeff         |Marketing |CA   |80000 |25 |18000|\n",
            "|Kumar        |Marketing |NY   |91000 |50 |21000|\n",
            "+-------------+----------+-----+------+---+-----+\n",
            "\n"
          ]
        }
      ]
    },
    {
      "cell_type": "code",
      "source": [
        "# calculate sum of salaies in departments\n",
        "df.groupBy(\"department\").sum(\"salary\").show()\n",
        "\n",
        "# calculate number of employee in each department\n",
        "df.groupBy(\"department\").count().show()"
      ],
      "metadata": {
        "colab": {
          "base_uri": "https://localhost:8080/"
        },
        "id": "JHQ8XmDmF8am",
        "outputId": "0fbf9c5d-b4b3-41f0-80f8-7336c2e7ed72"
      },
      "execution_count": null,
      "outputs": [
        {
          "output_type": "stream",
          "name": "stdout",
          "text": [
            "+----------+-----------+\n",
            "|department|sum(salary)|\n",
            "+----------+-----------+\n",
            "|     Sales|     257000|\n",
            "|   Finance|     351000|\n",
            "| Marketing|     171000|\n",
            "+----------+-----------+\n",
            "\n",
            "+----------+-----+\n",
            "|department|count|\n",
            "+----------+-----+\n",
            "|     Sales|    3|\n",
            "|   Finance|    4|\n",
            "| Marketing|    2|\n",
            "+----------+-----+\n",
            "\n"
          ]
        }
      ]
    },
    {
      "cell_type": "markdown",
      "source": [],
      "metadata": {
        "id": "Lf-xdvzBG9X0"
      }
    },
    {
      "cell_type": "code",
      "source": [
        "import logging\n",
        "logging.getLogger().setLevel(logging.INFO)\n",
        "\n",
        "def function():\n",
        "  try:\n",
        "    df = spark.read.csv(\"/content/sample_data/california_housing_test.csv\",header =True)\n",
        "    df.show()\n",
        "    logging.info(\"Success\")\n",
        "  except Exception as e:\n",
        "    logging.info(\"no success\")\n",
        "  finally:\n",
        "\n",
        "    logging.info(\"finally block\")\n",
        "function()"
      ],
      "metadata": {
        "colab": {
          "base_uri": "https://localhost:8080/"
        },
        "id": "xLcTXaFSGSMt",
        "outputId": "bf328fa6-d7b2-47af-99f2-c222e5d52ad1"
      },
      "execution_count": null,
      "outputs": [
        {
          "output_type": "stream",
          "name": "stderr",
          "text": [
            "INFO:root:Success\n",
            "INFO:root:finally block\n"
          ]
        },
        {
          "output_type": "stream",
          "name": "stdout",
          "text": [
            "+-----------+---------+------------------+-----------+--------------+-----------+-----------+-------------+------------------+\n",
            "|  longitude| latitude|housing_median_age|total_rooms|total_bedrooms| population| households|median_income|median_house_value|\n",
            "+-----------+---------+------------------+-----------+--------------+-----------+-----------+-------------+------------------+\n",
            "|-122.050000|37.370000|         27.000000|3885.000000|    661.000000|1537.000000| 606.000000|     6.608500|     344700.000000|\n",
            "|-118.300000|34.260000|         43.000000|1510.000000|    310.000000| 809.000000| 277.000000|     3.599000|     176500.000000|\n",
            "|-117.810000|33.780000|         27.000000|3589.000000|    507.000000|1484.000000| 495.000000|     5.793400|     270500.000000|\n",
            "|-118.360000|33.820000|         28.000000|  67.000000|     15.000000|  49.000000|  11.000000|     6.135900|     330000.000000|\n",
            "|-119.670000|36.330000|         19.000000|1241.000000|    244.000000| 850.000000| 237.000000|     2.937500|      81700.000000|\n",
            "|-119.560000|36.510000|         37.000000|1018.000000|    213.000000| 663.000000| 204.000000|     1.663500|      67000.000000|\n",
            "|-121.430000|38.630000|         43.000000|1009.000000|    225.000000| 604.000000| 218.000000|     1.664100|      67000.000000|\n",
            "|-120.650000|35.480000|         19.000000|2310.000000|    471.000000|1341.000000| 441.000000|     3.225000|     166900.000000|\n",
            "|-122.840000|38.400000|         15.000000|3080.000000|    617.000000|1446.000000| 599.000000|     3.669600|     194400.000000|\n",
            "|-118.020000|34.080000|         31.000000|2402.000000|    632.000000|2830.000000| 603.000000|     2.333300|     164200.000000|\n",
            "|-118.240000|33.980000|         45.000000| 972.000000|    249.000000|1288.000000| 261.000000|     2.205400|     125000.000000|\n",
            "|-119.120000|35.850000|         37.000000| 736.000000|    166.000000| 564.000000| 138.000000|     2.416700|      58300.000000|\n",
            "|-121.930000|37.250000|         36.000000|1089.000000|    182.000000| 535.000000| 170.000000|     4.690000|     252600.000000|\n",
            "|-117.030000|32.970000|         16.000000|3936.000000|    694.000000|1935.000000| 659.000000|     4.562500|     231200.000000|\n",
            "|-117.970000|33.730000|         27.000000|2097.000000|    325.000000|1217.000000| 331.000000|     5.712100|     222500.000000|\n",
            "|-117.990000|33.810000|         42.000000| 161.000000|     40.000000| 157.000000|  50.000000|     2.200000|     153100.000000|\n",
            "|-120.810000|37.530000|         15.000000| 570.000000|    123.000000| 189.000000| 107.000000|     1.875000|     181300.000000|\n",
            "|-121.200000|38.690000|         26.000000|3077.000000|    607.000000|1603.000000| 595.000000|     2.717400|     137500.000000|\n",
            "|-118.880000|34.210000|         26.000000|1590.000000|    196.000000| 654.000000| 199.000000|     6.585100|     300000.000000|\n",
            "|-122.590000|38.010000|         35.000000|8814.000000|   1307.000000|3450.000000|1258.000000|     6.172400|     414300.000000|\n",
            "+-----------+---------+------------------+-----------+--------------+-----------+-----------+-------------+------------------+\n",
            "only showing top 20 rows\n",
            "\n"
          ]
        }
      ]
    },
    {
      "cell_type": "code",
      "source": [],
      "metadata": {
        "id": "6FFUspUJsL3Z"
      },
      "execution_count": null,
      "outputs": []
    }
  ]
}